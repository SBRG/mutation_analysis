{
 "cells": [
  {
   "cell_type": "markdown",
   "metadata": {
    "deletable": true,
    "editable": true
   },
   "source": [
    "# Test hypothesis that EfeU is fragmented in the same way across all strains\n",
    "# Null: EfeU fragmentation does not follow an observable consistent pattern\n",
    "\n",
    "## Approach\n",
    "1. Determine all possible frameshift locations that would bring stop codon in frame, causing fragmentation\n",
    "    - If only one possible location, then there is one pattern that all strains used\n",
    "    - if multiple alternatives, see which ones strains used based on fragment lengths\n",
    "        - if strains fragment at different locations, we can now explain why.\n",
    "        - if all strains used the same location despite multiple possible locations, try to explain why        "
   ]
  },
  {
   "cell_type": "markdown",
   "metadata": {
    "deletable": true,
    "editable": true
   },
   "source": [
    "### PATRIC CLI commands\n",
    "#### Final command:\n",
    "`p3-get-feature-data < efeU_products_all.tbl --attr na_sequence --col=feature.patric_id > efeU_seqs_all.tbl`\n",
    "\n",
    "where efeU_products_all.tbl created from downloaded table of efeU ids (faster than using API for that first step).\n",
    "\n",
    "#### Other commands\n",
    "- `p3-all-genomes --eq \"genome_name,Escherichia`\n",
    "- `p3-get-genome-features --eq product,efeU`\n",
    "- `p3-get-genome-features --eq feature_type,CDS --attr patric_id,sequence_id,location,product >features.tbl`\n",
    "- `p3-get-feature-data --attr na_sequence --col=feature.patric_id`"
   ]
  },
  {
   "cell_type": "code",
   "execution_count": 5,
   "metadata": {
    "collapsed": true,
    "deletable": true,
    "editable": true
   },
   "outputs": [],
   "source": [
    "import pandas as pd\n",
    "import seaborn as sns\n",
    "import matplotlib.pyplot as plt\n",
    "plt.rcParams['svg.fonttype'] = 'none'\n",
    "\n",
    "%matplotlib inline"
   ]
  },
  {
   "cell_type": "markdown",
   "metadata": {
    "deletable": true,
    "editable": true
   },
   "source": [
    "### Load PATRIC result and filter out some rows"
   ]
  },
  {
   "cell_type": "code",
   "execution_count": 6,
   "metadata": {
    "collapsed": true,
    "deletable": true,
    "editable": true
   },
   "outputs": [],
   "source": [
    "COL_ID = 'Genome ID'"
   ]
  },
  {
   "cell_type": "code",
   "execution_count": 7,
   "metadata": {
    "collapsed": false,
    "deletable": true,
    "editable": true
   },
   "outputs": [
    {
     "name": "stdout",
     "output_type": "stream",
     "text": [
      "(12626, 21)\n"
     ]
    }
   ],
   "source": [
    "patric = pd.read_csv('/home/laurence/ME/data/Amitesh/PATRIC_genome_feature_efeU.csv', dtype={'Genome ID':object})\n",
    "exclude_genomes = ['Escherichia coli', 'Escherichia coli DSM 30083 = JCM 1649 = ATCC 11775']\n",
    "patric = patric[~patric.Genome.isin(exclude_genomes)]   # want specific strains\n",
    "print(patric.shape)"
   ]
  },
  {
   "cell_type": "code",
   "execution_count": 8,
   "metadata": {
    "collapsed": false,
    "deletable": true,
    "editable": true
   },
   "outputs": [],
   "source": [
    "#ids120\n",
    "def split_names(x):\n",
    "    genome = x['Genome']\n",
    "    substrs = genome.split(' ')\n",
    "    genus = substrs[0].strip()\n",
    "    species = substrs[1].strip()\n",
    "    k = 3\n",
    "    strain = substrs[2].strip()\n",
    "    if strain=='strain' or strain=='str.':\n",
    "        strain = substrs[3]\n",
    "        k = 4    \n",
    "    sub = ' '.join(substrs[k:]) if len(substrs)>k else ''\n",
    "    return pd.Series({\n",
    "        'Genome ID':x['Genome ID'],\n",
    "        'genus':genus, 'species':species, 'strain':strain, 'sub':sub\n",
    "    })\n",
    "\n",
    "df_names = patric[['Genome','Genome ID']].drop_duplicates()\n",
    "sub_names = df_names.apply(split_names, axis=1)\n",
    "\n",
    "sub_names.species.unique()\n",
    "sub_names[ sub_names.species=='marmotae']\n",
    "\n",
    "sub_names.species.unique()\n",
    "\n",
    "keep_species = ['coli'] #,'sp.']\n",
    "ecoli_names = sub_names[ sub_names.species.isin(keep_species)]\n",
    "ecoli_names['Genome ID'].unique().shape\n",
    "\n",
    "ecoli_names.to_csv('only_ecoli_names.csv', index=False)"
   ]
  },
  {
   "cell_type": "code",
   "execution_count": 9,
   "metadata": {
    "collapsed": false
   },
   "outputs": [
    {
     "name": "stdout",
     "output_type": "stream",
     "text": [
      "E coli: 12117\n"
     ]
    },
    {
     "data": {
      "text/plain": [
       "(12479, 21)"
      ]
     },
     "execution_count": 9,
     "metadata": {},
     "output_type": "execute_result"
    }
   ],
   "source": [
    "ecoli_ids = ecoli_names['Genome ID'].unique()\n",
    "print(\"E coli: %d\"%len(ecoli_ids))\n",
    "\n",
    "patric = patric[ patric['Genome ID'].isin(ecoli_ids)]\n",
    "patric.shape"
   ]
  },
  {
   "cell_type": "code",
   "execution_count": 10,
   "metadata": {
    "collapsed": false,
    "deletable": true,
    "editable": true
   },
   "outputs": [
    {
     "name": "stderr",
     "output_type": "stream",
     "text": [
      "/usr/lib/python2.7/site-packages/pandas/core/frame.py:3027: SettingWithCopyWarning: \n",
      "A value is trying to be set on a copy of a slice from a DataFrame\n",
      "\n",
      "See the caveats in the documentation: http://pandas.pydata.org/pandas-docs/stable/indexing.html#indexing-view-versus-copy\n",
      "  return super(DataFrame, self).rename(**kwargs)\n"
     ]
    }
   ],
   "source": [
    "#efeU_table = patric[['Genome ID','PATRIC ID','RefSeq Locus Tag','Feature ID','Feature Type','Gene Symbol','Product']]\n",
    "efeU_table = patric[['Genome ID','PATRIC ID','RefSeq Locus Tag','Product']]\n",
    "efeU_table.rename(columns={'Genome ID':'genome.genome_id', 'PATRIC ID':'feature.patric_id', \n",
    "                           'RefSeq Locus Tag':'feature.refseq_locus_tag', 'Product':'feature.product'}, inplace=True)\n",
    "\n",
    "### WRITE TO FILE -- already did it\n",
    "#efeU_table.to_csv('efeU_products_all.tbl', sep='\\t', index=False)"
   ]
  },
  {
   "cell_type": "markdown",
   "metadata": {
    "deletable": true,
    "editable": true
   },
   "source": [
    "## Check for all possible deletions bringing stop codon in frame"
   ]
  },
  {
   "cell_type": "code",
   "execution_count": 11,
   "metadata": {
    "collapsed": true,
    "deletable": true,
    "editable": true
   },
   "outputs": [],
   "source": [
    "import re\n",
    "from six import iteritems\n",
    "\n",
    "stop_codons = ['tga','tag','taa']\n",
    "\n",
    "def frameshift_sequence(seq, i):\n",
    "    i1 = max(0,i)\n",
    "    i2 = i+1\n",
    "    seq2 = seq[0:i1] + seq[i2:]\n",
    "    return seq2\n",
    "\n",
    "def enum_fragment_locs(seq, simple_output=True):\n",
    "    \"\"\"\n",
    "    Enumerate all locations where frameshift would\n",
    "    bring stop codon in frame\n",
    "    \"\"\"    \n",
    "    seq_len = len(seq)\n",
    "    seq_dict = {}\n",
    "    for i in range(3,seq_len-1):\n",
    "        seq2 = frameshift_sequence(seq,i)\n",
    "        #print('seq2:', seq2)\n",
    "        ### Check 3 at a time\n",
    "        stop_dict = {}\n",
    "        for j in range(0,len(seq2),3):\n",
    "            cod = seq2[j:(j+3)]\n",
    "            #print(cod)\n",
    "            if len(cod)==3 and cod in stop_codons:\n",
    "                stop_dict[j]=cod\n",
    "        #stop_dict = {codon: [m.start() for m in re.finditer(codon, seq2)] for codon in stop_codons}\n",
    "        #stop_dict = {m.start():codon for codon in stop_codons for m in re.finditer(codon,seq2)}\n",
    "        seq_dict[i] = stop_dict\n",
    "\n",
    "    if simple_output:\n",
    "        locs = [idel for idel,vdel in iteritems(seq_dict) if len(vdel)>0]\n",
    "        return locs\n",
    "    else:\n",
    "        return seq_dict"
   ]
  },
  {
   "cell_type": "code",
   "execution_count": 12,
   "metadata": {
    "collapsed": false,
    "deletable": true,
    "editable": true
   },
   "outputs": [
    {
     "name": "stdout",
     "output_type": "stream",
     "text": [
      "{3: {}, 4: {}, 5: {3: 'tag'}, 6: {}, 7: {}}\n"
     ]
    },
    {
     "data": {
      "text/plain": [
       "[5]"
      ]
     },
     "execution_count": 12,
     "metadata": {},
     "output_type": "execute_result"
    }
   ],
   "source": [
    "sb = 'atgtacggg'.lower()\n",
    "print(enum_fragment_locs(sb, simple_output=False))\n",
    "enum_fragment_locs(sb)"
   ]
  },
  {
   "cell_type": "code",
   "execution_count": 13,
   "metadata": {
    "collapsed": true,
    "deletable": true,
    "editable": true
   },
   "outputs": [],
   "source": [
    "df_seqs = pd.read_csv('efeU_seqs_all.tbl', sep='\\t')\n",
    "df_seqs.loc[:,'genome.genome_id'] = df_seqs['genome.genome_id'].apply(str)\n",
    "df_seqs.loc[:,'length'] = df_seqs['feature.na_sequence'].apply(len)"
   ]
  },
  {
   "cell_type": "code",
   "execution_count": 14,
   "metadata": {
    "collapsed": false,
    "deletable": true,
    "editable": true
   },
   "outputs": [
    {
     "name": "stdout",
     "output_type": "stream",
     "text": [
      "[1. 2. 3. 4.]\n"
     ]
    },
    {
     "data": {
      "text/plain": [
       "(376, 5)"
      ]
     },
     "execution_count": 14,
     "metadata": {},
     "output_type": "execute_result"
    }
   ],
   "source": [
    "import pandas as pd\n",
    "import numpy as np\n",
    "\n",
    "dsplot_frag = df_seqs[ df_seqs.length < 831]\n",
    "dsplot_frag = dsplot_frag.sort_values('length')\n",
    "dsplot = dsplot_frag.groupby('genome.genome_id').apply(lambda x: pd.Series({\n",
    "    'n_fragments':len(x['length']),\n",
    "    'fragment1':x['length'].min(),\n",
    "    'fragment2':x['length'].max() if len(x['length'])>1 else np.nan,\n",
    "    'total_length':x['length'].sum()\n",
    "})).reset_index()\n",
    "print(dsplot.n_fragments.unique())\n",
    "dsplot = dsplot.sort_values('fragment1')\n",
    "dsplot.shape"
   ]
  },
  {
   "cell_type": "code",
   "execution_count": 15,
   "metadata": {
    "collapsed": false,
    "deletable": true,
    "editable": true
   },
   "outputs": [
    {
     "name": "stdout",
     "output_type": "stream",
     "text": [
      "376\n",
      "234\n"
     ]
    }
   ],
   "source": [
    "print len(dsplot['genome.genome_id'].unique())\n",
    "print len(dsplot[dsplot.n_fragments==2]['genome.genome_id'].unique())"
   ]
  },
  {
   "cell_type": "code",
   "execution_count": 17,
   "metadata": {
    "collapsed": false,
    "deletable": true,
    "editable": true
   },
   "outputs": [
    {
     "data": {
      "text/html": [
       "<div>\n",
       "<style scoped>\n",
       "    .dataframe tbody tr th:only-of-type {\n",
       "        vertical-align: middle;\n",
       "    }\n",
       "\n",
       "    .dataframe tbody tr th {\n",
       "        vertical-align: top;\n",
       "    }\n",
       "\n",
       "    .dataframe thead th {\n",
       "        text-align: right;\n",
       "    }\n",
       "</style>\n",
       "<table border=\"1\" class=\"dataframe\">\n",
       "  <thead>\n",
       "    <tr style=\"text-align: right;\">\n",
       "      <th></th>\n",
       "      <th>genome.genome_id</th>\n",
       "      <th>fragment1</th>\n",
       "      <th>fragment2</th>\n",
       "      <th>n_fragments</th>\n",
       "      <th>total_length</th>\n",
       "    </tr>\n",
       "  </thead>\n",
       "  <tbody>\n",
       "    <tr>\n",
       "      <th>375</th>\n",
       "      <td>879462.4</td>\n",
       "      <td>120.0</td>\n",
       "      <td>720.0</td>\n",
       "      <td>2.0</td>\n",
       "      <td>840.0</td>\n",
       "    </tr>\n",
       "    <tr>\n",
       "      <th>327</th>\n",
       "      <td>562.7808</td>\n",
       "      <td>120.0</td>\n",
       "      <td>720.0</td>\n",
       "      <td>2.0</td>\n",
       "      <td>840.0</td>\n",
       "    </tr>\n",
       "    <tr>\n",
       "      <th>328</th>\n",
       "      <td>562.7809</td>\n",
       "      <td>120.0</td>\n",
       "      <td>720.0</td>\n",
       "      <td>2.0</td>\n",
       "      <td>840.0</td>\n",
       "    </tr>\n",
       "    <tr>\n",
       "      <th>67</th>\n",
       "      <td>511145.616</td>\n",
       "      <td>120.0</td>\n",
       "      <td>720.0</td>\n",
       "      <td>2.0</td>\n",
       "      <td>840.0</td>\n",
       "    </tr>\n",
       "    <tr>\n",
       "      <th>68</th>\n",
       "      <td>511145.648</td>\n",
       "      <td>120.0</td>\n",
       "      <td>720.0</td>\n",
       "      <td>2.0</td>\n",
       "      <td>840.0</td>\n",
       "    </tr>\n",
       "    <tr>\n",
       "      <th>66</th>\n",
       "      <td>511145.209</td>\n",
       "      <td>120.0</td>\n",
       "      <td>720.0</td>\n",
       "      <td>2.0</td>\n",
       "      <td>840.0</td>\n",
       "    </tr>\n",
       "    <tr>\n",
       "      <th>60</th>\n",
       "      <td>511145.182</td>\n",
       "      <td>120.0</td>\n",
       "      <td>720.0</td>\n",
       "      <td>2.0</td>\n",
       "      <td>840.0</td>\n",
       "    </tr>\n",
       "    <tr>\n",
       "      <th>61</th>\n",
       "      <td>511145.183</td>\n",
       "      <td>120.0</td>\n",
       "      <td>720.0</td>\n",
       "      <td>2.0</td>\n",
       "      <td>840.0</td>\n",
       "    </tr>\n",
       "    <tr>\n",
       "      <th>57</th>\n",
       "      <td>511145.12</td>\n",
       "      <td>120.0</td>\n",
       "      <td>720.0</td>\n",
       "      <td>2.0</td>\n",
       "      <td>840.0</td>\n",
       "    </tr>\n",
       "    <tr>\n",
       "      <th>62</th>\n",
       "      <td>511145.184</td>\n",
       "      <td>120.0</td>\n",
       "      <td>720.0</td>\n",
       "      <td>2.0</td>\n",
       "      <td>840.0</td>\n",
       "    </tr>\n",
       "    <tr>\n",
       "      <th>63</th>\n",
       "      <td>511145.185</td>\n",
       "      <td>120.0</td>\n",
       "      <td>720.0</td>\n",
       "      <td>2.0</td>\n",
       "      <td>840.0</td>\n",
       "    </tr>\n",
       "    <tr>\n",
       "      <th>64</th>\n",
       "      <td>511145.186</td>\n",
       "      <td>120.0</td>\n",
       "      <td>720.0</td>\n",
       "      <td>2.0</td>\n",
       "      <td>840.0</td>\n",
       "    </tr>\n",
       "    <tr>\n",
       "      <th>65</th>\n",
       "      <td>511145.208</td>\n",
       "      <td>120.0</td>\n",
       "      <td>720.0</td>\n",
       "      <td>2.0</td>\n",
       "      <td>840.0</td>\n",
       "    </tr>\n",
       "    <tr>\n",
       "      <th>59</th>\n",
       "      <td>511145.181</td>\n",
       "      <td>120.0</td>\n",
       "      <td>720.0</td>\n",
       "      <td>2.0</td>\n",
       "      <td>840.0</td>\n",
       "    </tr>\n",
       "  </tbody>\n",
       "</table>\n",
       "</div>"
      ],
      "text/plain": [
       "    genome.genome_id  fragment1  fragment2  n_fragments  total_length\n",
       "375         879462.4      120.0      720.0          2.0         840.0\n",
       "327         562.7808      120.0      720.0          2.0         840.0\n",
       "328         562.7809      120.0      720.0          2.0         840.0\n",
       "67        511145.616      120.0      720.0          2.0         840.0\n",
       "68        511145.648      120.0      720.0          2.0         840.0\n",
       "66        511145.209      120.0      720.0          2.0         840.0\n",
       "60        511145.182      120.0      720.0          2.0         840.0\n",
       "61        511145.183      120.0      720.0          2.0         840.0\n",
       "57         511145.12      120.0      720.0          2.0         840.0\n",
       "62        511145.184      120.0      720.0          2.0         840.0\n",
       "63        511145.185      120.0      720.0          2.0         840.0\n",
       "64        511145.186      120.0      720.0          2.0         840.0\n",
       "65        511145.208      120.0      720.0          2.0         840.0\n",
       "59        511145.181      120.0      720.0          2.0         840.0"
      ]
     },
     "execution_count": 17,
     "metadata": {},
     "output_type": "execute_result"
    }
   ],
   "source": [
    "k12_ids = patric[ patric['Genome'].str.contains('MG1655')]['Genome ID'].unique()\n",
    "dsplot[ dsplot['genome.genome_id'].isin(k12_ids)]"
   ]
  },
  {
   "cell_type": "code",
   "execution_count": 18,
   "metadata": {
    "collapsed": false,
    "deletable": true,
    "editable": true
   },
   "outputs": [
    {
     "name": "stdout",
     "output_type": "stream",
     "text": [
      "Total lengths: 819--819.\tLength 1 = 99. (2 / 234 =0.855%)\n",
      "Total lengths: 918--918.\tLength 1 = 111. (1 / 234 =0.427%)\n",
      "Total lengths: 825--825.\tLength 1 = 117. (4 / 234 =1.71%)\n",
      "Total lengths: 840--840.\tLength 1 = 120. (161 / 234 =68.8%)\n",
      "Total lengths: 618--657.\tLength 1 = 132. (2 / 234 =0.855%)\n",
      "Total lengths: 777--777.\tLength 1 = 135. (1 / 234 =0.427%)\n",
      "Total lengths: 921--921.\tLength 1 = 141. (1 / 234 =0.427%)\n",
      "Total lengths: 297--297.\tLength 1 = 147. (1 / 234 =0.427%)\n",
      "Total lengths: 384--384.\tLength 1 = 162. (1 / 234 =0.427%)\n",
      "Total lengths: 723--1005.\tLength 1 = 177. (14 / 234 =5.98%)\n",
      "Total lengths: 789--789.\tLength 1 = 186. (1 / 234 =0.427%)\n",
      "Total lengths: 807--807.\tLength 1 = 189. (1 / 234 =0.427%)\n",
      "Total lengths: 705--705.\tLength 1 = 195. (1 / 234 =0.427%)\n",
      "Total lengths: 801--807.\tLength 1 = 198. (5 / 234 =2.14%)\n",
      "Total lengths: 702--819.\tLength 1 = 216. (2 / 234 =0.855%)\n",
      "Total lengths: 834--834.\tLength 1 = 231. (2 / 234 =0.855%)\n",
      "Total lengths: 855--855.\tLength 1 = 237. (1 / 234 =0.427%)\n",
      "Total lengths: 672--894.\tLength 1 = 243. (8 / 234 =3.42%)\n",
      "Total lengths: 531--531.\tLength 1 = 246. (1 / 234 =0.427%)\n",
      "Total lengths: 744--744.\tLength 1 = 258. (1 / 234 =0.427%)\n",
      "Total lengths: 873--873.\tLength 1 = 282. (1 / 234 =0.427%)\n",
      "Total lengths: 807--855.\tLength 1 = 300. (8 / 234 =3.42%)\n",
      "Total lengths: 846--846.\tLength 1 = 309. (1 / 234 =0.427%)\n",
      "Total lengths: 789--789.\tLength 1 = 318. (1 / 234 =0.427%)\n",
      "Total lengths: 774--879.\tLength 1 = 333. (5 / 234 =2.14%)\n",
      "Total lengths: 831--831.\tLength 1 = 360. (2 / 234 =0.855%)\n",
      "Total lengths: 750--918.\tLength 1 = 369. (3 / 234 =1.28%)\n",
      "Total lengths: 1023--1023.\tLength 1 = 420. (1 / 234 =0.427%)\n",
      "Total lengths: 894--894.\tLength 1 = 426. (1 / 234 =0.427%)\n"
     ]
    }
   ],
   "source": [
    "dsplot2 = dsplot[ dsplot.n_fragments==2]\n",
    "from __future__ import division\n",
    "\n",
    "n1s =dsplot2.fragment1.unique()\n",
    "for n1 in n1s:\n",
    "    dfi = dsplot2[ dsplot2.fragment1==n1]\n",
    "    ntotmin = dfi.total_length.min()\n",
    "    ntotmax = dfi.total_length.max()    \n",
    "    print(\"Total lengths: %d--%d.\\tLength 1 = %d. (%d / %d =%.3g%%)\" % (ntotmin,ntotmax,n1, dfi.shape[0], dsplot2.shape[0], 100*dfi.shape[0]/dsplot2.shape[0]))\n",
    "    #print(n1, dfi.shape[0])"
   ]
  },
  {
   "cell_type": "code",
   "execution_count": 19,
   "metadata": {
    "collapsed": false,
    "deletable": true,
    "editable": true
   },
   "outputs": [
    {
     "name": "stdout",
     "output_type": "stream",
     "text": [
      "(150.0, 828.0)\n"
     ]
    }
   ],
   "source": [
    "print(dsplot2.fragment2.min(), dsplot2.fragment2.max())"
   ]
  },
  {
   "cell_type": "code",
   "execution_count": 20,
   "metadata": {
    "collapsed": false,
    "deletable": true,
    "editable": true
   },
   "outputs": [
    {
     "name": "stdout",
     "output_type": "stream",
     "text": [
      "Total lengths: 297--297.\tLength 2 = 150. (1 / 234 =0.427%)\n",
      "Total lengths: 384--384.\tLength 2 = 222. (1 / 234 =0.427%)\n",
      "Total lengths: 531--531.\tLength 2 = 285. (1 / 234 =0.427%)\n",
      "Total lengths: 750--750.\tLength 2 = 381. (1 / 234 =0.427%)\n",
      "Total lengths: 672--672.\tLength 2 = 429. (1 / 234 =0.427%)\n",
      "Total lengths: 774--774.\tLength 2 = 441. (1 / 234 =0.427%)\n",
      "Total lengths: 894--894.\tLength 2 = 468. (1 / 234 =0.427%)\n",
      "Total lengths: 789--831.\tLength 2 = 471. (3 / 234 =1.28%)\n",
      "Total lengths: 618--744.\tLength 2 = 486. (3 / 234 =1.28%)\n",
      "Total lengths: 861--861.\tLength 2 = 492. (1 / 234 =0.427%)\n",
      "Total lengths: 834--834.\tLength 2 = 501. (1 / 234 =0.427%)\n",
      "Total lengths: 807--807.\tLength 2 = 507. (1 / 234 =0.427%)\n",
      "Total lengths: 705--705.\tLength 2 = 510. (1 / 234 =0.427%)\n",
      "Total lengths: 657--657.\tLength 2 = 525. (1 / 234 =0.427%)\n",
      "Total lengths: 846--846.\tLength 2 = 537. (1 / 234 =0.427%)\n",
      "Total lengths: 723--879.\tLength 2 = 546. (8 / 234 =3.42%)\n",
      "Total lengths: 918--918.\tLength 2 = 549. (1 / 234 =0.427%)\n",
      "Total lengths: 855--855.\tLength 2 = 555. (4 / 234 =1.71%)\n",
      "Total lengths: 819--819.\tLength 2 = 576. (1 / 234 =0.427%)\n",
      "Total lengths: 834--873.\tLength 2 = 591. (5 / 234 =2.14%)\n",
      "Total lengths: 837--837.\tLength 2 = 594. (1 / 234 =0.427%)\n",
      "Total lengths: 789--1023.\tLength 2 = 603. (9 / 234 =3.85%)\n",
      "Total lengths: 807--807.\tLength 2 = 609. (1 / 234 =0.427%)\n",
      "Total lengths: 792--792.\tLength 2 = 615. (1 / 234 =0.427%)\n",
      "Total lengths: 807--855.\tLength 2 = 618. (2 / 234 =0.855%)\n",
      "Total lengths: 801--801.\tLength 2 = 624. (1 / 234 =0.427%)\n",
      "Total lengths: 804--804.\tLength 2 = 627. (1 / 234 =0.427%)\n",
      "Total lengths: 777--819.\tLength 2 = 642. (2 / 234 =0.855%)\n",
      "Total lengths: 894--894.\tLength 2 = 651. (1 / 234 =0.427%)\n",
      "Total lengths: 834--834.\tLength 2 = 657. (7 / 234 =2.99%)\n",
      "Total lengths: 825--825.\tLength 2 = 708. (4 / 234 =1.71%)\n",
      "Total lengths: 819--840.\tLength 2 = 720. (163 / 234 =69.7%)\n",
      "Total lengths: 921--921.\tLength 2 = 780. (1 / 234 =0.427%)\n",
      "Total lengths: 918--918.\tLength 2 = 807. (1 / 234 =0.427%)\n",
      "Total lengths: 1005--1005.\tLength 2 = 828. (1 / 234 =0.427%)\n"
     ]
    }
   ],
   "source": [
    "n2s = sorted(dsplot2.fragment2.unique())\n",
    "for n2 in n2s:\n",
    "    dfi = dsplot2[ dsplot2.fragment2==n2]\n",
    "    ntotmin = dfi.total_length.min()\n",
    "    ntotmax = dfi.total_length.max()    \n",
    "    print(\"Total lengths: %d--%d.\\tLength 2 = %d. (%d / %d =%.3g%%)\" % (ntotmin,ntotmax,n2, dfi.shape[0], dsplot2.shape[0], 100*dfi.shape[0]/dsplot2.shape[0]))"
   ]
  },
  {
   "cell_type": "code",
   "execution_count": 21,
   "metadata": {
    "collapsed": false,
    "deletable": true,
    "editable": true
   },
   "outputs": [
    {
     "data": {
      "text/plain": [
       "array([2.])"
      ]
     },
     "execution_count": 21,
     "metadata": {},
     "output_type": "execute_result"
    }
   ],
   "source": [
    "dsplot2.n_fragments.unique()"
   ]
  },
  {
   "cell_type": "code",
   "execution_count": 22,
   "metadata": {
    "collapsed": false,
    "deletable": true,
    "editable": true
   },
   "outputs": [
    {
     "data": {
      "text/html": [
       "<div>\n",
       "<style scoped>\n",
       "    .dataframe tbody tr th:only-of-type {\n",
       "        vertical-align: middle;\n",
       "    }\n",
       "\n",
       "    .dataframe tbody tr th {\n",
       "        vertical-align: top;\n",
       "    }\n",
       "\n",
       "    .dataframe thead th {\n",
       "        text-align: right;\n",
       "    }\n",
       "</style>\n",
       "<table border=\"1\" class=\"dataframe\">\n",
       "  <thead>\n",
       "    <tr style=\"text-align: right;\">\n",
       "      <th></th>\n",
       "      <th>genome.genome_id</th>\n",
       "      <th>variable</th>\n",
       "      <th>value</th>\n",
       "    </tr>\n",
       "  </thead>\n",
       "  <tbody>\n",
       "    <tr>\n",
       "      <th>0</th>\n",
       "      <td>562.22905</td>\n",
       "      <td>fragment1</td>\n",
       "      <td>99.0</td>\n",
       "    </tr>\n",
       "    <tr>\n",
       "      <th>1</th>\n",
       "      <td>562.23196</td>\n",
       "      <td>fragment1</td>\n",
       "      <td>99.0</td>\n",
       "    </tr>\n",
       "  </tbody>\n",
       "</table>\n",
       "</div>"
      ],
      "text/plain": [
       "  genome.genome_id   variable  value\n",
       "0        562.22905  fragment1   99.0\n",
       "1        562.23196  fragment1   99.0"
      ]
     },
     "execution_count": 22,
     "metadata": {},
     "output_type": "execute_result"
    }
   ],
   "source": [
    "dsplotm = dsplot2[['genome.genome_id','fragment1','fragment2']].melt(id_vars='genome.genome_id')\n",
    "dsplotm.head(2)"
   ]
  },
  {
   "cell_type": "code",
   "execution_count": 23,
   "metadata": {
    "collapsed": false,
    "deletable": true,
    "editable": true
   },
   "outputs": [
    {
     "data": {
      "image/png": "[encoded data removed]",
      "text/plain": [
       "<matplotlib.figure.Figure at 0x7f58b3de8090>"
      ]
     },
     "metadata": {},
     "output_type": "display_data"
    }
   ],
   "source": [
    "g = sns.FacetGrid(dsplotm, hue='variable', size=4, aspect=1.33)\n",
    "g.map(sns.kdeplot, 'value', shade=True)\n",
    "g.set_xlabels('Sequence length (bp)')\n",
    "g.set_ylabels('Density')\n",
    "g.set(xticks=range(0,1000,100))\n",
    "g.add_legend(title='')\n",
    "g.savefig('/home/laurence/ME/figures/efeU/density_2_fragments_R01_062818.svg')\n",
    "g.savefig('/home/laurence/ME/figures/efeU/density_2_fragments_R01_062818.pdf')\n",
    "g.savefig('/home/laurence/ME/figures/efeU/density_2_fragments_R01_062818.png')"
   ]
  },
  {
   "cell_type": "code",
   "execution_count": 24,
   "metadata": {
    "collapsed": false,
    "deletable": true,
    "editable": true
   },
   "outputs": [
    {
     "data": {
      "text/plain": [
       "<seaborn.axisgrid.FacetGrid at 0x7f58b4772f90>"
      ]
     },
     "execution_count": 24,
     "metadata": {},
     "output_type": "execute_result"
    },
    {
     "data": {
      "image/png": "[encoded data removed]",
      "text/plain": [
       "<matplotlib.figure.Figure at 0x7f58b448f5d0>"
      ]
     },
     "metadata": {},
     "output_type": "display_data"
    }
   ],
   "source": [
    "g = sns.FacetGrid(dsplotm, hue='variable', size=4, aspect=1.33)\n",
    "g.map(sns.distplot, 'value')\n",
    "g.set_xlabels('Sequence length (bp)')\n",
    "g.set_ylabels('Density')\n",
    "g.set(xticks=range(0,1000,100))\n",
    "g.add_legend(title='')"
   ]
  },
  {
   "cell_type": "code",
   "execution_count": 207,
   "metadata": {
    "collapsed": false,
    "deletable": true,
    "editable": true
   },
   "outputs": [],
   "source": [
    "import matplotlib.pyplot as plt\n",
    "\n",
    "#dsplot2 = dsplot.melt(id_vars='genome.genome_id')\n",
    "#dsplot2.set_index('genome.genome_id')\n",
    "#dsplot2.plot(kind='bar', stacked=True)\n",
    "#g = sns.FacetGrid(dsplot2, hue='variable')\n",
    "#g.map(plt.bar, 'genome.genome_id', 'value')\n",
    "#sns.barplot(y='genome.genome_id', x='value', data=dsplot2, hue='variable')"
   ]
  },
  {
   "cell_type": "code",
   "execution_count": 47,
   "metadata": {
    "collapsed": false,
    "deletable": true,
    "editable": true
   },
   "outputs": [
    {
     "name": "stdout",
     "output_type": "stream",
     "text": [
      "CPU times: user 6min 43s, sys: 134 ms, total: 6min 44s\n",
      "Wall time: 6min 44s\n"
     ]
    }
   ],
   "source": [
    "%%time\n",
    "rows = []\n",
    "for ir,row in df_seqs.iterrows():\n",
    "#for ir,row in df_seqs[0:5].iterrows():\n",
    "    seq = row['feature.na_sequence']\n",
    "    frag_locs = enum_fragment_locs(seq)\n",
    "    #if frag_locs:\n",
    "    rows.append({'Genome ID':str(row['genome.genome_id']),\n",
    "                 'PATRIC ID':row['feature.patric_id'],\n",
    "                 'Fragment_locs':frag_locs})\n",
    "        \n",
    "df_frag = pd.DataFrame(rows)"
   ]
  },
  {
   "cell_type": "code",
   "execution_count": 48,
   "metadata": {
    "collapsed": false,
    "deletable": true,
    "editable": true
   },
   "outputs": [],
   "source": [
    "#df_result = pd.merge(df_frag, patric, on=['Genome ID','PATRIC ID'], how='right')\n",
    "df_result = pd.merge(df_frag, patric, on=['Genome ID','PATRIC ID'])"
   ]
  },
  {
   "cell_type": "code",
   "execution_count": 49,
   "metadata": {
    "collapsed": false,
    "deletable": true,
    "editable": true
   },
   "outputs": [
    {
     "data": {
      "text/plain": [
       "(12626, 3)"
      ]
     },
     "execution_count": 49,
     "metadata": {},
     "output_type": "execute_result"
    }
   ],
   "source": [
    "df_frag.shape"
   ]
  },
  {
   "cell_type": "code",
   "execution_count": 50,
   "metadata": {
    "collapsed": false,
    "deletable": true,
    "editable": true
   },
   "outputs": [
    {
     "data": {
      "text/plain": [
       "(12626, 21)"
      ]
     },
     "execution_count": 50,
     "metadata": {},
     "output_type": "execute_result"
    }
   ],
   "source": [
    "patric.shape"
   ]
  },
  {
   "cell_type": "code",
   "execution_count": 51,
   "metadata": {
    "collapsed": false,
    "deletable": true,
    "editable": true
   },
   "outputs": [
    {
     "data": {
      "text/plain": [
       "(11603, 22)"
      ]
     },
     "execution_count": 51,
     "metadata": {},
     "output_type": "execute_result"
    }
   ],
   "source": [
    "df_result.shape"
   ]
  },
  {
   "cell_type": "code",
   "execution_count": 155,
   "metadata": {
    "collapsed": false,
    "deletable": true,
    "editable": true
   },
   "outputs": [
    {
     "data": {
      "text/plain": [
       "Fragment_locs                              [3, 4, 5, 6, 7, 8, 9, 10, 11, 12, 13, 14, 15, ...\n",
       "Genome ID                                                                          1001988.3\n",
       "PATRIC ID                                                              fig|1001988.3.peg.903\n",
       "Genome                                                               Escherichia coli PCN009\n",
       "Accession                                                                       AFAS01000028\n",
       "RefSeq Locus Tag                                                                 PPECC9_9220\n",
       "Alt Locus Tag                                                                            NaN\n",
       "Feature ID                                 PATRIC.1001988.3.AFAS01000028.CDS.13340.14170.fwd\n",
       "Annotation                                                                            PATRIC\n",
       "Feature Type                                                                             CDS\n",
       "Start                                                                                  13340\n",
       "End                                                                                    14170\n",
       "Length                                                                                   831\n",
       "Strand                                                                                     +\n",
       "FIGfam ID                                                                        FIG00002587\n",
       "PATRIC genus-specific families (PLfams)                                     PLF_561_00000696\n",
       "PATRIC cross-genus families (PGfams)                                            PGF_00004652\n",
       "Protein ID                                                                               NaN\n",
       "AA Length                                                                                276\n",
       "Gene Symbol                                                                              NaN\n",
       "Product                                                 Ferrous iron transport permease EfeU\n",
       "GO                                                                                       NaN\n",
       "frag_locs                                  3,4,5,6,7,8,9,10,11,12,13,14,15,16,17,18,19,20...\n",
       "Name: 0, dtype: object"
      ]
     },
     "execution_count": 155,
     "metadata": {},
     "output_type": "execute_result"
    }
   ],
   "source": [
    "df_result.iloc[0]"
   ]
  },
  {
   "cell_type": "code",
   "execution_count": 169,
   "metadata": {
    "collapsed": false,
    "deletable": true,
    "editable": true
   },
   "outputs": [
    {
     "name": "stdout",
     "output_type": "stream",
     "text": [
      "[691   0 805 760 775 692 808 772 653 724 799]\n"
     ]
    },
    {
     "data": {
      "text/plain": [
       "<matplotlib.axes._subplots.AxesSubplot at 0x7fb08489b350>"
      ]
     },
     "execution_count": 169,
     "metadata": {},
     "output_type": "execute_result"
    },
    {
     "data": {
      "image/png": "[encoded data removed]",
      "text/plain": [
       "<matplotlib.figure.Figure at 0x7fb0542c5690>"
      ]
     },
     "metadata": {},
     "output_type": "display_data"
    }
   ],
   "source": [
    "last_stops = df_result[ df_result.Length.isin([830,831])].Fragment_locs.apply(lambda x: len(x))\n",
    "print(last_stops).unique()\n",
    "last_stops.hist()"
   ]
  },
  {
   "cell_type": "code",
   "execution_count": 143,
   "metadata": {
    "collapsed": false,
    "deletable": true,
    "editable": true,
    "scrolled": true
   },
   "outputs": [
    {
     "data": {
      "text/plain": [
       "948"
      ]
     },
     "execution_count": 143,
     "metadata": {},
     "output_type": "execute_result"
    }
   ],
   "source": [
    "nonfrag_gids = df_result.loc[ frag_locs=='', 'Genome ID']\n",
    "df_nonfrag = df_seqs[ df_seqs['genome.genome_id'].isin(nonfrag_gids)]\n",
    "len(df_nonfrag[ df_nonfrag.length>=830]['genome.genome_id'].unique())"
   ]
  },
  {
   "cell_type": "code",
   "execution_count": 100,
   "metadata": {
    "collapsed": false,
    "deletable": true,
    "editable": true
   },
   "outputs": [],
   "source": [
    "df_result.loc[:,'frag_locs'] = df_result.Fragment_locs.apply(lambda x: ','.join([str(xi) for xi in x]))"
   ]
  },
  {
   "cell_type": "code",
   "execution_count": 106,
   "metadata": {
    "collapsed": false,
    "deletable": true,
    "editable": true
   },
   "outputs": [
    {
     "data": {
      "text/plain": [
       "Index([u'Fragment_locs', u'Genome ID', u'PATRIC ID', u'Genome', u'Accession',\n",
       "       u'RefSeq Locus Tag', u'Alt Locus Tag', u'Feature ID', u'Annotation',\n",
       "       u'Feature Type', u'Start', u'End', u'Length', u'Strand', u'FIGfam ID',\n",
       "       u'PATRIC genus-specific families (PLfams)',\n",
       "       u'PATRIC cross-genus families (PGfams)', u'Protein ID', u'AA Length',\n",
       "       u'Gene Symbol', u'Product', u'GO', u'frag_locs'],\n",
       "      dtype='object')"
      ]
     },
     "execution_count": 106,
     "metadata": {},
     "output_type": "execute_result"
    }
   ],
   "source": [
    "df_result.columns"
   ]
  },
  {
   "cell_type": "code",
   "execution_count": 111,
   "metadata": {
    "collapsed": false,
    "deletable": true,
    "editable": true
   },
   "outputs": [
    {
     "data": {
      "text/plain": [
       "(11002, 23)"
      ]
     },
     "execution_count": 111,
     "metadata": {},
     "output_type": "execute_result"
    }
   ],
   "source": [
    "df_res_full = df_result[ df_result.Length >= 830]\n",
    "df_res_full.shape"
   ]
  },
  {
   "cell_type": "code",
   "execution_count": 113,
   "metadata": {
    "collapsed": false,
    "deletable": true,
    "editable": true
   },
   "outputs": [
    {
     "data": {
      "text/plain": [
       "(948, 23)"
      ]
     },
     "execution_count": 113,
     "metadata": {},
     "output_type": "execute_result"
    }
   ],
   "source": [
    "df_res_full[df_res_full.frag_locs == ''].shape"
   ]
  },
  {
   "cell_type": "code",
   "execution_count": 114,
   "metadata": {
    "collapsed": false,
    "deletable": true,
    "editable": true
   },
   "outputs": [
    {
     "data": {
      "text/plain": [
       "(10054, 23)"
      ]
     },
     "execution_count": 114,
     "metadata": {},
     "output_type": "execute_result"
    }
   ],
   "source": [
    "df_res_full[df_res_full.frag_locs != ''].shape"
   ]
  },
  {
   "cell_type": "code",
   "execution_count": 115,
   "metadata": {
    "collapsed": false,
    "deletable": true,
    "editable": true
   },
   "outputs": [
    {
     "data": {
      "text/plain": [
       "0.0861661516087984"
      ]
     },
     "execution_count": 115,
     "metadata": {},
     "output_type": "execute_result"
    }
   ],
   "source": [
    "948. / 11002"
   ]
  },
  {
   "cell_type": "code",
   "execution_count": 116,
   "metadata": {
    "collapsed": false,
    "deletable": true,
    "editable": true
   },
   "outputs": [
    {
     "data": {
      "text/plain": [
       "0.9138338483912016"
      ]
     },
     "execution_count": 116,
     "metadata": {},
     "output_type": "execute_result"
    }
   ],
   "source": [
    "10054./ 11002"
   ]
  },
  {
   "cell_type": "code",
   "execution_count": 124,
   "metadata": {
    "collapsed": false,
    "deletable": true,
    "editable": true
   },
   "outputs": [
    {
     "data": {
      "text/plain": [
       "{0,\n",
       " 653,\n",
       " 691,\n",
       " 692,\n",
       " 700,\n",
       " 724,\n",
       " 760,\n",
       " 772,\n",
       " 774,\n",
       " 775,\n",
       " 799,\n",
       " 805,\n",
       " 808,\n",
       " 874,\n",
       " 1688,\n",
       " 1867,\n",
       " 1921}"
      ]
     },
     "execution_count": 124,
     "metadata": {},
     "output_type": "execute_result"
    }
   ],
   "source": [
    "set([len(s) for s in df_res_full.Fragment_locs])"
   ]
  },
  {
   "cell_type": "code",
   "execution_count": 133,
   "metadata": {
    "collapsed": false,
    "deletable": true,
    "editable": true
   },
   "outputs": [],
   "source": [
    "nonfrag_gids= df_res_full[ df_res_full.frag_locs=='']['Genome ID'].unique()"
   ]
  },
  {
   "cell_type": "code",
   "execution_count": null,
   "metadata": {
    "collapsed": true,
    "deletable": true,
    "editable": true
   },
   "outputs": [],
   "source": [
    "df_meta = pd.read_csv('/home/laurence/ME/data/Amitesh/PATRIC_genome.csv', dtype={'Genome ID':object})"
   ]
  },
  {
   "cell_type": "code",
   "execution_count": 146,
   "metadata": {
    "collapsed": false,
    "deletable": true,
    "editable": true,
    "scrolled": false
   },
   "outputs": [],
   "source": [
    "df_nonfrag_meta = df_meta[ df_meta['Genome ID'].isin(nonfrag_gids)]\n",
    "df_nonfrag_meta.to_csv('/home/laurence/ME/data/Amitesh/no_stopcodon_meta.csv', index=False)"
   ]
  },
  {
   "cell_type": "markdown",
   "metadata": {
    "deletable": true,
    "editable": true
   },
   "source": [
    "# Check if bias in fragmentation due to phylogeny vs. actual evolutionary trend"
   ]
  },
  {
   "cell_type": "code",
   "execution_count": 342,
   "metadata": {
    "collapsed": false,
    "deletable": true,
    "editable": true
   },
   "outputs": [],
   "source": [
    "from Bio import Phylo\n",
    "tree = Phylo.read('/home/laurence/ME/data/Amitesh/PATRIC_phylogeny_tree.nwk', 'newick')"
   ]
  },
  {
   "cell_type": "code",
   "execution_count": 371,
   "metadata": {
    "collapsed": false,
    "deletable": true,
    "editable": true
   },
   "outputs": [
    {
     "data": {
      "text/plain": [
       "1018"
      ]
     },
     "execution_count": 371,
     "metadata": {},
     "output_type": "execute_result"
    }
   ],
   "source": [
    "term_clades = tree.get_terminals()\n",
    "len(term_clades)"
   ]
  },
  {
   "cell_type": "code",
   "execution_count": 370,
   "metadata": {
    "collapsed": false,
    "deletable": true,
    "editable": true
   },
   "outputs": [
    {
     "data": {
      "text/plain": [
       "(20, 5)"
      ]
     },
     "execution_count": 370,
     "metadata": {},
     "output_type": "execute_result"
    }
   ],
   "source": [
    "clade_names = [c.name for c in term_clades]\n",
    "dsplot[ dsplot['genome.genome_id'].isin(clade_names)].shape"
   ]
  },
  {
   "cell_type": "code",
   "execution_count": 369,
   "metadata": {
    "collapsed": false,
    "deletable": true,
    "editable": true
   },
   "outputs": [
    {
     "data": {
      "text/plain": [
       "0.011196544699999998"
      ]
     },
     "execution_count": 369,
     "metadata": {},
     "output_type": "execute_result"
    }
   ],
   "source": [
    "tree.distance('478005.5', '199310.4')"
   ]
  },
  {
   "cell_type": "code",
   "execution_count": 373,
   "metadata": {
    "collapsed": false,
    "deletable": true,
    "editable": true
   },
   "outputs": [
    {
     "name": "stdout",
     "output_type": "stream",
     "text": [
      "1018\n",
      "0.0111965447\n"
     ]
    }
   ],
   "source": [
    "from Bio import Phylo\n",
    "tree = Phylo.read('/home/laurence/ME/data/Amitesh/PATRIC_phylogeny_tree_nissle.nwk', 'newick')\n",
    "term_clades = tree.get_terminals()\n",
    "print(len(term_clades))\n",
    "clade_names = [c.name for c in term_clades]\n",
    "dsplot[ dsplot['genome.genome_id'].isin(clade_names)].shape\n",
    "print(tree.distance('478005.5', '199310.4'))"
   ]
  },
  {
   "cell_type": "code",
   "execution_count": 376,
   "metadata": {
    "collapsed": false,
    "deletable": true,
    "editable": true
   },
   "outputs": [
    {
     "data": {
      "text/plain": [
       "161"
      ]
     },
     "execution_count": 376,
     "metadata": {},
     "output_type": "execute_result"
    }
   ],
   "source": [
    "ids120 = dsplot[ dsplot.fragment1==120]['genome.genome_id'].unique()\n",
    "len(ids120)"
   ]
  },
  {
   "cell_type": "code",
   "execution_count": 409,
   "metadata": {
    "collapsed": false,
    "deletable": true,
    "editable": true,
    "scrolled": true
   },
   "outputs": [],
   "source": [
    "# sorted(patric[ patric['Genome ID'].isin(ids120)]['Genome'].unique())"
   ]
  },
  {
   "cell_type": "markdown",
   "metadata": {
    "deletable": true,
    "editable": true
   },
   "source": [
    "# A: Simple first pass"
   ]
  },
  {
   "cell_type": "code",
   "execution_count": 25,
   "metadata": {
    "collapsed": false,
    "deletable": true,
    "editable": true
   },
   "outputs": [
    {
     "data": {
      "text/html": [
       "<div>\n",
       "<style scoped>\n",
       "    .dataframe tbody tr th:only-of-type {\n",
       "        vertical-align: middle;\n",
       "    }\n",
       "\n",
       "    .dataframe tbody tr th {\n",
       "        vertical-align: top;\n",
       "    }\n",
       "\n",
       "    .dataframe thead th {\n",
       "        text-align: right;\n",
       "    }\n",
       "</style>\n",
       "<table border=\"1\" class=\"dataframe\">\n",
       "  <thead>\n",
       "    <tr style=\"text-align: right;\">\n",
       "      <th></th>\n",
       "      <th>Genome ID</th>\n",
       "      <th>fragment1</th>\n",
       "      <th>fragment2</th>\n",
       "      <th>n_fragments</th>\n",
       "      <th>total_length</th>\n",
       "      <th>genus</th>\n",
       "      <th>species</th>\n",
       "      <th>strain</th>\n",
       "      <th>sub</th>\n",
       "    </tr>\n",
       "  </thead>\n",
       "  <tbody>\n",
       "    <tr>\n",
       "      <th>0</th>\n",
       "      <td>562.10529</td>\n",
       "      <td>81.0</td>\n",
       "      <td>591.0</td>\n",
       "      <td>4.0</td>\n",
       "      <td>1161.0</td>\n",
       "      <td>Escherichia</td>\n",
       "      <td>coli</td>\n",
       "      <td>32122</td>\n",
       "      <td></td>\n",
       "    </tr>\n",
       "    <tr>\n",
       "      <th>1</th>\n",
       "      <td>562.18844</td>\n",
       "      <td>93.0</td>\n",
       "      <td>492.0</td>\n",
       "      <td>3.0</td>\n",
       "      <td>717.0</td>\n",
       "      <td>Escherichia</td>\n",
       "      <td>coli</td>\n",
       "      <td>MOD1-EC5454</td>\n",
       "      <td></td>\n",
       "    </tr>\n",
       "    <tr>\n",
       "      <th>2</th>\n",
       "      <td>562.22905</td>\n",
       "      <td>99.0</td>\n",
       "      <td>720.0</td>\n",
       "      <td>2.0</td>\n",
       "      <td>819.0</td>\n",
       "      <td>Escherichia</td>\n",
       "      <td>coli</td>\n",
       "      <td>O2:H1</td>\n",
       "      <td>strain ECO0512</td>\n",
       "    </tr>\n",
       "    <tr>\n",
       "      <th>3</th>\n",
       "      <td>562.23196</td>\n",
       "      <td>99.0</td>\n",
       "      <td>720.0</td>\n",
       "      <td>2.0</td>\n",
       "      <td>819.0</td>\n",
       "      <td>Escherichia</td>\n",
       "      <td>coli</td>\n",
       "      <td>O2:H1</td>\n",
       "      <td>strain ECO0818</td>\n",
       "    </tr>\n",
       "    <tr>\n",
       "      <th>4</th>\n",
       "      <td>562.28184</td>\n",
       "      <td>105.0</td>\n",
       "      <td>552.0</td>\n",
       "      <td>4.0</td>\n",
       "      <td>1309.0</td>\n",
       "      <td>Escherichia</td>\n",
       "      <td>coli</td>\n",
       "      <td>SP-16</td>\n",
       "      <td>Combo</td>\n",
       "    </tr>\n",
       "  </tbody>\n",
       "</table>\n",
       "</div>"
      ],
      "text/plain": [
       "   Genome ID  fragment1  fragment2  n_fragments  total_length        genus  \\\n",
       "0  562.10529       81.0      591.0          4.0        1161.0  Escherichia   \n",
       "1  562.18844       93.0      492.0          3.0         717.0  Escherichia   \n",
       "2  562.22905       99.0      720.0          2.0         819.0  Escherichia   \n",
       "3  562.23196       99.0      720.0          2.0         819.0  Escherichia   \n",
       "4  562.28184      105.0      552.0          4.0        1309.0  Escherichia   \n",
       "\n",
       "  species       strain             sub  \n",
       "0    coli        32122                  \n",
       "1    coli  MOD1-EC5454                  \n",
       "2    coli        O2:H1  strain ECO0512  \n",
       "3    coli        O2:H1  strain ECO0818  \n",
       "4    coli        SP-16           Combo  "
      ]
     },
     "execution_count": 25,
     "metadata": {},
     "output_type": "execute_result"
    }
   ],
   "source": [
    "frag_names = pd.merge(dsplot.rename(columns={'genome.genome_id':'Genome ID'}), sub_names, on='Genome ID')\n",
    "frag_names = frag_names[frag_names.species=='coli']\n",
    "frag_names.head()"
   ]
  },
  {
   "cell_type": "code",
   "execution_count": 26,
   "metadata": {
    "collapsed": false,
    "deletable": true,
    "editable": true
   },
   "outputs": [],
   "source": [
    "frag_group = frag_names.groupby('strain').apply(lambda x: pd.Series({\n",
    "    'frag1_min':x['fragment1'].min(),\n",
    "    'frag1_max':x['fragment1'].max(),\n",
    "    'frag1_avg':x['fragment1'].mean(),\n",
    "    'count':len(x['fragment1'])\n",
    "})).reset_index()"
   ]
  },
  {
   "cell_type": "code",
   "execution_count": 27,
   "metadata": {
    "collapsed": false,
    "deletable": true,
    "editable": true
   },
   "outputs": [
    {
     "data": {
      "text/html": [
       "<div>\n",
       "<style scoped>\n",
       "    .dataframe tbody tr th:only-of-type {\n",
       "        vertical-align: middle;\n",
       "    }\n",
       "\n",
       "    .dataframe tbody tr th {\n",
       "        vertical-align: top;\n",
       "    }\n",
       "\n",
       "    .dataframe thead th {\n",
       "        text-align: right;\n",
       "    }\n",
       "</style>\n",
       "<table border=\"1\" class=\"dataframe\">\n",
       "  <thead>\n",
       "    <tr style=\"text-align: right;\">\n",
       "      <th></th>\n",
       "      <th>strain</th>\n",
       "      <th>count</th>\n",
       "      <th>frag1_avg</th>\n",
       "      <th>frag1_max</th>\n",
       "      <th>frag1_min</th>\n",
       "    </tr>\n",
       "  </thead>\n",
       "  <tbody>\n",
       "    <tr>\n",
       "      <th>144</th>\n",
       "      <td>K-12</td>\n",
       "      <td>35.0</td>\n",
       "      <td>120.0</td>\n",
       "      <td>120.0</td>\n",
       "      <td>120.0</td>\n",
       "    </tr>\n",
       "    <tr>\n",
       "      <th>145</th>\n",
       "      <td>K1</td>\n",
       "      <td>5.0</td>\n",
       "      <td>364.2</td>\n",
       "      <td>627.0</td>\n",
       "      <td>177.0</td>\n",
       "    </tr>\n",
       "    <tr>\n",
       "      <th>216</th>\n",
       "      <td>N37139PS</td>\n",
       "      <td>3.0</td>\n",
       "      <td>198.0</td>\n",
       "      <td>198.0</td>\n",
       "      <td>198.0</td>\n",
       "    </tr>\n",
       "    <tr>\n",
       "      <th>74</th>\n",
       "      <td>ATCC</td>\n",
       "      <td>2.0</td>\n",
       "      <td>120.0</td>\n",
       "      <td>120.0</td>\n",
       "      <td>120.0</td>\n",
       "    </tr>\n",
       "    <tr>\n",
       "      <th>221</th>\n",
       "      <td>O26:H11</td>\n",
       "      <td>2.0</td>\n",
       "      <td>228.0</td>\n",
       "      <td>228.0</td>\n",
       "      <td>228.0</td>\n",
       "    </tr>\n",
       "    <tr>\n",
       "      <th>97</th>\n",
       "      <td>DH1</td>\n",
       "      <td>2.0</td>\n",
       "      <td>120.0</td>\n",
       "      <td>120.0</td>\n",
       "      <td>120.0</td>\n",
       "    </tr>\n",
       "    <tr>\n",
       "      <th>258</th>\n",
       "      <td>STEC</td>\n",
       "      <td>2.0</td>\n",
       "      <td>360.0</td>\n",
       "      <td>360.0</td>\n",
       "      <td>360.0</td>\n",
       "    </tr>\n",
       "    <tr>\n",
       "      <th>64</th>\n",
       "      <td>95JB1</td>\n",
       "      <td>2.0</td>\n",
       "      <td>411.0</td>\n",
       "      <td>489.0</td>\n",
       "      <td>333.0</td>\n",
       "    </tr>\n",
       "    <tr>\n",
       "      <th>65</th>\n",
       "      <td>95NR1</td>\n",
       "      <td>2.0</td>\n",
       "      <td>411.0</td>\n",
       "      <td>489.0</td>\n",
       "      <td>333.0</td>\n",
       "    </tr>\n",
       "    <tr>\n",
       "      <th>115</th>\n",
       "      <td>ED-53</td>\n",
       "      <td>2.0</td>\n",
       "      <td>720.0</td>\n",
       "      <td>720.0</td>\n",
       "      <td>720.0</td>\n",
       "    </tr>\n",
       "    <tr>\n",
       "      <th>222</th>\n",
       "      <td>O2:H1</td>\n",
       "      <td>2.0</td>\n",
       "      <td>99.0</td>\n",
       "      <td>99.0</td>\n",
       "      <td>99.0</td>\n",
       "    </tr>\n",
       "    <tr>\n",
       "      <th>220</th>\n",
       "      <td>O157:H7</td>\n",
       "      <td>2.0</td>\n",
       "      <td>438.0</td>\n",
       "      <td>720.0</td>\n",
       "      <td>156.0</td>\n",
       "    </tr>\n",
       "    <tr>\n",
       "      <th>139</th>\n",
       "      <td>J53</td>\n",
       "      <td>2.0</td>\n",
       "      <td>120.0</td>\n",
       "      <td>120.0</td>\n",
       "      <td>120.0</td>\n",
       "    </tr>\n",
       "    <tr>\n",
       "      <th>83</th>\n",
       "      <td>BW25113</td>\n",
       "      <td>2.0</td>\n",
       "      <td>120.0</td>\n",
       "      <td>120.0</td>\n",
       "      <td>120.0</td>\n",
       "    </tr>\n",
       "    <tr>\n",
       "      <th>142</th>\n",
       "      <td>JCM</td>\n",
       "      <td>2.0</td>\n",
       "      <td>207.0</td>\n",
       "      <td>237.0</td>\n",
       "      <td>177.0</td>\n",
       "    </tr>\n",
       "    <tr>\n",
       "      <th>6</th>\n",
       "      <td>104</td>\n",
       "      <td>2.0</td>\n",
       "      <td>174.0</td>\n",
       "      <td>228.0</td>\n",
       "      <td>120.0</td>\n",
       "    </tr>\n",
       "    <tr>\n",
       "      <th>190</th>\n",
       "      <td>MOD1-EC5576</td>\n",
       "      <td>1.0</td>\n",
       "      <td>120.0</td>\n",
       "      <td>120.0</td>\n",
       "      <td>120.0</td>\n",
       "    </tr>\n",
       "    <tr>\n",
       "      <th>197</th>\n",
       "      <td>MOD1-EC5728</td>\n",
       "      <td>1.0</td>\n",
       "      <td>120.0</td>\n",
       "      <td>120.0</td>\n",
       "      <td>120.0</td>\n",
       "    </tr>\n",
       "    <tr>\n",
       "      <th>189</th>\n",
       "      <td>MOD1-EC5574</td>\n",
       "      <td>1.0</td>\n",
       "      <td>120.0</td>\n",
       "      <td>120.0</td>\n",
       "      <td>120.0</td>\n",
       "    </tr>\n",
       "    <tr>\n",
       "      <th>191</th>\n",
       "      <td>MOD1-EC5630</td>\n",
       "      <td>1.0</td>\n",
       "      <td>762.0</td>\n",
       "      <td>762.0</td>\n",
       "      <td>762.0</td>\n",
       "    </tr>\n",
       "    <tr>\n",
       "      <th>188</th>\n",
       "      <td>MOD1-EC5573</td>\n",
       "      <td>1.0</td>\n",
       "      <td>120.0</td>\n",
       "      <td>120.0</td>\n",
       "      <td>120.0</td>\n",
       "    </tr>\n",
       "    <tr>\n",
       "      <th>192</th>\n",
       "      <td>MOD1-EC5638</td>\n",
       "      <td>1.0</td>\n",
       "      <td>120.0</td>\n",
       "      <td>120.0</td>\n",
       "      <td>120.0</td>\n",
       "    </tr>\n",
       "    <tr>\n",
       "      <th>193</th>\n",
       "      <td>MOD1-EC5682</td>\n",
       "      <td>1.0</td>\n",
       "      <td>816.0</td>\n",
       "      <td>816.0</td>\n",
       "      <td>816.0</td>\n",
       "    </tr>\n",
       "    <tr>\n",
       "      <th>194</th>\n",
       "      <td>MOD1-EC5683</td>\n",
       "      <td>1.0</td>\n",
       "      <td>816.0</td>\n",
       "      <td>816.0</td>\n",
       "      <td>816.0</td>\n",
       "    </tr>\n",
       "    <tr>\n",
       "      <th>195</th>\n",
       "      <td>MOD1-EC5684</td>\n",
       "      <td>1.0</td>\n",
       "      <td>816.0</td>\n",
       "      <td>816.0</td>\n",
       "      <td>816.0</td>\n",
       "    </tr>\n",
       "    <tr>\n",
       "      <th>187</th>\n",
       "      <td>MOD1-EC5502</td>\n",
       "      <td>1.0</td>\n",
       "      <td>492.0</td>\n",
       "      <td>492.0</td>\n",
       "      <td>492.0</td>\n",
       "    </tr>\n",
       "    <tr>\n",
       "      <th>196</th>\n",
       "      <td>MOD1-EC5721</td>\n",
       "      <td>1.0</td>\n",
       "      <td>120.0</td>\n",
       "      <td>120.0</td>\n",
       "      <td>120.0</td>\n",
       "    </tr>\n",
       "    <tr>\n",
       "      <th>203</th>\n",
       "      <td>MOD1-EC6118</td>\n",
       "      <td>1.0</td>\n",
       "      <td>816.0</td>\n",
       "      <td>816.0</td>\n",
       "      <td>816.0</td>\n",
       "    </tr>\n",
       "    <tr>\n",
       "      <th>198</th>\n",
       "      <td>MOD1-EC5763</td>\n",
       "      <td>1.0</td>\n",
       "      <td>228.0</td>\n",
       "      <td>228.0</td>\n",
       "      <td>228.0</td>\n",
       "    </tr>\n",
       "    <tr>\n",
       "      <th>199</th>\n",
       "      <td>MOD1-EC5810</td>\n",
       "      <td>1.0</td>\n",
       "      <td>720.0</td>\n",
       "      <td>720.0</td>\n",
       "      <td>720.0</td>\n",
       "    </tr>\n",
       "    <tr>\n",
       "      <th>...</th>\n",
       "      <td>...</td>\n",
       "      <td>...</td>\n",
       "      <td>...</td>\n",
       "      <td>...</td>\n",
       "      <td>...</td>\n",
       "    </tr>\n",
       "    <tr>\n",
       "      <th>76</th>\n",
       "      <td>AY71</td>\n",
       "      <td>1.0</td>\n",
       "      <td>762.0</td>\n",
       "      <td>762.0</td>\n",
       "      <td>762.0</td>\n",
       "    </tr>\n",
       "    <tr>\n",
       "      <th>77</th>\n",
       "      <td>B8S59</td>\n",
       "      <td>1.0</td>\n",
       "      <td>228.0</td>\n",
       "      <td>228.0</td>\n",
       "      <td>228.0</td>\n",
       "    </tr>\n",
       "    <tr>\n",
       "      <th>78</th>\n",
       "      <td>B9S20</td>\n",
       "      <td>1.0</td>\n",
       "      <td>228.0</td>\n",
       "      <td>228.0</td>\n",
       "      <td>228.0</td>\n",
       "    </tr>\n",
       "    <tr>\n",
       "      <th>79</th>\n",
       "      <td>B9S24</td>\n",
       "      <td>1.0</td>\n",
       "      <td>228.0</td>\n",
       "      <td>228.0</td>\n",
       "      <td>228.0</td>\n",
       "    </tr>\n",
       "    <tr>\n",
       "      <th>80</th>\n",
       "      <td>BA14396</td>\n",
       "      <td>1.0</td>\n",
       "      <td>228.0</td>\n",
       "      <td>228.0</td>\n",
       "      <td>228.0</td>\n",
       "    </tr>\n",
       "    <tr>\n",
       "      <th>81</th>\n",
       "      <td>BA29965</td>\n",
       "      <td>1.0</td>\n",
       "      <td>228.0</td>\n",
       "      <td>228.0</td>\n",
       "      <td>228.0</td>\n",
       "    </tr>\n",
       "    <tr>\n",
       "      <th>82</th>\n",
       "      <td>BA34774</td>\n",
       "      <td>1.0</td>\n",
       "      <td>228.0</td>\n",
       "      <td>228.0</td>\n",
       "      <td>228.0</td>\n",
       "    </tr>\n",
       "    <tr>\n",
       "      <th>84</th>\n",
       "      <td>BW2952</td>\n",
       "      <td>1.0</td>\n",
       "      <td>120.0</td>\n",
       "      <td>120.0</td>\n",
       "      <td>120.0</td>\n",
       "    </tr>\n",
       "    <tr>\n",
       "      <th>85</th>\n",
       "      <td>C321.deltaA</td>\n",
       "      <td>1.0</td>\n",
       "      <td>120.0</td>\n",
       "      <td>120.0</td>\n",
       "      <td>120.0</td>\n",
       "    </tr>\n",
       "    <tr>\n",
       "      <th>86</th>\n",
       "      <td>C33C1</td>\n",
       "      <td>1.0</td>\n",
       "      <td>228.0</td>\n",
       "      <td>228.0</td>\n",
       "      <td>228.0</td>\n",
       "    </tr>\n",
       "    <tr>\n",
       "      <th>87</th>\n",
       "      <td>CAR</td>\n",
       "      <td>1.0</td>\n",
       "      <td>120.0</td>\n",
       "      <td>120.0</td>\n",
       "      <td>120.0</td>\n",
       "    </tr>\n",
       "    <tr>\n",
       "      <th>88</th>\n",
       "      <td>CB13483</td>\n",
       "      <td>1.0</td>\n",
       "      <td>228.0</td>\n",
       "      <td>228.0</td>\n",
       "      <td>228.0</td>\n",
       "    </tr>\n",
       "    <tr>\n",
       "      <th>89</th>\n",
       "      <td>CE418</td>\n",
       "      <td>1.0</td>\n",
       "      <td>135.0</td>\n",
       "      <td>135.0</td>\n",
       "      <td>135.0</td>\n",
       "    </tr>\n",
       "    <tr>\n",
       "      <th>91</th>\n",
       "      <td>CFSAN025110</td>\n",
       "      <td>1.0</td>\n",
       "      <td>795.0</td>\n",
       "      <td>795.0</td>\n",
       "      <td>795.0</td>\n",
       "    </tr>\n",
       "    <tr>\n",
       "      <th>107</th>\n",
       "      <td>DV159</td>\n",
       "      <td>1.0</td>\n",
       "      <td>120.0</td>\n",
       "      <td>120.0</td>\n",
       "      <td>120.0</td>\n",
       "    </tr>\n",
       "    <tr>\n",
       "      <th>92</th>\n",
       "      <td>CFT073</td>\n",
       "      <td>1.0</td>\n",
       "      <td>720.0</td>\n",
       "      <td>720.0</td>\n",
       "      <td>720.0</td>\n",
       "    </tr>\n",
       "    <tr>\n",
       "      <th>93</th>\n",
       "      <td>CG48C.A2</td>\n",
       "      <td>1.0</td>\n",
       "      <td>120.0</td>\n",
       "      <td>120.0</td>\n",
       "      <td>120.0</td>\n",
       "    </tr>\n",
       "    <tr>\n",
       "      <th>94</th>\n",
       "      <td>CG48C.G2</td>\n",
       "      <td>1.0</td>\n",
       "      <td>120.0</td>\n",
       "      <td>120.0</td>\n",
       "      <td>120.0</td>\n",
       "    </tr>\n",
       "    <tr>\n",
       "      <th>95</th>\n",
       "      <td>CIT</td>\n",
       "      <td>1.0</td>\n",
       "      <td>120.0</td>\n",
       "      <td>120.0</td>\n",
       "      <td>120.0</td>\n",
       "    </tr>\n",
       "    <tr>\n",
       "      <th>96</th>\n",
       "      <td>CQSW20</td>\n",
       "      <td>1.0</td>\n",
       "      <td>120.0</td>\n",
       "      <td>120.0</td>\n",
       "      <td>120.0</td>\n",
       "    </tr>\n",
       "    <tr>\n",
       "      <th>98</th>\n",
       "      <td>DH1Ec095</td>\n",
       "      <td>1.0</td>\n",
       "      <td>120.0</td>\n",
       "      <td>120.0</td>\n",
       "      <td>120.0</td>\n",
       "    </tr>\n",
       "    <tr>\n",
       "      <th>99</th>\n",
       "      <td>DH1Ec104</td>\n",
       "      <td>1.0</td>\n",
       "      <td>120.0</td>\n",
       "      <td>120.0</td>\n",
       "      <td>120.0</td>\n",
       "    </tr>\n",
       "    <tr>\n",
       "      <th>100</th>\n",
       "      <td>DH1Ec169</td>\n",
       "      <td>1.0</td>\n",
       "      <td>120.0</td>\n",
       "      <td>120.0</td>\n",
       "      <td>120.0</td>\n",
       "    </tr>\n",
       "    <tr>\n",
       "      <th>101</th>\n",
       "      <td>DH5[alpha]</td>\n",
       "      <td>1.0</td>\n",
       "      <td>120.0</td>\n",
       "      <td>120.0</td>\n",
       "      <td>120.0</td>\n",
       "    </tr>\n",
       "    <tr>\n",
       "      <th>102</th>\n",
       "      <td>DH5alpha</td>\n",
       "      <td>1.0</td>\n",
       "      <td>120.0</td>\n",
       "      <td>120.0</td>\n",
       "      <td>120.0</td>\n",
       "    </tr>\n",
       "    <tr>\n",
       "      <th>103</th>\n",
       "      <td>DS1</td>\n",
       "      <td>1.0</td>\n",
       "      <td>120.0</td>\n",
       "      <td>120.0</td>\n",
       "      <td>120.0</td>\n",
       "    </tr>\n",
       "    <tr>\n",
       "      <th>104</th>\n",
       "      <td>DTU-1</td>\n",
       "      <td>1.0</td>\n",
       "      <td>120.0</td>\n",
       "      <td>120.0</td>\n",
       "      <td>120.0</td>\n",
       "    </tr>\n",
       "    <tr>\n",
       "      <th>105</th>\n",
       "      <td>DV130</td>\n",
       "      <td>1.0</td>\n",
       "      <td>120.0</td>\n",
       "      <td>120.0</td>\n",
       "      <td>120.0</td>\n",
       "    </tr>\n",
       "    <tr>\n",
       "      <th>106</th>\n",
       "      <td>DV133T</td>\n",
       "      <td>1.0</td>\n",
       "      <td>120.0</td>\n",
       "      <td>120.0</td>\n",
       "      <td>120.0</td>\n",
       "    </tr>\n",
       "    <tr>\n",
       "      <th>286</th>\n",
       "      <td>upec-47</td>\n",
       "      <td>1.0</td>\n",
       "      <td>177.0</td>\n",
       "      <td>177.0</td>\n",
       "      <td>177.0</td>\n",
       "    </tr>\n",
       "  </tbody>\n",
       "</table>\n",
       "<p>287 rows × 5 columns</p>\n",
       "</div>"
      ],
      "text/plain": [
       "          strain  count  frag1_avg  frag1_max  frag1_min\n",
       "144         K-12   35.0      120.0      120.0      120.0\n",
       "145           K1    5.0      364.2      627.0      177.0\n",
       "216     N37139PS    3.0      198.0      198.0      198.0\n",
       "74          ATCC    2.0      120.0      120.0      120.0\n",
       "221      O26:H11    2.0      228.0      228.0      228.0\n",
       "97           DH1    2.0      120.0      120.0      120.0\n",
       "258         STEC    2.0      360.0      360.0      360.0\n",
       "64         95JB1    2.0      411.0      489.0      333.0\n",
       "65         95NR1    2.0      411.0      489.0      333.0\n",
       "115        ED-53    2.0      720.0      720.0      720.0\n",
       "222        O2:H1    2.0       99.0       99.0       99.0\n",
       "220      O157:H7    2.0      438.0      720.0      156.0\n",
       "139          J53    2.0      120.0      120.0      120.0\n",
       "83       BW25113    2.0      120.0      120.0      120.0\n",
       "142          JCM    2.0      207.0      237.0      177.0\n",
       "6            104    2.0      174.0      228.0      120.0\n",
       "190  MOD1-EC5576    1.0      120.0      120.0      120.0\n",
       "197  MOD1-EC5728    1.0      120.0      120.0      120.0\n",
       "189  MOD1-EC5574    1.0      120.0      120.0      120.0\n",
       "191  MOD1-EC5630    1.0      762.0      762.0      762.0\n",
       "188  MOD1-EC5573    1.0      120.0      120.0      120.0\n",
       "192  MOD1-EC5638    1.0      120.0      120.0      120.0\n",
       "193  MOD1-EC5682    1.0      816.0      816.0      816.0\n",
       "194  MOD1-EC5683    1.0      816.0      816.0      816.0\n",
       "195  MOD1-EC5684    1.0      816.0      816.0      816.0\n",
       "187  MOD1-EC5502    1.0      492.0      492.0      492.0\n",
       "196  MOD1-EC5721    1.0      120.0      120.0      120.0\n",
       "203  MOD1-EC6118    1.0      816.0      816.0      816.0\n",
       "198  MOD1-EC5763    1.0      228.0      228.0      228.0\n",
       "199  MOD1-EC5810    1.0      720.0      720.0      720.0\n",
       "..           ...    ...        ...        ...        ...\n",
       "76          AY71    1.0      762.0      762.0      762.0\n",
       "77         B8S59    1.0      228.0      228.0      228.0\n",
       "78         B9S20    1.0      228.0      228.0      228.0\n",
       "79         B9S24    1.0      228.0      228.0      228.0\n",
       "80       BA14396    1.0      228.0      228.0      228.0\n",
       "81       BA29965    1.0      228.0      228.0      228.0\n",
       "82       BA34774    1.0      228.0      228.0      228.0\n",
       "84        BW2952    1.0      120.0      120.0      120.0\n",
       "85   C321.deltaA    1.0      120.0      120.0      120.0\n",
       "86         C33C1    1.0      228.0      228.0      228.0\n",
       "87           CAR    1.0      120.0      120.0      120.0\n",
       "88       CB13483    1.0      228.0      228.0      228.0\n",
       "89         CE418    1.0      135.0      135.0      135.0\n",
       "91   CFSAN025110    1.0      795.0      795.0      795.0\n",
       "107        DV159    1.0      120.0      120.0      120.0\n",
       "92        CFT073    1.0      720.0      720.0      720.0\n",
       "93      CG48C.A2    1.0      120.0      120.0      120.0\n",
       "94      CG48C.G2    1.0      120.0      120.0      120.0\n",
       "95           CIT    1.0      120.0      120.0      120.0\n",
       "96        CQSW20    1.0      120.0      120.0      120.0\n",
       "98      DH1Ec095    1.0      120.0      120.0      120.0\n",
       "99      DH1Ec104    1.0      120.0      120.0      120.0\n",
       "100     DH1Ec169    1.0      120.0      120.0      120.0\n",
       "101   DH5[alpha]    1.0      120.0      120.0      120.0\n",
       "102     DH5alpha    1.0      120.0      120.0      120.0\n",
       "103          DS1    1.0      120.0      120.0      120.0\n",
       "104        DTU-1    1.0      120.0      120.0      120.0\n",
       "105        DV130    1.0      120.0      120.0      120.0\n",
       "106       DV133T    1.0      120.0      120.0      120.0\n",
       "286      upec-47    1.0      177.0      177.0      177.0\n",
       "\n",
       "[287 rows x 5 columns]"
      ]
     },
     "execution_count": 27,
     "metadata": {},
     "output_type": "execute_result"
    }
   ],
   "source": [
    "frag_group.sort_values('count', ascending=False)"
   ]
  },
  {
   "cell_type": "code",
   "execution_count": 28,
   "metadata": {
    "collapsed": false,
    "deletable": true,
    "editable": true,
    "scrolled": false
   },
   "outputs": [
    {
     "name": "stderr",
     "output_type": "stream",
     "text": [
      "/usr/lib/python2.7/site-packages/pandas/core/indexing.py:357: SettingWithCopyWarning: \n",
      "A value is trying to be set on a copy of a slice from a DataFrame.\n",
      "Try using .loc[row_indexer,col_indexer] = value instead\n",
      "\n",
      "See the caveats in the documentation: http://pandas.pydata.org/pandas-docs/stable/indexing.html#indexing-view-versus-copy\n",
      "  self.obj[key] = _infer_fill_value(value)\n",
      "/usr/lib/python2.7/site-packages/pandas/core/indexing.py:537: SettingWithCopyWarning: \n",
      "A value is trying to be set on a copy of a slice from a DataFrame.\n",
      "Try using .loc[row_indexer,col_indexer] = value instead\n",
      "\n",
      "See the caveats in the documentation: http://pandas.pydata.org/pandas-docs/stable/indexing.html#indexing-view-versus-copy\n",
      "  self.obj[item] = s\n"
     ]
    },
    {
     "data": {
      "text/plain": [
       "<matplotlib.text.Text at 0x7f58b3ca2350>"
      ]
     },
     "execution_count": 28,
     "metadata": {},
     "output_type": "execute_result"
    },
    {
     "data": {
      "image/png": "[encoded data removed]",
      "text/plain": [
       "<matplotlib.figure.Figure at 0x7f58b4f82390>"
      ]
     },
     "metadata": {},
     "output_type": "display_data"
    }
   ],
   "source": [
    "#frag_group[ frag_group.frag1_avg==120]\n",
    "dfsum = frag_group[ frag_group.frag1_avg==120]\n",
    "dfsum.loc[:,'label'] = dfsum.strain\n",
    "dfsum.loc[ dfsum.label != 'K-12','label'] = 'Other'\n",
    "dfsum = dfsum.groupby('label').agg({'count':sum, 'frag1_avg':min, 'frag1_min':min, 'frag1_max':min}).reset_index()\n",
    "dfsum.loc[:,'strain'] = dfsum.label\n",
    "labels = dfsum.label.values\n",
    "labels[ dfsum.strain=='K-12'] = 'K-12 (%d)'%(dfsum[dfsum.strain == 'K-12']['count'].sum())\n",
    "labels[ dfsum.strain!='K-12'] = 'Other (%d)'%(dfsum[dfsum.strain != 'K-12']['count'].sum())\n",
    "# labels[ labels != 'K-12'] = ''\n",
    "nstrains= dfsum.shape[0]\n",
    "explode = np.zeros(nstrains)\n",
    "explode[ dfsum.strain=='K-12'] = 0.1\n",
    "plt.pie('count', labels=labels, autopct=\"%1.1f%%\", data=dfsum, explode=explode)\n",
    "plt.axis('equal')\n",
    "plt.title('Genomes with 120 bp Fragment 1')"
   ]
  },
  {
   "cell_type": "markdown",
   "metadata": {
    "deletable": true,
    "editable": true
   },
   "source": [
    "### 120 fragments significantly biased due to K-12?\n",
    "I.e., is 120 bp fragment genomes significantly enriched for K-12?"
   ]
  },
  {
   "cell_type": "code",
   "execution_count": 483,
   "metadata": {
    "collapsed": false,
    "deletable": true,
    "editable": true
   },
   "outputs": [],
   "source": [
    "from scipy import stats\n",
    "\n",
    "#        K-12   other\n",
    "#   120   a11   a12\n",
    "# !=120   a21   a21\n",
    "\n",
    "\n",
    "stats.fisher_exact([[a11,a12],[a21,a22]], alternative='greater')"
   ]
  },
  {
   "cell_type": "code",
   "execution_count": null,
   "metadata": {
    "collapsed": true,
    "deletable": true,
    "editable": true
   },
   "outputs": [],
   "source": []
  },
  {
   "cell_type": "code",
   "execution_count": 447,
   "metadata": {
    "collapsed": false,
    "deletable": true,
    "editable": true,
    "scrolled": false
   },
   "outputs": [
    {
     "data": {
      "text/html": [
       "<div>\n",
       "<style scoped>\n",
       "    .dataframe tbody tr th:only-of-type {\n",
       "        vertical-align: middle;\n",
       "    }\n",
       "\n",
       "    .dataframe tbody tr th {\n",
       "        vertical-align: top;\n",
       "    }\n",
       "\n",
       "    .dataframe thead th {\n",
       "        text-align: right;\n",
       "    }\n",
       "</style>\n",
       "<table border=\"1\" class=\"dataframe\">\n",
       "  <thead>\n",
       "    <tr style=\"text-align: right;\">\n",
       "      <th></th>\n",
       "      <th>strain</th>\n",
       "      <th>count</th>\n",
       "      <th>frag1_avg</th>\n",
       "      <th>frag1_max</th>\n",
       "      <th>frag1_min</th>\n",
       "    </tr>\n",
       "  </thead>\n",
       "  <tbody>\n",
       "    <tr>\n",
       "      <th>144</th>\n",
       "      <td>K-12</td>\n",
       "      <td>35.0</td>\n",
       "      <td>120.0</td>\n",
       "      <td>120.0</td>\n",
       "      <td>120.0</td>\n",
       "    </tr>\n",
       "    <tr>\n",
       "      <th>145</th>\n",
       "      <td>K1</td>\n",
       "      <td>5.0</td>\n",
       "      <td>364.2</td>\n",
       "      <td>627.0</td>\n",
       "      <td>177.0</td>\n",
       "    </tr>\n",
       "    <tr>\n",
       "      <th>216</th>\n",
       "      <td>N37139PS</td>\n",
       "      <td>3.0</td>\n",
       "      <td>198.0</td>\n",
       "      <td>198.0</td>\n",
       "      <td>198.0</td>\n",
       "    </tr>\n",
       "    <tr>\n",
       "      <th>115</th>\n",
       "      <td>ED-53</td>\n",
       "      <td>2.0</td>\n",
       "      <td>720.0</td>\n",
       "      <td>720.0</td>\n",
       "      <td>720.0</td>\n",
       "    </tr>\n",
       "    <tr>\n",
       "      <th>220</th>\n",
       "      <td>O157:H7</td>\n",
       "      <td>2.0</td>\n",
       "      <td>438.0</td>\n",
       "      <td>720.0</td>\n",
       "      <td>156.0</td>\n",
       "    </tr>\n",
       "    <tr>\n",
       "      <th>64</th>\n",
       "      <td>95JB1</td>\n",
       "      <td>2.0</td>\n",
       "      <td>411.0</td>\n",
       "      <td>489.0</td>\n",
       "      <td>333.0</td>\n",
       "    </tr>\n",
       "    <tr>\n",
       "      <th>65</th>\n",
       "      <td>95NR1</td>\n",
       "      <td>2.0</td>\n",
       "      <td>411.0</td>\n",
       "      <td>489.0</td>\n",
       "      <td>333.0</td>\n",
       "    </tr>\n",
       "    <tr>\n",
       "      <th>258</th>\n",
       "      <td>STEC</td>\n",
       "      <td>2.0</td>\n",
       "      <td>360.0</td>\n",
       "      <td>360.0</td>\n",
       "      <td>360.0</td>\n",
       "    </tr>\n",
       "    <tr>\n",
       "      <th>221</th>\n",
       "      <td>O26:H11</td>\n",
       "      <td>2.0</td>\n",
       "      <td>228.0</td>\n",
       "      <td>228.0</td>\n",
       "      <td>228.0</td>\n",
       "    </tr>\n",
       "    <tr>\n",
       "      <th>142</th>\n",
       "      <td>JCM</td>\n",
       "      <td>2.0</td>\n",
       "      <td>207.0</td>\n",
       "      <td>237.0</td>\n",
       "      <td>177.0</td>\n",
       "    </tr>\n",
       "    <tr>\n",
       "      <th>6</th>\n",
       "      <td>104</td>\n",
       "      <td>2.0</td>\n",
       "      <td>174.0</td>\n",
       "      <td>228.0</td>\n",
       "      <td>120.0</td>\n",
       "    </tr>\n",
       "    <tr>\n",
       "      <th>74</th>\n",
       "      <td>ATCC</td>\n",
       "      <td>2.0</td>\n",
       "      <td>120.0</td>\n",
       "      <td>120.0</td>\n",
       "      <td>120.0</td>\n",
       "    </tr>\n",
       "    <tr>\n",
       "      <th>83</th>\n",
       "      <td>BW25113</td>\n",
       "      <td>2.0</td>\n",
       "      <td>120.0</td>\n",
       "      <td>120.0</td>\n",
       "      <td>120.0</td>\n",
       "    </tr>\n",
       "    <tr>\n",
       "      <th>97</th>\n",
       "      <td>DH1</td>\n",
       "      <td>2.0</td>\n",
       "      <td>120.0</td>\n",
       "      <td>120.0</td>\n",
       "      <td>120.0</td>\n",
       "    </tr>\n",
       "    <tr>\n",
       "      <th>139</th>\n",
       "      <td>J53</td>\n",
       "      <td>2.0</td>\n",
       "      <td>120.0</td>\n",
       "      <td>120.0</td>\n",
       "      <td>120.0</td>\n",
       "    </tr>\n",
       "    <tr>\n",
       "      <th>222</th>\n",
       "      <td>O2:H1</td>\n",
       "      <td>2.0</td>\n",
       "      <td>99.0</td>\n",
       "      <td>99.0</td>\n",
       "      <td>99.0</td>\n",
       "    </tr>\n",
       "    <tr>\n",
       "      <th>113</th>\n",
       "      <td>ECOR46</td>\n",
       "      <td>1.0</td>\n",
       "      <td>819.0</td>\n",
       "      <td>819.0</td>\n",
       "      <td>819.0</td>\n",
       "    </tr>\n",
       "    <tr>\n",
       "      <th>126</th>\n",
       "      <td>F2_81</td>\n",
       "      <td>1.0</td>\n",
       "      <td>816.0</td>\n",
       "      <td>816.0</td>\n",
       "      <td>816.0</td>\n",
       "    </tr>\n",
       "    <tr>\n",
       "      <th>127</th>\n",
       "      <td>F2_82</td>\n",
       "      <td>1.0</td>\n",
       "      <td>816.0</td>\n",
       "      <td>816.0</td>\n",
       "      <td>816.0</td>\n",
       "    </tr>\n",
       "    <tr>\n",
       "      <th>128</th>\n",
       "      <td>F2_84</td>\n",
       "      <td>1.0</td>\n",
       "      <td>816.0</td>\n",
       "      <td>816.0</td>\n",
       "      <td>816.0</td>\n",
       "    </tr>\n",
       "    <tr>\n",
       "      <th>173</th>\n",
       "      <td>MOD1-EC5040</td>\n",
       "      <td>1.0</td>\n",
       "      <td>816.0</td>\n",
       "      <td>816.0</td>\n",
       "      <td>816.0</td>\n",
       "    </tr>\n",
       "    <tr>\n",
       "      <th>193</th>\n",
       "      <td>MOD1-EC5682</td>\n",
       "      <td>1.0</td>\n",
       "      <td>816.0</td>\n",
       "      <td>816.0</td>\n",
       "      <td>816.0</td>\n",
       "    </tr>\n",
       "    <tr>\n",
       "      <th>194</th>\n",
       "      <td>MOD1-EC5683</td>\n",
       "      <td>1.0</td>\n",
       "      <td>816.0</td>\n",
       "      <td>816.0</td>\n",
       "      <td>816.0</td>\n",
       "    </tr>\n",
       "    <tr>\n",
       "      <th>195</th>\n",
       "      <td>MOD1-EC5684</td>\n",
       "      <td>1.0</td>\n",
       "      <td>816.0</td>\n",
       "      <td>816.0</td>\n",
       "      <td>816.0</td>\n",
       "    </tr>\n",
       "    <tr>\n",
       "      <th>202</th>\n",
       "      <td>MOD1-EC6117</td>\n",
       "      <td>1.0</td>\n",
       "      <td>816.0</td>\n",
       "      <td>816.0</td>\n",
       "      <td>816.0</td>\n",
       "    </tr>\n",
       "    <tr>\n",
       "      <th>203</th>\n",
       "      <td>MOD1-EC6118</td>\n",
       "      <td>1.0</td>\n",
       "      <td>816.0</td>\n",
       "      <td>816.0</td>\n",
       "      <td>816.0</td>\n",
       "    </tr>\n",
       "    <tr>\n",
       "      <th>226</th>\n",
       "      <td>OLC-683</td>\n",
       "      <td>1.0</td>\n",
       "      <td>813.0</td>\n",
       "      <td>813.0</td>\n",
       "      <td>813.0</td>\n",
       "    </tr>\n",
       "    <tr>\n",
       "      <th>90</th>\n",
       "      <td>CFSAN025109</td>\n",
       "      <td>1.0</td>\n",
       "      <td>795.0</td>\n",
       "      <td>795.0</td>\n",
       "      <td>795.0</td>\n",
       "    </tr>\n",
       "    <tr>\n",
       "      <th>91</th>\n",
       "      <td>CFSAN025110</td>\n",
       "      <td>1.0</td>\n",
       "      <td>795.0</td>\n",
       "      <td>795.0</td>\n",
       "      <td>795.0</td>\n",
       "    </tr>\n",
       "    <tr>\n",
       "      <th>15</th>\n",
       "      <td>2-156-04_S3_C3</td>\n",
       "      <td>1.0</td>\n",
       "      <td>762.0</td>\n",
       "      <td>762.0</td>\n",
       "      <td>762.0</td>\n",
       "    </tr>\n",
       "    <tr>\n",
       "      <th>...</th>\n",
       "      <td>...</td>\n",
       "      <td>...</td>\n",
       "      <td>...</td>\n",
       "      <td>...</td>\n",
       "      <td>...</td>\n",
       "    </tr>\n",
       "    <tr>\n",
       "      <th>241</th>\n",
       "      <td>RR1</td>\n",
       "      <td>1.0</td>\n",
       "      <td>120.0</td>\n",
       "      <td>120.0</td>\n",
       "      <td>120.0</td>\n",
       "    </tr>\n",
       "    <tr>\n",
       "      <th>243</th>\n",
       "      <td>S17</td>\n",
       "      <td>1.0</td>\n",
       "      <td>120.0</td>\n",
       "      <td>120.0</td>\n",
       "      <td>120.0</td>\n",
       "    </tr>\n",
       "    <tr>\n",
       "      <th>245</th>\n",
       "      <td>SCD1</td>\n",
       "      <td>1.0</td>\n",
       "      <td>120.0</td>\n",
       "      <td>120.0</td>\n",
       "      <td>120.0</td>\n",
       "    </tr>\n",
       "    <tr>\n",
       "      <th>252</th>\n",
       "      <td>SQ110</td>\n",
       "      <td>1.0</td>\n",
       "      <td>120.0</td>\n",
       "      <td>120.0</td>\n",
       "      <td>120.0</td>\n",
       "    </tr>\n",
       "    <tr>\n",
       "      <th>253</th>\n",
       "      <td>SQ171</td>\n",
       "      <td>1.0</td>\n",
       "      <td>120.0</td>\n",
       "      <td>120.0</td>\n",
       "      <td>120.0</td>\n",
       "    </tr>\n",
       "    <tr>\n",
       "      <th>254</th>\n",
       "      <td>SQ2203</td>\n",
       "      <td>1.0</td>\n",
       "      <td>120.0</td>\n",
       "      <td>120.0</td>\n",
       "      <td>120.0</td>\n",
       "    </tr>\n",
       "    <tr>\n",
       "      <th>255</th>\n",
       "      <td>SQ37</td>\n",
       "      <td>1.0</td>\n",
       "      <td>120.0</td>\n",
       "      <td>120.0</td>\n",
       "      <td>120.0</td>\n",
       "    </tr>\n",
       "    <tr>\n",
       "      <th>256</th>\n",
       "      <td>SQ88</td>\n",
       "      <td>1.0</td>\n",
       "      <td>120.0</td>\n",
       "      <td>120.0</td>\n",
       "      <td>120.0</td>\n",
       "    </tr>\n",
       "    <tr>\n",
       "      <th>264</th>\n",
       "      <td>Tc-RA229.16</td>\n",
       "      <td>1.0</td>\n",
       "      <td>120.0</td>\n",
       "      <td>120.0</td>\n",
       "      <td>120.0</td>\n",
       "    </tr>\n",
       "    <tr>\n",
       "      <th>265</th>\n",
       "      <td>Tc-RA346.16</td>\n",
       "      <td>1.0</td>\n",
       "      <td>120.0</td>\n",
       "      <td>120.0</td>\n",
       "      <td>120.0</td>\n",
       "    </tr>\n",
       "    <tr>\n",
       "      <th>266</th>\n",
       "      <td>Tc-RA372.16</td>\n",
       "      <td>1.0</td>\n",
       "      <td>120.0</td>\n",
       "      <td>120.0</td>\n",
       "      <td>120.0</td>\n",
       "    </tr>\n",
       "    <tr>\n",
       "      <th>267</th>\n",
       "      <td>Tc-RA402.16</td>\n",
       "      <td>1.0</td>\n",
       "      <td>120.0</td>\n",
       "      <td>120.0</td>\n",
       "      <td>120.0</td>\n",
       "    </tr>\n",
       "    <tr>\n",
       "      <th>268</th>\n",
       "      <td>Tc-RB634</td>\n",
       "      <td>1.0</td>\n",
       "      <td>120.0</td>\n",
       "      <td>120.0</td>\n",
       "      <td>120.0</td>\n",
       "    </tr>\n",
       "    <tr>\n",
       "      <th>269</th>\n",
       "      <td>Tc-S1257</td>\n",
       "      <td>1.0</td>\n",
       "      <td>120.0</td>\n",
       "      <td>120.0</td>\n",
       "      <td>120.0</td>\n",
       "    </tr>\n",
       "    <tr>\n",
       "      <th>270</th>\n",
       "      <td>Tc-S1454</td>\n",
       "      <td>1.0</td>\n",
       "      <td>120.0</td>\n",
       "      <td>120.0</td>\n",
       "      <td>120.0</td>\n",
       "    </tr>\n",
       "    <tr>\n",
       "      <th>271</th>\n",
       "      <td>Tc-S356</td>\n",
       "      <td>1.0</td>\n",
       "      <td>120.0</td>\n",
       "      <td>120.0</td>\n",
       "      <td>120.0</td>\n",
       "    </tr>\n",
       "    <tr>\n",
       "      <th>272</th>\n",
       "      <td>XH001</td>\n",
       "      <td>1.0</td>\n",
       "      <td>120.0</td>\n",
       "      <td>120.0</td>\n",
       "      <td>120.0</td>\n",
       "    </tr>\n",
       "    <tr>\n",
       "      <th>273</th>\n",
       "      <td>XH140A</td>\n",
       "      <td>1.0</td>\n",
       "      <td>120.0</td>\n",
       "      <td>120.0</td>\n",
       "      <td>120.0</td>\n",
       "    </tr>\n",
       "    <tr>\n",
       "      <th>277</th>\n",
       "      <td>cont_1</td>\n",
       "      <td>1.0</td>\n",
       "      <td>120.0</td>\n",
       "      <td>120.0</td>\n",
       "      <td>120.0</td>\n",
       "    </tr>\n",
       "    <tr>\n",
       "      <th>279</th>\n",
       "      <td>swine14</td>\n",
       "      <td>1.0</td>\n",
       "      <td>120.0</td>\n",
       "      <td>120.0</td>\n",
       "      <td>120.0</td>\n",
       "    </tr>\n",
       "    <tr>\n",
       "      <th>282</th>\n",
       "      <td>tolC-</td>\n",
       "      <td>1.0</td>\n",
       "      <td>120.0</td>\n",
       "      <td>120.0</td>\n",
       "      <td>120.0</td>\n",
       "    </tr>\n",
       "    <tr>\n",
       "      <th>69</th>\n",
       "      <td>ARS-CC2203</td>\n",
       "      <td>1.0</td>\n",
       "      <td>117.0</td>\n",
       "      <td>117.0</td>\n",
       "      <td>117.0</td>\n",
       "    </tr>\n",
       "    <tr>\n",
       "      <th>70</th>\n",
       "      <td>ARS-CC2205</td>\n",
       "      <td>1.0</td>\n",
       "      <td>117.0</td>\n",
       "      <td>117.0</td>\n",
       "      <td>117.0</td>\n",
       "    </tr>\n",
       "    <tr>\n",
       "      <th>71</th>\n",
       "      <td>ARS-CC2248</td>\n",
       "      <td>1.0</td>\n",
       "      <td>117.0</td>\n",
       "      <td>117.0</td>\n",
       "      <td>117.0</td>\n",
       "    </tr>\n",
       "    <tr>\n",
       "      <th>181</th>\n",
       "      <td>MOD1-EC5443</td>\n",
       "      <td>1.0</td>\n",
       "      <td>117.0</td>\n",
       "      <td>117.0</td>\n",
       "      <td>117.0</td>\n",
       "    </tr>\n",
       "    <tr>\n",
       "      <th>114</th>\n",
       "      <td>ECOR51</td>\n",
       "      <td>1.0</td>\n",
       "      <td>111.0</td>\n",
       "      <td>111.0</td>\n",
       "      <td>111.0</td>\n",
       "    </tr>\n",
       "    <tr>\n",
       "      <th>227</th>\n",
       "      <td>OLC1128</td>\n",
       "      <td>1.0</td>\n",
       "      <td>111.0</td>\n",
       "      <td>111.0</td>\n",
       "      <td>111.0</td>\n",
       "    </tr>\n",
       "    <tr>\n",
       "      <th>250</th>\n",
       "      <td>SP-16</td>\n",
       "      <td>1.0</td>\n",
       "      <td>105.0</td>\n",
       "      <td>105.0</td>\n",
       "      <td>105.0</td>\n",
       "    </tr>\n",
       "    <tr>\n",
       "      <th>184</th>\n",
       "      <td>MOD1-EC5454</td>\n",
       "      <td>1.0</td>\n",
       "      <td>93.0</td>\n",
       "      <td>93.0</td>\n",
       "      <td>93.0</td>\n",
       "    </tr>\n",
       "    <tr>\n",
       "      <th>34</th>\n",
       "      <td>32122</td>\n",
       "      <td>1.0</td>\n",
       "      <td>81.0</td>\n",
       "      <td>81.0</td>\n",
       "      <td>81.0</td>\n",
       "    </tr>\n",
       "  </tbody>\n",
       "</table>\n",
       "<p>287 rows × 5 columns</p>\n",
       "</div>"
      ],
      "text/plain": [
       "             strain  count  frag1_avg  frag1_max  frag1_min\n",
       "144            K-12   35.0      120.0      120.0      120.0\n",
       "145              K1    5.0      364.2      627.0      177.0\n",
       "216        N37139PS    3.0      198.0      198.0      198.0\n",
       "115           ED-53    2.0      720.0      720.0      720.0\n",
       "220         O157:H7    2.0      438.0      720.0      156.0\n",
       "64            95JB1    2.0      411.0      489.0      333.0\n",
       "65            95NR1    2.0      411.0      489.0      333.0\n",
       "258            STEC    2.0      360.0      360.0      360.0\n",
       "221         O26:H11    2.0      228.0      228.0      228.0\n",
       "142             JCM    2.0      207.0      237.0      177.0\n",
       "6               104    2.0      174.0      228.0      120.0\n",
       "74             ATCC    2.0      120.0      120.0      120.0\n",
       "83          BW25113    2.0      120.0      120.0      120.0\n",
       "97              DH1    2.0      120.0      120.0      120.0\n",
       "139             J53    2.0      120.0      120.0      120.0\n",
       "222           O2:H1    2.0       99.0       99.0       99.0\n",
       "113          ECOR46    1.0      819.0      819.0      819.0\n",
       "126           F2_81    1.0      816.0      816.0      816.0\n",
       "127           F2_82    1.0      816.0      816.0      816.0\n",
       "128           F2_84    1.0      816.0      816.0      816.0\n",
       "173     MOD1-EC5040    1.0      816.0      816.0      816.0\n",
       "193     MOD1-EC5682    1.0      816.0      816.0      816.0\n",
       "194     MOD1-EC5683    1.0      816.0      816.0      816.0\n",
       "195     MOD1-EC5684    1.0      816.0      816.0      816.0\n",
       "202     MOD1-EC6117    1.0      816.0      816.0      816.0\n",
       "203     MOD1-EC6118    1.0      816.0      816.0      816.0\n",
       "226         OLC-683    1.0      813.0      813.0      813.0\n",
       "90      CFSAN025109    1.0      795.0      795.0      795.0\n",
       "91      CFSAN025110    1.0      795.0      795.0      795.0\n",
       "15   2-156-04_S3_C3    1.0      762.0      762.0      762.0\n",
       "..              ...    ...        ...        ...        ...\n",
       "241             RR1    1.0      120.0      120.0      120.0\n",
       "243             S17    1.0      120.0      120.0      120.0\n",
       "245            SCD1    1.0      120.0      120.0      120.0\n",
       "252           SQ110    1.0      120.0      120.0      120.0\n",
       "253           SQ171    1.0      120.0      120.0      120.0\n",
       "254          SQ2203    1.0      120.0      120.0      120.0\n",
       "255            SQ37    1.0      120.0      120.0      120.0\n",
       "256            SQ88    1.0      120.0      120.0      120.0\n",
       "264     Tc-RA229.16    1.0      120.0      120.0      120.0\n",
       "265     Tc-RA346.16    1.0      120.0      120.0      120.0\n",
       "266     Tc-RA372.16    1.0      120.0      120.0      120.0\n",
       "267     Tc-RA402.16    1.0      120.0      120.0      120.0\n",
       "268        Tc-RB634    1.0      120.0      120.0      120.0\n",
       "269        Tc-S1257    1.0      120.0      120.0      120.0\n",
       "270        Tc-S1454    1.0      120.0      120.0      120.0\n",
       "271         Tc-S356    1.0      120.0      120.0      120.0\n",
       "272           XH001    1.0      120.0      120.0      120.0\n",
       "273          XH140A    1.0      120.0      120.0      120.0\n",
       "277          cont_1    1.0      120.0      120.0      120.0\n",
       "279         swine14    1.0      120.0      120.0      120.0\n",
       "282           tolC-    1.0      120.0      120.0      120.0\n",
       "69       ARS-CC2203    1.0      117.0      117.0      117.0\n",
       "70       ARS-CC2205    1.0      117.0      117.0      117.0\n",
       "71       ARS-CC2248    1.0      117.0      117.0      117.0\n",
       "181     MOD1-EC5443    1.0      117.0      117.0      117.0\n",
       "114          ECOR51    1.0      111.0      111.0      111.0\n",
       "227         OLC1128    1.0      111.0      111.0      111.0\n",
       "250           SP-16    1.0      105.0      105.0      105.0\n",
       "184     MOD1-EC5454    1.0       93.0       93.0       93.0\n",
       "34            32122    1.0       81.0       81.0       81.0\n",
       "\n",
       "[287 rows x 5 columns]"
      ]
     },
     "execution_count": 447,
     "metadata": {},
     "output_type": "execute_result"
    }
   ],
   "source": [
    "frag_group.sort_values(['count','frag1_avg'], ascending=False)"
   ]
  },
  {
   "cell_type": "markdown",
   "metadata": {
    "deletable": true,
    "editable": true
   },
   "source": [
    "# B: Build our own phylogenetic tree"
   ]
  },
  {
   "cell_type": "markdown",
   "metadata": {
    "deletable": true,
    "editable": true
   },
   "source": [
    "# Plot mut freq over sequence for all fragments. \n",
    "## show functional domains"
   ]
  },
  {
   "cell_type": "markdown",
   "metadata": {
    "deletable": true,
    "editable": true
   },
   "source": [
    "# 2. Check if functional domain biased for truncation"
   ]
  },
  {
   "cell_type": "markdown",
   "metadata": {
    "deletable": true,
    "editable": true
   },
   "source": [
    "- O157:H7\n",
    "    - efeUOB operon: tripartite Fe(II) transport system\n",
    "    - http://www.uniprot.org/uniprot/Q8XAS8"
   ]
  }
 ],
 "metadata": {
  "kernelspec": {
   "display_name": "Python 2",
   "language": "python",
   "name": "python2"
  },
  "language_info": {
   "codemirror_mode": {
    "name": "ipython",
    "version": 2
   },
   "file_extension": ".py",
   "mimetype": "text/x-python",
   "name": "python",
   "nbconvert_exporter": "python",
   "pygments_lexer": "ipython2",
   "version": "2.7.14"
  }
 },
 "nbformat": 4,
 "nbformat_minor": 2
}
