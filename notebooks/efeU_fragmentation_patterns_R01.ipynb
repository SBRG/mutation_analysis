{
 "cells": [
  {
   "cell_type": "markdown",
   "metadata": {
    "deletable": true,
    "editable": true
   },
   "source": [
    "# Test hypothesis that EfeU is fragmented in the same way across all strains\n",
    "# Null: EfeU fragmentation does not follow an observable consistent pattern"
   ]
  },
  {
   "cell_type": "markdown",
   "metadata": {
    "deletable": true,
    "editable": true
   },
   "source": [
    "### PATRIC CLI commands\n",
    "#### Final command:\n",
    "`p3-get-feature-data < efeU_products_all.tbl --attr na_sequence --col=feature.patric_id > efeU_seqs_all.tbl`\n",
    "\n",
    "where efeU_products_all.tbl created from downloaded table of efeU ids (faster than using API for that first step).\n",
    "\n",
    "#### Other potentially useful commands\n",
    "- `p3-all-genomes --eq \"genome_name,Escherichia`\n",
    "- `p3-get-genome-features --eq product,efeU`\n",
    "- `p3-get-genome-features --eq feature_type,CDS --attr patric_id,sequence_id,location,product >features.tbl`\n",
    "- `p3-get-feature-data --attr na_sequence --col=feature.patric_id`"
   ]
  },
  {
   "cell_type": "code",
   "execution_count": 3,
   "metadata": {
    "collapsed": true,
    "deletable": true,
    "editable": true
   },
   "outputs": [],
   "source": [
    "import pandas as pd\n",
    "import seaborn as sns\n",
    "import matplotlib.pyplot as plt\n",
    "plt.rcParams['svg.fonttype'] = 'none'\n",
    "\n",
    "%matplotlib inline"
   ]
  },
  {
   "cell_type": "markdown",
   "metadata": {
    "deletable": true,
    "editable": true
   },
   "source": [
    "### Load PATRIC result and filter out some rows"
   ]
  },
  {
   "cell_type": "code",
   "execution_count": 4,
   "metadata": {
    "collapsed": true,
    "deletable": true,
    "editable": true
   },
   "outputs": [],
   "source": [
    "COL_ID = 'Genome ID'"
   ]
  },
  {
   "cell_type": "code",
   "execution_count": 5,
   "metadata": {
    "collapsed": false,
    "deletable": true,
    "editable": true
   },
   "outputs": [
    {
     "name": "stdout",
     "output_type": "stream",
     "text": [
      "(12626, 21)\n"
     ]
    }
   ],
   "source": [
    "patric = pd.read_csv('/home/laurence/ME/data/Amitesh/PATRIC_genome_feature_efeU.csv', dtype={'Genome ID':object})\n",
    "exclude_genomes = ['Escherichia coli', 'Escherichia coli DSM 30083 = JCM 1649 = ATCC 11775']\n",
    "patric = patric[~patric.Genome.isin(exclude_genomes)]   # want specific strains\n",
    "print(patric.shape)"
   ]
  },
  {
   "cell_type": "code",
   "execution_count": 6,
   "metadata": {
    "collapsed": false,
    "deletable": true,
    "editable": true
   },
   "outputs": [
    {
     "data": {
      "text/plain": [
       "(12117,)"
      ]
     },
     "execution_count": 6,
     "metadata": {},
     "output_type": "execute_result"
    }
   ],
   "source": [
    "def split_names(x):\n",
    "    genome = x['Genome']\n",
    "    substrs = genome.split(' ')\n",
    "    genus = substrs[0].strip()\n",
    "    species = substrs[1].strip()\n",
    "    k = 3\n",
    "    strain = substrs[2].strip()\n",
    "    if strain=='strain' or strain=='str.':\n",
    "        strain = substrs[3]\n",
    "        k = 4    \n",
    "    sub = ' '.join(substrs[k:]) if len(substrs)>k else ''\n",
    "    return pd.Series({\n",
    "        'Genome ID':x['Genome ID'],\n",
    "        'genus':genus, 'species':species, 'strain':strain, 'sub':sub\n",
    "    })\n",
    "\n",
    "df_names = patric[['Genome','Genome ID']].drop_duplicates()\n",
    "sub_names = df_names.apply(split_names, axis=1)\n",
    "\n",
    "sub_names.species.unique()\n",
    "sub_names[ sub_names.species=='marmotae']\n",
    "\n",
    "sub_names.species.unique()\n",
    "\n",
    "keep_species = ['coli'] #,'sp.']\n",
    "ecoli_names = sub_names[ sub_names.species.isin(keep_species)]\n",
    "ecoli_names['Genome ID'].unique().shape\n",
    "\n",
    "# ecoli_names.to_csv('only_ecoli_names.csv', index=False)"
   ]
  },
  {
   "cell_type": "code",
   "execution_count": 7,
   "metadata": {
    "collapsed": false,
    "deletable": true,
    "editable": true
   },
   "outputs": [
    {
     "name": "stdout",
     "output_type": "stream",
     "text": [
      "E coli: 12117\n"
     ]
    },
    {
     "data": {
      "text/plain": [
       "(12479, 21)"
      ]
     },
     "execution_count": 7,
     "metadata": {},
     "output_type": "execute_result"
    }
   ],
   "source": [
    "ecoli_ids = ecoli_names['Genome ID'].unique()\n",
    "print(\"E coli: %d\"%len(ecoli_ids))\n",
    "\n",
    "patric = patric[ patric['Genome ID'].isin(ecoli_ids)]\n",
    "patric.shape"
   ]
  },
  {
   "cell_type": "code",
   "execution_count": 8,
   "metadata": {
    "collapsed": false,
    "deletable": true,
    "editable": true
   },
   "outputs": [
    {
     "name": "stderr",
     "output_type": "stream",
     "text": [
      "/usr/lib/python2.7/site-packages/pandas/core/frame.py:3781: SettingWithCopyWarning: \n",
      "A value is trying to be set on a copy of a slice from a DataFrame\n",
      "\n",
      "See the caveats in the documentation: http://pandas.pydata.org/pandas-docs/stable/indexing.html#indexing-view-versus-copy\n",
      "  return super(DataFrame, self).rename(**kwargs)\n"
     ]
    }
   ],
   "source": [
    "#efeU_table = patric[['Genome ID','PATRIC ID','RefSeq Locus Tag','Feature ID','Feature Type','Gene Symbol','Product']]\n",
    "efeU_table = patric[['Genome ID','PATRIC ID','RefSeq Locus Tag','Product']]\n",
    "efeU_table.rename(columns={'Genome ID':'genome.genome_id', 'PATRIC ID':'feature.patric_id', \n",
    "                           'RefSeq Locus Tag':'feature.refseq_locus_tag', 'Product':'feature.product'}, inplace=True)\n",
    "\n",
    "### WRITE TO FILE -- already did it\n",
    "#efeU_table.to_csv('efeU_products_all.tbl', sep='\\t', index=False)"
   ]
  },
  {
   "cell_type": "markdown",
   "metadata": {
    "deletable": true,
    "editable": true
   },
   "source": [
    "## Check for all possible deletions bringing stop codon in frame"
   ]
  },
  {
   "cell_type": "code",
   "execution_count": 9,
   "metadata": {
    "collapsed": true,
    "deletable": true,
    "editable": true
   },
   "outputs": [],
   "source": [
    "import re\n",
    "from six import iteritems\n",
    "\n",
    "stop_codons = ['tga','tag','taa']\n",
    "\n",
    "def frameshift_sequence(seq, i):\n",
    "    i1 = max(0,i)\n",
    "    i2 = i+1\n",
    "    seq2 = seq[0:i1] + seq[i2:]\n",
    "    return seq2\n",
    "\n",
    "def enum_fragment_locs(seq, simple_output=True):\n",
    "    \"\"\"\n",
    "    Enumerate all locations where frameshift would\n",
    "    bring stop codon in frame\n",
    "    \"\"\"    \n",
    "    seq_len = len(seq)\n",
    "    seq_dict = {}\n",
    "    for i in range(3,seq_len-1):\n",
    "        seq2 = frameshift_sequence(seq,i)        \n",
    "        ### Check 3 at a time\n",
    "        stop_dict = {}\n",
    "        for j in range(0,len(seq2),3):\n",
    "            cod = seq2[j:(j+3)]\n",
    "            if len(cod)==3 and cod in stop_codons:\n",
    "                stop_dict[j]=cod        \n",
    "        seq_dict[i] = stop_dict\n",
    "\n",
    "    if simple_output:\n",
    "        locs = [idel for idel,vdel in iteritems(seq_dict) if len(vdel)>0]\n",
    "        return locs\n",
    "    else:\n",
    "        return seq_dict"
   ]
  },
  {
   "cell_type": "markdown",
   "metadata": {
    "deletable": true,
    "editable": true
   },
   "source": [
    "### QUICK TEST"
   ]
  },
  {
   "cell_type": "code",
   "execution_count": 10,
   "metadata": {
    "collapsed": false,
    "deletable": true,
    "editable": true
   },
   "outputs": [
    {
     "name": "stdout",
     "output_type": "stream",
     "text": [
      "{3: {}, 4: {}, 5: {3: 'tag'}, 6: {}, 7: {}}\n"
     ]
    },
    {
     "data": {
      "text/plain": [
       "[5]"
      ]
     },
     "execution_count": 10,
     "metadata": {},
     "output_type": "execute_result"
    }
   ],
   "source": [
    "sb = 'atgtacggg'.lower()\n",
    "print(enum_fragment_locs(sb, simple_output=False))\n",
    "enum_fragment_locs(sb)"
   ]
  },
  {
   "cell_type": "code",
   "execution_count": 12,
   "metadata": {
    "collapsed": false,
    "deletable": true,
    "editable": true
   },
   "outputs": [],
   "source": [
    "df_seqs = pd.read_csv('../efeU_seqs_all.tbl', sep='\\t')\n",
    "df_seqs.loc[:,'genome.genome_id'] = df_seqs['genome.genome_id'].apply(str)\n",
    "df_seqs.loc[:,'length'] = df_seqs['feature.na_sequence'].apply(len)"
   ]
  },
  {
   "cell_type": "code",
   "execution_count": 13,
   "metadata": {
    "collapsed": false,
    "deletable": true,
    "editable": true
   },
   "outputs": [
    {
     "name": "stdout",
     "output_type": "stream",
     "text": [
      "[1. 2. 3. 4.]\n"
     ]
    },
    {
     "data": {
      "text/plain": [
       "(376, 5)"
      ]
     },
     "execution_count": 13,
     "metadata": {},
     "output_type": "execute_result"
    }
   ],
   "source": [
    "import pandas as pd\n",
    "import numpy as np\n",
    "\n",
    "dsplot_frag = df_seqs[ df_seqs.length < 831]\n",
    "dsplot_frag = dsplot_frag.sort_values('length')\n",
    "dsplot = dsplot_frag.groupby('genome.genome_id').apply(lambda x: pd.Series({\n",
    "    'n_fragments':len(x['length']),\n",
    "    'fragment1':x['length'].min(),\n",
    "    'fragment2':x['length'].max() if len(x['length'])>1 else np.nan,\n",
    "    'total_length':x['length'].sum()\n",
    "})).reset_index()\n",
    "print(dsplot.n_fragments.unique())\n",
    "dsplot = dsplot.sort_values('fragment1')\n",
    "dsplot.shape"
   ]
  },
  {
   "cell_type": "code",
   "execution_count": 14,
   "metadata": {
    "collapsed": false,
    "deletable": true,
    "editable": true
   },
   "outputs": [
    {
     "name": "stdout",
     "output_type": "stream",
     "text": [
      "376\n",
      "234\n"
     ]
    }
   ],
   "source": [
    "print len(dsplot['genome.genome_id'].unique())\n",
    "print len(dsplot[dsplot.n_fragments==2]['genome.genome_id'].unique())"
   ]
  },
  {
   "cell_type": "code",
   "execution_count": 15,
   "metadata": {
    "collapsed": false,
    "deletable": true,
    "editable": true
   },
   "outputs": [
    {
     "data": {
      "text/html": [
       "<div>\n",
       "<style scoped>\n",
       "    .dataframe tbody tr th:only-of-type {\n",
       "        vertical-align: middle;\n",
       "    }\n",
       "\n",
       "    .dataframe tbody tr th {\n",
       "        vertical-align: top;\n",
       "    }\n",
       "\n",
       "    .dataframe thead th {\n",
       "        text-align: right;\n",
       "    }\n",
       "</style>\n",
       "<table border=\"1\" class=\"dataframe\">\n",
       "  <thead>\n",
       "    <tr style=\"text-align: right;\">\n",
       "      <th></th>\n",
       "      <th>genome.genome_id</th>\n",
       "      <th>fragment1</th>\n",
       "      <th>fragment2</th>\n",
       "      <th>n_fragments</th>\n",
       "      <th>total_length</th>\n",
       "    </tr>\n",
       "  </thead>\n",
       "  <tbody>\n",
       "    <tr>\n",
       "      <th>375</th>\n",
       "      <td>879462.4</td>\n",
       "      <td>120.0</td>\n",
       "      <td>720.0</td>\n",
       "      <td>2.0</td>\n",
       "      <td>840.0</td>\n",
       "    </tr>\n",
       "    <tr>\n",
       "      <th>327</th>\n",
       "      <td>562.7808</td>\n",
       "      <td>120.0</td>\n",
       "      <td>720.0</td>\n",
       "      <td>2.0</td>\n",
       "      <td>840.0</td>\n",
       "    </tr>\n",
       "    <tr>\n",
       "      <th>328</th>\n",
       "      <td>562.7809</td>\n",
       "      <td>120.0</td>\n",
       "      <td>720.0</td>\n",
       "      <td>2.0</td>\n",
       "      <td>840.0</td>\n",
       "    </tr>\n",
       "    <tr>\n",
       "      <th>67</th>\n",
       "      <td>511145.616</td>\n",
       "      <td>120.0</td>\n",
       "      <td>720.0</td>\n",
       "      <td>2.0</td>\n",
       "      <td>840.0</td>\n",
       "    </tr>\n",
       "    <tr>\n",
       "      <th>68</th>\n",
       "      <td>511145.648</td>\n",
       "      <td>120.0</td>\n",
       "      <td>720.0</td>\n",
       "      <td>2.0</td>\n",
       "      <td>840.0</td>\n",
       "    </tr>\n",
       "    <tr>\n",
       "      <th>66</th>\n",
       "      <td>511145.209</td>\n",
       "      <td>120.0</td>\n",
       "      <td>720.0</td>\n",
       "      <td>2.0</td>\n",
       "      <td>840.0</td>\n",
       "    </tr>\n",
       "    <tr>\n",
       "      <th>60</th>\n",
       "      <td>511145.182</td>\n",
       "      <td>120.0</td>\n",
       "      <td>720.0</td>\n",
       "      <td>2.0</td>\n",
       "      <td>840.0</td>\n",
       "    </tr>\n",
       "    <tr>\n",
       "      <th>61</th>\n",
       "      <td>511145.183</td>\n",
       "      <td>120.0</td>\n",
       "      <td>720.0</td>\n",
       "      <td>2.0</td>\n",
       "      <td>840.0</td>\n",
       "    </tr>\n",
       "    <tr>\n",
       "      <th>57</th>\n",
       "      <td>511145.12</td>\n",
       "      <td>120.0</td>\n",
       "      <td>720.0</td>\n",
       "      <td>2.0</td>\n",
       "      <td>840.0</td>\n",
       "    </tr>\n",
       "    <tr>\n",
       "      <th>62</th>\n",
       "      <td>511145.184</td>\n",
       "      <td>120.0</td>\n",
       "      <td>720.0</td>\n",
       "      <td>2.0</td>\n",
       "      <td>840.0</td>\n",
       "    </tr>\n",
       "    <tr>\n",
       "      <th>63</th>\n",
       "      <td>511145.185</td>\n",
       "      <td>120.0</td>\n",
       "      <td>720.0</td>\n",
       "      <td>2.0</td>\n",
       "      <td>840.0</td>\n",
       "    </tr>\n",
       "    <tr>\n",
       "      <th>64</th>\n",
       "      <td>511145.186</td>\n",
       "      <td>120.0</td>\n",
       "      <td>720.0</td>\n",
       "      <td>2.0</td>\n",
       "      <td>840.0</td>\n",
       "    </tr>\n",
       "    <tr>\n",
       "      <th>65</th>\n",
       "      <td>511145.208</td>\n",
       "      <td>120.0</td>\n",
       "      <td>720.0</td>\n",
       "      <td>2.0</td>\n",
       "      <td>840.0</td>\n",
       "    </tr>\n",
       "    <tr>\n",
       "      <th>59</th>\n",
       "      <td>511145.181</td>\n",
       "      <td>120.0</td>\n",
       "      <td>720.0</td>\n",
       "      <td>2.0</td>\n",
       "      <td>840.0</td>\n",
       "    </tr>\n",
       "  </tbody>\n",
       "</table>\n",
       "</div>"
      ],
      "text/plain": [
       "    genome.genome_id  fragment1  fragment2  n_fragments  total_length\n",
       "375         879462.4      120.0      720.0          2.0         840.0\n",
       "327         562.7808      120.0      720.0          2.0         840.0\n",
       "328         562.7809      120.0      720.0          2.0         840.0\n",
       "67        511145.616      120.0      720.0          2.0         840.0\n",
       "68        511145.648      120.0      720.0          2.0         840.0\n",
       "66        511145.209      120.0      720.0          2.0         840.0\n",
       "60        511145.182      120.0      720.0          2.0         840.0\n",
       "61        511145.183      120.0      720.0          2.0         840.0\n",
       "57         511145.12      120.0      720.0          2.0         840.0\n",
       "62        511145.184      120.0      720.0          2.0         840.0\n",
       "63        511145.185      120.0      720.0          2.0         840.0\n",
       "64        511145.186      120.0      720.0          2.0         840.0\n",
       "65        511145.208      120.0      720.0          2.0         840.0\n",
       "59        511145.181      120.0      720.0          2.0         840.0"
      ]
     },
     "execution_count": 15,
     "metadata": {},
     "output_type": "execute_result"
    }
   ],
   "source": [
    "k12_ids = patric[ patric['Genome'].str.contains('MG1655')]['Genome ID'].unique()\n",
    "dsplot[ dsplot['genome.genome_id'].isin(k12_ids)]"
   ]
  },
  {
   "cell_type": "code",
   "execution_count": 16,
   "metadata": {
    "collapsed": false,
    "deletable": true,
    "editable": true
   },
   "outputs": [
    {
     "name": "stdout",
     "output_type": "stream",
     "text": [
      "Total lengths: 819--819.\tLength 1 = 99. (2 / 234 =0.855%)\n",
      "Total lengths: 918--918.\tLength 1 = 111. (1 / 234 =0.427%)\n",
      "Total lengths: 825--825.\tLength 1 = 117. (4 / 234 =1.71%)\n",
      "Total lengths: 840--840.\tLength 1 = 120. (161 / 234 =68.8%)\n",
      "Total lengths: 618--657.\tLength 1 = 132. (2 / 234 =0.855%)\n",
      "Total lengths: 777--777.\tLength 1 = 135. (1 / 234 =0.427%)\n",
      "Total lengths: 921--921.\tLength 1 = 141. (1 / 234 =0.427%)\n",
      "Total lengths: 297--297.\tLength 1 = 147. (1 / 234 =0.427%)\n",
      "Total lengths: 384--384.\tLength 1 = 162. (1 / 234 =0.427%)\n",
      "Total lengths: 723--1005.\tLength 1 = 177. (14 / 234 =5.98%)\n",
      "Total lengths: 789--789.\tLength 1 = 186. (1 / 234 =0.427%)\n",
      "Total lengths: 807--807.\tLength 1 = 189. (1 / 234 =0.427%)\n",
      "Total lengths: 705--705.\tLength 1 = 195. (1 / 234 =0.427%)\n",
      "Total lengths: 801--807.\tLength 1 = 198. (5 / 234 =2.14%)\n",
      "Total lengths: 702--819.\tLength 1 = 216. (2 / 234 =0.855%)\n",
      "Total lengths: 834--834.\tLength 1 = 231. (2 / 234 =0.855%)\n",
      "Total lengths: 855--855.\tLength 1 = 237. (1 / 234 =0.427%)\n",
      "Total lengths: 672--894.\tLength 1 = 243. (8 / 234 =3.42%)\n",
      "Total lengths: 531--531.\tLength 1 = 246. (1 / 234 =0.427%)\n",
      "Total lengths: 744--744.\tLength 1 = 258. (1 / 234 =0.427%)\n",
      "Total lengths: 873--873.\tLength 1 = 282. (1 / 234 =0.427%)\n",
      "Total lengths: 807--855.\tLength 1 = 300. (8 / 234 =3.42%)\n",
      "Total lengths: 846--846.\tLength 1 = 309. (1 / 234 =0.427%)\n",
      "Total lengths: 789--789.\tLength 1 = 318. (1 / 234 =0.427%)\n",
      "Total lengths: 774--879.\tLength 1 = 333. (5 / 234 =2.14%)\n",
      "Total lengths: 831--831.\tLength 1 = 360. (2 / 234 =0.855%)\n",
      "Total lengths: 750--918.\tLength 1 = 369. (3 / 234 =1.28%)\n",
      "Total lengths: 1023--1023.\tLength 1 = 420. (1 / 234 =0.427%)\n",
      "Total lengths: 894--894.\tLength 1 = 426. (1 / 234 =0.427%)\n"
     ]
    }
   ],
   "source": [
    "dsplot2 = dsplot[ dsplot.n_fragments==2]\n",
    "from __future__ import division\n",
    "\n",
    "n1s =dsplot2.fragment1.unique()\n",
    "for n1 in n1s:\n",
    "    dfi = dsplot2[ dsplot2.fragment1==n1]\n",
    "    ntotmin = dfi.total_length.min()\n",
    "    ntotmax = dfi.total_length.max()    \n",
    "    print(\"Total lengths: %d--%d.\\tLength 1 = %d. (%d / %d =%.3g%%)\" % (ntotmin,ntotmax,n1, dfi.shape[0], dsplot2.shape[0], 100*dfi.shape[0]/dsplot2.shape[0]))\n",
    "    #print(n1, dfi.shape[0])"
   ]
  },
  {
   "cell_type": "code",
   "execution_count": 17,
   "metadata": {
    "collapsed": false,
    "deletable": true,
    "editable": true
   },
   "outputs": [
    {
     "name": "stdout",
     "output_type": "stream",
     "text": [
      "(150.0, 828.0)\n"
     ]
    }
   ],
   "source": [
    "print(dsplot2.fragment2.min(), dsplot2.fragment2.max())"
   ]
  },
  {
   "cell_type": "code",
   "execution_count": 18,
   "metadata": {
    "collapsed": false,
    "deletable": true,
    "editable": true
   },
   "outputs": [
    {
     "name": "stdout",
     "output_type": "stream",
     "text": [
      "Total lengths: 297--297.\tLength 2 = 150. (1 / 234 =0.427%)\n",
      "Total lengths: 384--384.\tLength 2 = 222. (1 / 234 =0.427%)\n",
      "Total lengths: 531--531.\tLength 2 = 285. (1 / 234 =0.427%)\n",
      "Total lengths: 750--750.\tLength 2 = 381. (1 / 234 =0.427%)\n",
      "Total lengths: 672--672.\tLength 2 = 429. (1 / 234 =0.427%)\n",
      "Total lengths: 774--774.\tLength 2 = 441. (1 / 234 =0.427%)\n",
      "Total lengths: 894--894.\tLength 2 = 468. (1 / 234 =0.427%)\n",
      "Total lengths: 789--831.\tLength 2 = 471. (3 / 234 =1.28%)\n",
      "Total lengths: 618--744.\tLength 2 = 486. (3 / 234 =1.28%)\n",
      "Total lengths: 861--861.\tLength 2 = 492. (1 / 234 =0.427%)\n",
      "Total lengths: 834--834.\tLength 2 = 501. (1 / 234 =0.427%)\n",
      "Total lengths: 807--807.\tLength 2 = 507. (1 / 234 =0.427%)\n",
      "Total lengths: 705--705.\tLength 2 = 510. (1 / 234 =0.427%)\n",
      "Total lengths: 657--657.\tLength 2 = 525. (1 / 234 =0.427%)\n",
      "Total lengths: 846--846.\tLength 2 = 537. (1 / 234 =0.427%)\n",
      "Total lengths: 723--879.\tLength 2 = 546. (8 / 234 =3.42%)\n",
      "Total lengths: 918--918.\tLength 2 = 549. (1 / 234 =0.427%)\n",
      "Total lengths: 855--855.\tLength 2 = 555. (4 / 234 =1.71%)\n",
      "Total lengths: 819--819.\tLength 2 = 576. (1 / 234 =0.427%)\n",
      "Total lengths: 834--873.\tLength 2 = 591. (5 / 234 =2.14%)\n",
      "Total lengths: 837--837.\tLength 2 = 594. (1 / 234 =0.427%)\n",
      "Total lengths: 789--1023.\tLength 2 = 603. (9 / 234 =3.85%)\n",
      "Total lengths: 807--807.\tLength 2 = 609. (1 / 234 =0.427%)\n",
      "Total lengths: 792--792.\tLength 2 = 615. (1 / 234 =0.427%)\n",
      "Total lengths: 807--855.\tLength 2 = 618. (2 / 234 =0.855%)\n",
      "Total lengths: 801--801.\tLength 2 = 624. (1 / 234 =0.427%)\n",
      "Total lengths: 804--804.\tLength 2 = 627. (1 / 234 =0.427%)\n",
      "Total lengths: 777--819.\tLength 2 = 642. (2 / 234 =0.855%)\n",
      "Total lengths: 894--894.\tLength 2 = 651. (1 / 234 =0.427%)\n",
      "Total lengths: 834--834.\tLength 2 = 657. (7 / 234 =2.99%)\n",
      "Total lengths: 825--825.\tLength 2 = 708. (4 / 234 =1.71%)\n",
      "Total lengths: 819--840.\tLength 2 = 720. (163 / 234 =69.7%)\n",
      "Total lengths: 921--921.\tLength 2 = 780. (1 / 234 =0.427%)\n",
      "Total lengths: 918--918.\tLength 2 = 807. (1 / 234 =0.427%)\n",
      "Total lengths: 1005--1005.\tLength 2 = 828. (1 / 234 =0.427%)\n"
     ]
    }
   ],
   "source": [
    "n2s = sorted(dsplot2.fragment2.unique())\n",
    "for n2 in n2s:\n",
    "    dfi = dsplot2[ dsplot2.fragment2==n2]\n",
    "    ntotmin = dfi.total_length.min()\n",
    "    ntotmax = dfi.total_length.max()    \n",
    "    print(\"Total lengths: %d--%d.\\tLength 2 = %d. (%d / %d =%.3g%%)\" % (ntotmin,ntotmax,n2, dfi.shape[0], dsplot2.shape[0], 100*dfi.shape[0]/dsplot2.shape[0]))"
   ]
  },
  {
   "cell_type": "code",
   "execution_count": 19,
   "metadata": {
    "collapsed": false,
    "deletable": true,
    "editable": true
   },
   "outputs": [
    {
     "data": {
      "text/plain": [
       "array([2.])"
      ]
     },
     "execution_count": 19,
     "metadata": {},
     "output_type": "execute_result"
    }
   ],
   "source": [
    "dsplot2.n_fragments.unique()"
   ]
  },
  {
   "cell_type": "code",
   "execution_count": 20,
   "metadata": {
    "collapsed": false,
    "deletable": true,
    "editable": true
   },
   "outputs": [
    {
     "data": {
      "text/html": [
       "<div>\n",
       "<style scoped>\n",
       "    .dataframe tbody tr th:only-of-type {\n",
       "        vertical-align: middle;\n",
       "    }\n",
       "\n",
       "    .dataframe tbody tr th {\n",
       "        vertical-align: top;\n",
       "    }\n",
       "\n",
       "    .dataframe thead th {\n",
       "        text-align: right;\n",
       "    }\n",
       "</style>\n",
       "<table border=\"1\" class=\"dataframe\">\n",
       "  <thead>\n",
       "    <tr style=\"text-align: right;\">\n",
       "      <th></th>\n",
       "      <th>genome.genome_id</th>\n",
       "      <th>variable</th>\n",
       "      <th>value</th>\n",
       "    </tr>\n",
       "  </thead>\n",
       "  <tbody>\n",
       "    <tr>\n",
       "      <th>0</th>\n",
       "      <td>562.22905</td>\n",
       "      <td>fragment1</td>\n",
       "      <td>99.0</td>\n",
       "    </tr>\n",
       "    <tr>\n",
       "      <th>1</th>\n",
       "      <td>562.23196</td>\n",
       "      <td>fragment1</td>\n",
       "      <td>99.0</td>\n",
       "    </tr>\n",
       "  </tbody>\n",
       "</table>\n",
       "</div>"
      ],
      "text/plain": [
       "  genome.genome_id   variable  value\n",
       "0        562.22905  fragment1   99.0\n",
       "1        562.23196  fragment1   99.0"
      ]
     },
     "execution_count": 20,
     "metadata": {},
     "output_type": "execute_result"
    }
   ],
   "source": [
    "dsplotm = dsplot2[['genome.genome_id','fragment1','fragment2']].melt(id_vars='genome.genome_id')\n",
    "dsplotm.head(2)"
   ]
  },
  {
   "cell_type": "code",
   "execution_count": 21,
   "metadata": {
    "collapsed": false,
    "deletable": true,
    "editable": true
   },
   "outputs": [
    {
     "name": "stderr",
     "output_type": "stream",
     "text": [
      "/usr/lib/python2.7/site-packages/seaborn/axisgrid.py:230: UserWarning: The `size` paramter has been renamed to `height`; please update your code.\n",
      "  warnings.warn(msg, UserWarning)\n",
      "/usr/lib/python2.7/site-packages/scipy/stats/stats.py:1713: FutureWarning: Using a non-tuple sequence for multidimensional indexing is deprecated; use `arr[tuple(seq)]` instead of `arr[seq]`. In the future this will be interpreted as an array index, `arr[np.array(seq)]`, which will result either in an error or a different result.\n",
      "  return np.add.reduce(sorted[indexer] * weights, axis=axis) / sumval\n"
     ]
    },
    {
     "data": {
      "text/plain": [
       "<seaborn.axisgrid.FacetGrid at 0x7f0d3cbed410>"
      ]
     },
     "execution_count": 21,
     "metadata": {},
     "output_type": "execute_result"
    },
    {
     "data": {
      "image/png": "[encoded data removed]",
      "text/plain": [
       "<Figure size 471.665x288 with 1 Axes>"
      ]
     },
     "metadata": {},
     "output_type": "display_data"
    }
   ],
   "source": [
    "g = sns.FacetGrid(dsplotm, hue='variable', size=4, aspect=1.33)\n",
    "g.map(sns.kdeplot, 'value', shade=True)\n",
    "g.set_xlabels('Sequence length (bp)')\n",
    "g.set_ylabels('Density')\n",
    "g.set(xticks=range(0,1000,100))\n",
    "g.add_legend(title='')\n",
    "# g.savefig('/home/laurence/ME/figures/efeU/density_2_fragments_R01_062818.svg')\n",
    "# g.savefig('/home/laurence/ME/figures/efeU/density_2_fragments_R01_062818.pdf')\n",
    "# g.savefig('/home/laurence/ME/figures/efeU/density_2_fragments_R01_062818.png')"
   ]
  },
  {
   "cell_type": "code",
   "execution_count": null,
   "metadata": {
    "collapsed": false,
    "deletable": true,
    "editable": true
   },
   "outputs": [],
   "source": [
    "%%time\n",
    "rows = []\n",
    "for ir,row in df_seqs.iterrows():\n",
    "    seq = row['feature.na_sequence']\n",
    "    frag_locs = enum_fragment_locs(seq)    \n",
    "    rows.append({'Genome ID':str(row['genome.genome_id']),\n",
    "                 'PATRIC ID':row['feature.patric_id'],\n",
    "                 'Fragment_locs':frag_locs})\n",
    "        \n",
    "df_frag = pd.DataFrame(rows)"
   ]
  },
  {
   "cell_type": "code",
   "execution_count": null,
   "metadata": {
    "collapsed": false,
    "deletable": true,
    "editable": true
   },
   "outputs": [],
   "source": [
    "df_result = pd.merge(df_frag, patric, on=['Genome ID','PATRIC ID'])"
   ]
  },
  {
   "cell_type": "code",
   "execution_count": null,
   "metadata": {
    "collapsed": false,
    "deletable": true,
    "editable": true
   },
   "outputs": [],
   "source": [
    "last_stops = df_result[ df_result.Length.isin([830,831])].Fragment_locs.apply(lambda x: len(x))\n",
    "print(last_stops).unique()\n",
    "last_stops.hist()"
   ]
  },
  {
   "cell_type": "code",
   "execution_count": null,
   "metadata": {
    "collapsed": false,
    "deletable": true,
    "editable": true,
    "scrolled": true
   },
   "outputs": [],
   "source": [
    "nonfrag_gids = df_result.loc[ frag_locs=='', 'Genome ID']\n",
    "df_nonfrag = df_seqs[ df_seqs['genome.genome_id'].isin(nonfrag_gids)]\n",
    "len(df_nonfrag[ df_nonfrag.length>=830]['genome.genome_id'].unique())"
   ]
  },
  {
   "cell_type": "code",
   "execution_count": null,
   "metadata": {
    "collapsed": false,
    "deletable": true,
    "editable": true
   },
   "outputs": [],
   "source": [
    "df_result.loc[:,'frag_locs'] = df_result.Fragment_locs.apply(lambda x: ','.join([str(xi) for xi in x]))"
   ]
  },
  {
   "cell_type": "code",
   "execution_count": null,
   "metadata": {
    "collapsed": false,
    "deletable": true,
    "editable": true
   },
   "outputs": [],
   "source": [
    "df_res_full = df_result[ df_result.Length >= 830]\n",
    "df_res_full.shape"
   ]
  },
  {
   "cell_type": "code",
   "execution_count": null,
   "metadata": {
    "collapsed": false,
    "deletable": true,
    "editable": true
   },
   "outputs": [],
   "source": [
    "df_res_full[df_res_full.frag_locs == ''].shape"
   ]
  },
  {
   "cell_type": "code",
   "execution_count": null,
   "metadata": {
    "collapsed": false,
    "deletable": true,
    "editable": true
   },
   "outputs": [],
   "source": [
    "df_res_full[df_res_full.frag_locs != ''].shape"
   ]
  },
  {
   "cell_type": "code",
   "execution_count": null,
   "metadata": {
    "collapsed": false,
    "deletable": true,
    "editable": true
   },
   "outputs": [],
   "source": [
    "set([len(s) for s in df_res_full.Fragment_locs])"
   ]
  },
  {
   "cell_type": "code",
   "execution_count": null,
   "metadata": {
    "collapsed": false,
    "deletable": true,
    "editable": true
   },
   "outputs": [],
   "source": [
    "nonfrag_gids= df_res_full[ df_res_full.frag_locs=='']['Genome ID'].unique()"
   ]
  },
  {
   "cell_type": "code",
   "execution_count": null,
   "metadata": {
    "collapsed": true,
    "deletable": true,
    "editable": true
   },
   "outputs": [],
   "source": [
    "df_meta = pd.read_csv('/home/laurence/ME/data/Amitesh/PATRIC_genome.csv', dtype={'Genome ID':object})"
   ]
  },
  {
   "cell_type": "code",
   "execution_count": null,
   "metadata": {
    "collapsed": false,
    "deletable": true,
    "editable": true,
    "scrolled": false
   },
   "outputs": [],
   "source": [
    "df_nonfrag_meta = df_meta[ df_meta['Genome ID'].isin(nonfrag_gids)]\n",
    "# df_nonfrag_meta.to_csv('/home/laurence/ME/data/Amitesh/no_stopcodon_meta.csv', index=False)"
   ]
  },
  {
   "cell_type": "markdown",
   "metadata": {
    "deletable": true,
    "editable": true
   },
   "source": [
    "# Check if bias in fragmentation due to phylogeny vs. actual evolutionary trend"
   ]
  },
  {
   "cell_type": "code",
   "execution_count": 22,
   "metadata": {
    "collapsed": false,
    "deletable": true,
    "editable": true
   },
   "outputs": [],
   "source": [
    "from Bio import Phylo\n",
    "tree = Phylo.read('/home/laurence/ME/data/Amitesh/PATRIC_phylogeny_tree.nwk', 'newick')"
   ]
  },
  {
   "cell_type": "code",
   "execution_count": 23,
   "metadata": {
    "collapsed": false,
    "deletable": true,
    "editable": true
   },
   "outputs": [
    {
     "data": {
      "text/plain": [
       "1018"
      ]
     },
     "execution_count": 23,
     "metadata": {},
     "output_type": "execute_result"
    }
   ],
   "source": [
    "term_clades = tree.get_terminals()\n",
    "len(term_clades)"
   ]
  },
  {
   "cell_type": "code",
   "execution_count": 24,
   "metadata": {
    "collapsed": false,
    "deletable": true,
    "editable": true
   },
   "outputs": [
    {
     "data": {
      "text/plain": [
       "(20, 5)"
      ]
     },
     "execution_count": 24,
     "metadata": {},
     "output_type": "execute_result"
    }
   ],
   "source": [
    "clade_names = [c.name for c in term_clades]\n",
    "dsplot[ dsplot['genome.genome_id'].isin(clade_names)].shape"
   ]
  },
  {
   "cell_type": "code",
   "execution_count": 25,
   "metadata": {
    "collapsed": false,
    "deletable": true,
    "editable": true
   },
   "outputs": [
    {
     "data": {
      "text/plain": [
       "0.011196544699999998"
      ]
     },
     "execution_count": 25,
     "metadata": {},
     "output_type": "execute_result"
    }
   ],
   "source": [
    "tree.distance('478005.5', '199310.4')"
   ]
  },
  {
   "cell_type": "code",
   "execution_count": 26,
   "metadata": {
    "collapsed": false,
    "deletable": true,
    "editable": true
   },
   "outputs": [
    {
     "name": "stdout",
     "output_type": "stream",
     "text": [
      "1018\n",
      "0.0111965447\n"
     ]
    }
   ],
   "source": [
    "from Bio import Phylo\n",
    "tree = Phylo.read('/home/laurence/ME/data/Amitesh/PATRIC_phylogeny_tree_nissle.nwk', 'newick')\n",
    "term_clades = tree.get_terminals()\n",
    "print(len(term_clades))\n",
    "clade_names = [c.name for c in term_clades]\n",
    "dsplot[ dsplot['genome.genome_id'].isin(clade_names)].shape\n",
    "print(tree.distance('478005.5', '199310.4'))"
   ]
  },
  {
   "cell_type": "code",
   "execution_count": 27,
   "metadata": {
    "collapsed": false,
    "deletable": true,
    "editable": true
   },
   "outputs": [
    {
     "data": {
      "text/plain": [
       "161"
      ]
     },
     "execution_count": 27,
     "metadata": {},
     "output_type": "execute_result"
    }
   ],
   "source": [
    "ids120 = dsplot[ dsplot.fragment1==120]['genome.genome_id'].unique()\n",
    "len(ids120)"
   ]
  },
  {
   "cell_type": "markdown",
   "metadata": {
    "deletable": true,
    "editable": true
   },
   "source": [
    "# A: Simple first pass"
   ]
  },
  {
   "cell_type": "code",
   "execution_count": 28,
   "metadata": {
    "collapsed": false,
    "deletable": true,
    "editable": true
   },
   "outputs": [
    {
     "data": {
      "text/html": [
       "<div>\n",
       "<style scoped>\n",
       "    .dataframe tbody tr th:only-of-type {\n",
       "        vertical-align: middle;\n",
       "    }\n",
       "\n",
       "    .dataframe tbody tr th {\n",
       "        vertical-align: top;\n",
       "    }\n",
       "\n",
       "    .dataframe thead th {\n",
       "        text-align: right;\n",
       "    }\n",
       "</style>\n",
       "<table border=\"1\" class=\"dataframe\">\n",
       "  <thead>\n",
       "    <tr style=\"text-align: right;\">\n",
       "      <th></th>\n",
       "      <th>Genome ID</th>\n",
       "      <th>fragment1</th>\n",
       "      <th>fragment2</th>\n",
       "      <th>n_fragments</th>\n",
       "      <th>total_length</th>\n",
       "      <th>genus</th>\n",
       "      <th>species</th>\n",
       "      <th>strain</th>\n",
       "      <th>sub</th>\n",
       "    </tr>\n",
       "  </thead>\n",
       "  <tbody>\n",
       "    <tr>\n",
       "      <th>0</th>\n",
       "      <td>562.10529</td>\n",
       "      <td>81.0</td>\n",
       "      <td>591.0</td>\n",
       "      <td>4.0</td>\n",
       "      <td>1161.0</td>\n",
       "      <td>Escherichia</td>\n",
       "      <td>coli</td>\n",
       "      <td>32122</td>\n",
       "      <td></td>\n",
       "    </tr>\n",
       "    <tr>\n",
       "      <th>1</th>\n",
       "      <td>562.18844</td>\n",
       "      <td>93.0</td>\n",
       "      <td>492.0</td>\n",
       "      <td>3.0</td>\n",
       "      <td>717.0</td>\n",
       "      <td>Escherichia</td>\n",
       "      <td>coli</td>\n",
       "      <td>MOD1-EC5454</td>\n",
       "      <td></td>\n",
       "    </tr>\n",
       "    <tr>\n",
       "      <th>2</th>\n",
       "      <td>562.22905</td>\n",
       "      <td>99.0</td>\n",
       "      <td>720.0</td>\n",
       "      <td>2.0</td>\n",
       "      <td>819.0</td>\n",
       "      <td>Escherichia</td>\n",
       "      <td>coli</td>\n",
       "      <td>O2:H1</td>\n",
       "      <td>strain ECO0512</td>\n",
       "    </tr>\n",
       "    <tr>\n",
       "      <th>3</th>\n",
       "      <td>562.23196</td>\n",
       "      <td>99.0</td>\n",
       "      <td>720.0</td>\n",
       "      <td>2.0</td>\n",
       "      <td>819.0</td>\n",
       "      <td>Escherichia</td>\n",
       "      <td>coli</td>\n",
       "      <td>O2:H1</td>\n",
       "      <td>strain ECO0818</td>\n",
       "    </tr>\n",
       "    <tr>\n",
       "      <th>4</th>\n",
       "      <td>562.28184</td>\n",
       "      <td>105.0</td>\n",
       "      <td>552.0</td>\n",
       "      <td>4.0</td>\n",
       "      <td>1309.0</td>\n",
       "      <td>Escherichia</td>\n",
       "      <td>coli</td>\n",
       "      <td>SP-16</td>\n",
       "      <td>Combo</td>\n",
       "    </tr>\n",
       "  </tbody>\n",
       "</table>\n",
       "</div>"
      ],
      "text/plain": [
       "   Genome ID  fragment1  fragment2  n_fragments  total_length        genus  \\\n",
       "0  562.10529       81.0      591.0          4.0        1161.0  Escherichia   \n",
       "1  562.18844       93.0      492.0          3.0         717.0  Escherichia   \n",
       "2  562.22905       99.0      720.0          2.0         819.0  Escherichia   \n",
       "3  562.23196       99.0      720.0          2.0         819.0  Escherichia   \n",
       "4  562.28184      105.0      552.0          4.0        1309.0  Escherichia   \n",
       "\n",
       "  species       strain             sub  \n",
       "0    coli        32122                  \n",
       "1    coli  MOD1-EC5454                  \n",
       "2    coli        O2:H1  strain ECO0512  \n",
       "3    coli        O2:H1  strain ECO0818  \n",
       "4    coli        SP-16           Combo  "
      ]
     },
     "execution_count": 28,
     "metadata": {},
     "output_type": "execute_result"
    }
   ],
   "source": [
    "frag_names = pd.merge(dsplot.rename(columns={'genome.genome_id':'Genome ID'}), sub_names, on='Genome ID')\n",
    "frag_names = frag_names[frag_names.species=='coli']\n",
    "frag_names.head()"
   ]
  },
  {
   "cell_type": "code",
   "execution_count": 29,
   "metadata": {
    "collapsed": false,
    "deletable": true,
    "editable": true
   },
   "outputs": [],
   "source": [
    "frag_group = frag_names.groupby('strain').apply(lambda x: pd.Series({\n",
    "    'frag1_min':x['fragment1'].min(),\n",
    "    'frag1_max':x['fragment1'].max(),\n",
    "    'frag1_avg':x['fragment1'].mean(),\n",
    "    'count':len(x['fragment1'])\n",
    "})).reset_index()"
   ]
  },
  {
   "cell_type": "code",
   "execution_count": 30,
   "metadata": {
    "collapsed": false,
    "deletable": true,
    "editable": true,
    "scrolled": false
   },
   "outputs": [
    {
     "name": "stderr",
     "output_type": "stream",
     "text": [
      "/usr/lib/python2.7/site-packages/pandas/core/indexing.py:362: SettingWithCopyWarning: \n",
      "A value is trying to be set on a copy of a slice from a DataFrame.\n",
      "Try using .loc[row_indexer,col_indexer] = value instead\n",
      "\n",
      "See the caveats in the documentation: http://pandas.pydata.org/pandas-docs/stable/indexing.html#indexing-view-versus-copy\n",
      "  self.obj[key] = _infer_fill_value(value)\n",
      "/usr/lib/python2.7/site-packages/pandas/core/indexing.py:543: SettingWithCopyWarning: \n",
      "A value is trying to be set on a copy of a slice from a DataFrame.\n",
      "Try using .loc[row_indexer,col_indexer] = value instead\n",
      "\n",
      "See the caveats in the documentation: http://pandas.pydata.org/pandas-docs/stable/indexing.html#indexing-view-versus-copy\n",
      "  self.obj[item] = s\n"
     ]
    },
    {
     "data": {
      "text/plain": [
       "Text(0.5,1,'Genomes with 120 bp Fragment 1')"
      ]
     },
     "execution_count": 30,
     "metadata": {},
     "output_type": "execute_result"
    },
    {
     "data": {
      "image/png": "[encoded data removed]",
      "text/plain": [
       "<Figure size 432x288 with 1 Axes>"
      ]
     },
     "metadata": {},
     "output_type": "display_data"
    }
   ],
   "source": [
    "#frag_group[ frag_group.frag1_avg==120]\n",
    "dfsum = frag_group[ frag_group.frag1_avg==120]\n",
    "dfsum.loc[:,'label'] = dfsum.strain\n",
    "dfsum.loc[ dfsum.label != 'K-12','label'] = 'Other'\n",
    "dfsum = dfsum.groupby('label').agg({'count':sum, 'frag1_avg':min, 'frag1_min':min, 'frag1_max':min}).reset_index()\n",
    "dfsum.loc[:,'strain'] = dfsum.label\n",
    "labels = dfsum.label.values\n",
    "labels[ dfsum.strain=='K-12'] = 'K-12 (%d)'%(dfsum[dfsum.strain == 'K-12']['count'].sum())\n",
    "labels[ dfsum.strain!='K-12'] = 'Other (%d)'%(dfsum[dfsum.strain != 'K-12']['count'].sum())\n",
    "# labels[ labels != 'K-12'] = ''\n",
    "nstrains= dfsum.shape[0]\n",
    "explode = np.zeros(nstrains)\n",
    "explode[ dfsum.strain=='K-12'] = 0.1\n",
    "plt.pie('count', labels=labels, autopct=\"%1.1f%%\", data=dfsum, explode=explode)\n",
    "plt.axis('equal')\n",
    "plt.title('Genomes with 120 bp Fragment 1')"
   ]
  },
  {
   "cell_type": "code",
   "execution_count": 32,
   "metadata": {
    "collapsed": false
   },
   "outputs": [],
   "source": [
    "df234 = dsplot[dsplot.n_fragments==2]\n",
    "df234.to_csv('../df234.csv',index=False)"
   ]
  }
 ],
 "metadata": {
  "kernelspec": {
   "display_name": "Python 2",
   "language": "python",
   "name": "python2"
  },
  "language_info": {
   "codemirror_mode": {
    "name": "ipython",
    "version": 2
   },
   "file_extension": ".py",
   "mimetype": "text/x-python",
   "name": "python",
   "nbconvert_exporter": "python",
   "pygments_lexer": "ipython2",
   "version": "2.7.14"
  }
 },
 "nbformat": 4,
 "nbformat_minor": 2
}
