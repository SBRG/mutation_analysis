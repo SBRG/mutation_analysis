{
 "cells": [
  {
   "cell_type": "markdown",
   "metadata": {
    "deletable": true,
    "editable": true
   },
   "source": [
    "# Test hypothesis that lab strains enriched for efeU inactivation"
   ]
  },
  {
   "cell_type": "code",
   "execution_count": 1,
   "metadata": {
    "collapsed": true,
    "deletable": true,
    "editable": true
   },
   "outputs": [],
   "source": [
    "import seaborn as sns\n",
    "import pandas as pd\n",
    "%matplotlib inline"
   ]
  },
  {
   "cell_type": "markdown",
   "metadata": {
    "deletable": true,
    "editable": true
   },
   "source": [
    "### Load PATRIC result and filter out some rows"
   ]
  },
  {
   "cell_type": "code",
   "execution_count": 2,
   "metadata": {
    "collapsed": true,
    "deletable": true,
    "editable": true
   },
   "outputs": [],
   "source": [
    "COL_ID = 'Genome ID'"
   ]
  },
  {
   "cell_type": "code",
   "execution_count": 3,
   "metadata": {
    "collapsed": false,
    "deletable": true,
    "editable": true
   },
   "outputs": [
    {
     "name": "stdout",
     "output_type": "stream",
     "text": [
      "(12626, 21)\n"
     ]
    }
   ],
   "source": [
    "patric = pd.read_csv('/home/laurence/ME/data/Amitesh/PATRIC_genome_feature_efeU.csv', dtype={'Genome ID':object})\n",
    "exclude_genomes = ['Escherichia coli', 'Escherichia coli DSM 30083 = JCM 1649 = ATCC 11775']\n",
    "patric = patric[~patric.Genome.isin(exclude_genomes)]   # want specific strains\n",
    "print(patric.shape)"
   ]
  },
  {
   "cell_type": "markdown",
   "metadata": {
    "deletable": true,
    "editable": true
   },
   "source": [
    "### Filter out non-coli species"
   ]
  },
  {
   "cell_type": "code",
   "execution_count": 13,
   "metadata": {
    "collapsed": false,
    "deletable": true,
    "editable": true
   },
   "outputs": [
    {
     "name": "stdout",
     "output_type": "stream",
     "text": [
      "E coli: 12117\n"
     ]
    },
    {
     "data": {
      "text/plain": [
       "(12479, 21)"
      ]
     },
     "execution_count": 13,
     "metadata": {},
     "output_type": "execute_result"
    }
   ],
   "source": [
    "ecoli_names = pd.read_csv('only_ecoli_names.csv', dtype={'Genome ID':object})\n",
    "ecoli_ids = ecoli_names['Genome ID'].unique()\n",
    "print(\"E coli: %d\"%len(ecoli_ids))\n",
    "\n",
    "patric = patric[ patric['Genome ID'].isin(ecoli_ids)]\n",
    "patric.shape"
   ]
  },
  {
   "cell_type": "markdown",
   "metadata": {
    "deletable": true,
    "editable": true
   },
   "source": [
    "# Test 1: If a given organism has >1 efeU product, those are probably fragments"
   ]
  },
  {
   "cell_type": "code",
   "execution_count": 14,
   "metadata": {
    "collapsed": false,
    "deletable": true,
    "editable": true
   },
   "outputs": [
    {
     "data": {
      "text/plain": [
       "(12464, 3)"
      ]
     },
     "execution_count": 14,
     "metadata": {},
     "output_type": "execute_result"
    }
   ],
   "source": [
    "df_pars = patric[[COL_ID,'Product','Length']].drop_duplicates()\n",
    "df_pars.shape"
   ]
  },
  {
   "cell_type": "code",
   "execution_count": 16,
   "metadata": {
    "collapsed": false,
    "deletable": true,
    "editable": true
   },
   "outputs": [],
   "source": [
    "df_lengths = df_pars.groupby(COL_ID).apply(lambda x: ';'.join([str(xi) for xi in x['Length']])).reset_index(name='Lengths')"
   ]
  },
  {
   "cell_type": "code",
   "execution_count": 17,
   "metadata": {
    "collapsed": false,
    "deletable": true,
    "editable": true
   },
   "outputs": [],
   "source": [
    "df_lengths = df_pars.groupby(COL_ID).apply(lambda x: pd.Series(\n",
    "    {\n",
    "        'Lengths':';'.join([str(xi) for xi in x['Length']]),\n",
    "        'Count':len(x),\n",
    "        'TotLength':sum(x['Length'])\n",
    "    }\n",
    ")).reset_index()"
   ]
  },
  {
   "cell_type": "code",
   "execution_count": 18,
   "metadata": {
    "collapsed": false,
    "deletable": true,
    "editable": true
   },
   "outputs": [],
   "source": [
    "df_ids = patric[['Genome','Genome ID']].drop_duplicates()\n",
    "df_lengths = pd.merge(df_lengths, df_ids, on=COL_ID)"
   ]
  },
  {
   "cell_type": "code",
   "execution_count": 19,
   "metadata": {
    "collapsed": false,
    "deletable": true,
    "editable": true
   },
   "outputs": [
    {
     "data": {
      "text/plain": [
       "array([1, 2, 3, 4])"
      ]
     },
     "execution_count": 19,
     "metadata": {},
     "output_type": "execute_result"
    }
   ],
   "source": [
    "df_lengths.Count.unique()"
   ]
  },
  {
   "cell_type": "code",
   "execution_count": 20,
   "metadata": {
    "collapsed": false,
    "deletable": true,
    "editable": true
   },
   "outputs": [
    {
     "data": {
      "text/plain": [
       "array(['Escherichia coli JCM 18426', 'Escherichia coli JCM 5491',\n",
       "       'Escherichia coli TOP293-4', 'Escherichia coli strain RCE04',\n",
       "       'Escherichia coli strain RCE01', 'Escherichia coli strain RCE05',\n",
       "       'Escherichia coli strain 32122', 'Escherichia coli strain EF467',\n",
       "       'Escherichia coli strain MOD1-EC5472',\n",
       "       'Escherichia coli strain MOD1-EC5454',\n",
       "       'Escherichia coli strain MOD1-EC5440',\n",
       "       'Escherichia coli strain MOD1-EC5445',\n",
       "       'Escherichia coli strain MOD1-EC5443',\n",
       "       'Escherichia coli strain MOD1-EC1686',\n",
       "       'Escherichia coli strain SMN197SH3',\n",
       "       'Escherichia coli strain SMN152SH1',\n",
       "       'Escherichia coli strain SMN013SH2',\n",
       "       'Escherichia coli strain SP-16 Combo',\n",
       "       'Escherichia coli strain 2014C-3011',\n",
       "       'Escherichia coli strain RU1 BHI6'], dtype=object)"
      ]
     },
     "execution_count": 20,
     "metadata": {},
     "output_type": "execute_result"
    }
   ],
   "source": [
    "df_lengths[ df_lengths.Count>2]['Genome'].unique()"
   ]
  },
  {
   "cell_type": "markdown",
   "metadata": {
    "deletable": true,
    "editable": true
   },
   "source": [
    "## Spot check\n",
    "- MG1655:\n",
    "    - efeU_1 (111 bp)\n",
    "    - efeU_2 (732 bp)\n",
    "- Nissle 1917:\n",
    "    - efeU (ycdN): ferrous iron permease\n",
    "- O157:H7\n",
    "    - efeUOB operon: tripartite Fe(II) transport system"
   ]
  },
  {
   "cell_type": "markdown",
   "metadata": {
    "deletable": true,
    "editable": true
   },
   "source": [
    "## MG1655: PASS (but filter subsets of MG1655)"
   ]
  },
  {
   "cell_type": "code",
   "execution_count": 21,
   "metadata": {
    "collapsed": false,
    "deletable": true,
    "editable": true
   },
   "outputs": [
    {
     "data": {
      "text/html": [
       "<div>\n",
       "<style scoped>\n",
       "    .dataframe tbody tr th:only-of-type {\n",
       "        vertical-align: middle;\n",
       "    }\n",
       "\n",
       "    .dataframe tbody tr th {\n",
       "        vertical-align: top;\n",
       "    }\n",
       "\n",
       "    .dataframe thead th {\n",
       "        text-align: right;\n",
       "    }\n",
       "</style>\n",
       "<table border=\"1\" class=\"dataframe\">\n",
       "  <thead>\n",
       "    <tr style=\"text-align: right;\">\n",
       "      <th></th>\n",
       "      <th>Genome ID</th>\n",
       "      <th>Count</th>\n",
       "      <th>Lengths</th>\n",
       "      <th>TotLength</th>\n",
       "      <th>Genome</th>\n",
       "    </tr>\n",
       "  </thead>\n",
       "  <tbody>\n",
       "    <tr>\n",
       "      <th>2414</th>\n",
       "      <td>511145.12</td>\n",
       "      <td>2</td>\n",
       "      <td>120;720</td>\n",
       "      <td>840</td>\n",
       "      <td>Escherichia coli str. K-12 substr. MG1655</td>\n",
       "    </tr>\n",
       "    <tr>\n",
       "      <th>2415</th>\n",
       "      <td>511145.180</td>\n",
       "      <td>2</td>\n",
       "      <td>120;720</td>\n",
       "      <td>840</td>\n",
       "      <td>Escherichia coli str. K-12 substr. MG1655</td>\n",
       "    </tr>\n",
       "    <tr>\n",
       "      <th>2416</th>\n",
       "      <td>511145.181</td>\n",
       "      <td>2</td>\n",
       "      <td>120;720</td>\n",
       "      <td>840</td>\n",
       "      <td>Escherichia coli str. K-12 substr. MG1655</td>\n",
       "    </tr>\n",
       "    <tr>\n",
       "      <th>2417</th>\n",
       "      <td>511145.182</td>\n",
       "      <td>2</td>\n",
       "      <td>120;720</td>\n",
       "      <td>840</td>\n",
       "      <td>Escherichia coli str. K-12 substr. MG1655</td>\n",
       "    </tr>\n",
       "    <tr>\n",
       "      <th>2418</th>\n",
       "      <td>511145.183</td>\n",
       "      <td>2</td>\n",
       "      <td>120;720</td>\n",
       "      <td>840</td>\n",
       "      <td>Escherichia coli str. K-12 substr. MG1655</td>\n",
       "    </tr>\n",
       "    <tr>\n",
       "      <th>2419</th>\n",
       "      <td>511145.184</td>\n",
       "      <td>2</td>\n",
       "      <td>720;120</td>\n",
       "      <td>840</td>\n",
       "      <td>Escherichia coli str. K-12 substr. MG1655</td>\n",
       "    </tr>\n",
       "    <tr>\n",
       "      <th>2420</th>\n",
       "      <td>511145.185</td>\n",
       "      <td>2</td>\n",
       "      <td>720;120</td>\n",
       "      <td>840</td>\n",
       "      <td>Escherichia coli str. K-12 substr. MG1655</td>\n",
       "    </tr>\n",
       "    <tr>\n",
       "      <th>2421</th>\n",
       "      <td>511145.186</td>\n",
       "      <td>2</td>\n",
       "      <td>720;120</td>\n",
       "      <td>840</td>\n",
       "      <td>Escherichia coli str. K-12 substr. MG1655</td>\n",
       "    </tr>\n",
       "    <tr>\n",
       "      <th>2422</th>\n",
       "      <td>511145.208</td>\n",
       "      <td>2</td>\n",
       "      <td>120;720</td>\n",
       "      <td>840</td>\n",
       "      <td>Escherichia coli str. K-12 substr. MG1655</td>\n",
       "    </tr>\n",
       "    <tr>\n",
       "      <th>2423</th>\n",
       "      <td>511145.209</td>\n",
       "      <td>2</td>\n",
       "      <td>720;120</td>\n",
       "      <td>840</td>\n",
       "      <td>Escherichia coli str. K-12 substr. MG1655</td>\n",
       "    </tr>\n",
       "    <tr>\n",
       "      <th>2424</th>\n",
       "      <td>511145.616</td>\n",
       "      <td>2</td>\n",
       "      <td>120;720</td>\n",
       "      <td>840</td>\n",
       "      <td>Escherichia coli str. K-12 substr. MG1655</td>\n",
       "    </tr>\n",
       "    <tr>\n",
       "      <th>2425</th>\n",
       "      <td>511145.648</td>\n",
       "      <td>2</td>\n",
       "      <td>120;720</td>\n",
       "      <td>840</td>\n",
       "      <td>Escherichia coli str. K-12 substr. MG1655 stra...</td>\n",
       "    </tr>\n",
       "    <tr>\n",
       "      <th>10959</th>\n",
       "      <td>562.7808</td>\n",
       "      <td>2</td>\n",
       "      <td>720;120</td>\n",
       "      <td>840</td>\n",
       "      <td>Escherichia coli strain K-12 substrain MG1655_...</td>\n",
       "    </tr>\n",
       "    <tr>\n",
       "      <th>10960</th>\n",
       "      <td>562.7809</td>\n",
       "      <td>2</td>\n",
       "      <td>720;120</td>\n",
       "      <td>840</td>\n",
       "      <td>Escherichia coli strain K-12 substrain MG1655_...</td>\n",
       "    </tr>\n",
       "    <tr>\n",
       "      <th>12087</th>\n",
       "      <td>879462.4</td>\n",
       "      <td>2</td>\n",
       "      <td>120;720</td>\n",
       "      <td>840</td>\n",
       "      <td>Escherichia coli str. K-12 substr. MG1655star</td>\n",
       "    </tr>\n",
       "  </tbody>\n",
       "</table>\n",
       "</div>"
      ],
      "text/plain": [
       "        Genome ID  Count  Lengths  TotLength  \\\n",
       "2414    511145.12      2  120;720        840   \n",
       "2415   511145.180      2  120;720        840   \n",
       "2416   511145.181      2  120;720        840   \n",
       "2417   511145.182      2  120;720        840   \n",
       "2418   511145.183      2  120;720        840   \n",
       "2419   511145.184      2  720;120        840   \n",
       "2420   511145.185      2  720;120        840   \n",
       "2421   511145.186      2  720;120        840   \n",
       "2422   511145.208      2  120;720        840   \n",
       "2423   511145.209      2  720;120        840   \n",
       "2424   511145.616      2  120;720        840   \n",
       "2425   511145.648      2  120;720        840   \n",
       "10959    562.7808      2  720;120        840   \n",
       "10960    562.7809      2  720;120        840   \n",
       "12087    879462.4      2  120;720        840   \n",
       "\n",
       "                                                  Genome  \n",
       "2414           Escherichia coli str. K-12 substr. MG1655  \n",
       "2415           Escherichia coli str. K-12 substr. MG1655  \n",
       "2416           Escherichia coli str. K-12 substr. MG1655  \n",
       "2417           Escherichia coli str. K-12 substr. MG1655  \n",
       "2418           Escherichia coli str. K-12 substr. MG1655  \n",
       "2419           Escherichia coli str. K-12 substr. MG1655  \n",
       "2420           Escherichia coli str. K-12 substr. MG1655  \n",
       "2421           Escherichia coli str. K-12 substr. MG1655  \n",
       "2422           Escherichia coli str. K-12 substr. MG1655  \n",
       "2423           Escherichia coli str. K-12 substr. MG1655  \n",
       "2424           Escherichia coli str. K-12 substr. MG1655  \n",
       "2425   Escherichia coli str. K-12 substr. MG1655 stra...  \n",
       "10959  Escherichia coli strain K-12 substrain MG1655_...  \n",
       "10960  Escherichia coli strain K-12 substrain MG1655_...  \n",
       "12087      Escherichia coli str. K-12 substr. MG1655star  "
      ]
     },
     "execution_count": 21,
     "metadata": {},
     "output_type": "execute_result"
    }
   ],
   "source": [
    "df_lengths[ df_lengths.Genome.str.contains('MG1655')]"
   ]
  },
  {
   "cell_type": "markdown",
   "metadata": {
    "deletable": true,
    "editable": true
   },
   "source": [
    "## Nissle 1917: PASS. One product per genome ID."
   ]
  },
  {
   "cell_type": "code",
   "execution_count": 22,
   "metadata": {
    "collapsed": false,
    "deletable": true,
    "editable": true
   },
   "outputs": [
    {
     "data": {
      "text/html": [
       "<div>\n",
       "<style scoped>\n",
       "    .dataframe tbody tr th:only-of-type {\n",
       "        vertical-align: middle;\n",
       "    }\n",
       "\n",
       "    .dataframe tbody tr th {\n",
       "        vertical-align: top;\n",
       "    }\n",
       "\n",
       "    .dataframe thead th {\n",
       "        text-align: right;\n",
       "    }\n",
       "</style>\n",
       "<table border=\"1\" class=\"dataframe\">\n",
       "  <thead>\n",
       "    <tr style=\"text-align: right;\">\n",
       "      <th></th>\n",
       "      <th>Genome ID</th>\n",
       "      <th>Count</th>\n",
       "      <th>Lengths</th>\n",
       "      <th>TotLength</th>\n",
       "      <th>Genome</th>\n",
       "    </tr>\n",
       "  </thead>\n",
       "  <tbody>\n",
       "    <tr>\n",
       "      <th>2335</th>\n",
       "      <td>316435.10</td>\n",
       "      <td>1</td>\n",
       "      <td>720</td>\n",
       "      <td>720</td>\n",
       "      <td>Escherichia coli Nissle 1917</td>\n",
       "    </tr>\n",
       "    <tr>\n",
       "      <th>2336</th>\n",
       "      <td>316435.3</td>\n",
       "      <td>1</td>\n",
       "      <td>831</td>\n",
       "      <td>831</td>\n",
       "      <td>Escherichia coli Nissle 1917</td>\n",
       "    </tr>\n",
       "  </tbody>\n",
       "</table>\n",
       "</div>"
      ],
      "text/plain": [
       "      Genome ID  Count Lengths  TotLength                        Genome\n",
       "2335  316435.10      1     720        720  Escherichia coli Nissle 1917\n",
       "2336   316435.3      1     831        831  Escherichia coli Nissle 1917"
      ]
     },
     "execution_count": 22,
     "metadata": {},
     "output_type": "execute_result"
    }
   ],
   "source": [
    "df_lengths[ df_lengths.Genome.str.contains('Nissle')]"
   ]
  },
  {
   "cell_type": "markdown",
   "metadata": {
    "deletable": true,
    "editable": true
   },
   "source": [
    "## O157:H7: PASS. One product of 831 bp. Again, filter out subset."
   ]
  },
  {
   "cell_type": "code",
   "execution_count": 23,
   "metadata": {
    "collapsed": false,
    "deletable": true,
    "editable": true
   },
   "outputs": [
    {
     "data": {
      "text/html": [
       "<div>\n",
       "<style scoped>\n",
       "    .dataframe tbody tr th:only-of-type {\n",
       "        vertical-align: middle;\n",
       "    }\n",
       "\n",
       "    .dataframe tbody tr th {\n",
       "        vertical-align: top;\n",
       "    }\n",
       "\n",
       "    .dataframe thead th {\n",
       "        text-align: right;\n",
       "    }\n",
       "</style>\n",
       "<table border=\"1\" class=\"dataframe\">\n",
       "  <thead>\n",
       "    <tr style=\"text-align: right;\">\n",
       "      <th></th>\n",
       "      <th>Genome ID</th>\n",
       "      <th>Count</th>\n",
       "      <th>Lengths</th>\n",
       "      <th>TotLength</th>\n",
       "      <th>Genome</th>\n",
       "    </tr>\n",
       "  </thead>\n",
       "  <tbody>\n",
       "    <tr>\n",
       "      <th>828</th>\n",
       "      <td>1240385.3</td>\n",
       "      <td>1</td>\n",
       "      <td>831</td>\n",
       "      <td>831</td>\n",
       "      <td>Escherichia coli O157:H7 str. H093800014</td>\n",
       "    </tr>\n",
       "    <tr>\n",
       "      <th>1220</th>\n",
       "      <td>1282359.4</td>\n",
       "      <td>1</td>\n",
       "      <td>831</td>\n",
       "      <td>831</td>\n",
       "      <td>Escherichia coli O157:H7 str. EC1825</td>\n",
       "    </tr>\n",
       "    <tr>\n",
       "      <th>1248</th>\n",
       "      <td>1286877.4</td>\n",
       "      <td>1</td>\n",
       "      <td>831</td>\n",
       "      <td>831</td>\n",
       "      <td>Escherichia coli O157:H7 str. TW14313</td>\n",
       "    </tr>\n",
       "    <tr>\n",
       "      <th>1283</th>\n",
       "      <td>1328859.4</td>\n",
       "      <td>1</td>\n",
       "      <td>831</td>\n",
       "      <td>831</td>\n",
       "      <td>Escherichia coli O157:H7 str. SS17</td>\n",
       "    </tr>\n",
       "    <tr>\n",
       "      <th>1285</th>\n",
       "      <td>1330457.6</td>\n",
       "      <td>1</td>\n",
       "      <td>831</td>\n",
       "      <td>831</td>\n",
       "      <td>Escherichia coli O157:H7 str. SS52</td>\n",
       "    </tr>\n",
       "    <tr>\n",
       "      <th>1318</th>\n",
       "      <td>1343836.3</td>\n",
       "      <td>1</td>\n",
       "      <td>831</td>\n",
       "      <td>831</td>\n",
       "      <td>Escherichia coli O157:H7 str. F8092B</td>\n",
       "    </tr>\n",
       "    <tr>\n",
       "      <th>1325</th>\n",
       "      <td>1387069.3</td>\n",
       "      <td>1</td>\n",
       "      <td>831</td>\n",
       "      <td>831</td>\n",
       "      <td>Escherichia coli O157:H7 str. 09BKT048303</td>\n",
       "    </tr>\n",
       "    <tr>\n",
       "      <th>1326</th>\n",
       "      <td>1387070.3</td>\n",
       "      <td>1</td>\n",
       "      <td>831</td>\n",
       "      <td>831</td>\n",
       "      <td>Escherichia coli O157:H7 str. 08BKT061141</td>\n",
       "    </tr>\n",
       "    <tr>\n",
       "      <th>1327</th>\n",
       "      <td>1387071.3</td>\n",
       "      <td>1</td>\n",
       "      <td>831</td>\n",
       "      <td>831</td>\n",
       "      <td>Escherichia coli O157:H7 str. T1543_06</td>\n",
       "    </tr>\n",
       "    <tr>\n",
       "      <th>1803</th>\n",
       "      <td>1446609.3</td>\n",
       "      <td>1</td>\n",
       "      <td>831</td>\n",
       "      <td>831</td>\n",
       "      <td>Escherichia coli O157:H7 str. 06-3745</td>\n",
       "    </tr>\n",
       "    <tr>\n",
       "      <th>1804</th>\n",
       "      <td>1446610.3</td>\n",
       "      <td>1</td>\n",
       "      <td>831</td>\n",
       "      <td>831</td>\n",
       "      <td>Escherichia coli O157:H7 str. 06-4039</td>\n",
       "    </tr>\n",
       "    <tr>\n",
       "      <th>1805</th>\n",
       "      <td>1446611.3</td>\n",
       "      <td>1</td>\n",
       "      <td>831</td>\n",
       "      <td>831</td>\n",
       "      <td>Escherichia coli O157:H7 str. 07-3091</td>\n",
       "    </tr>\n",
       "    <tr>\n",
       "      <th>1806</th>\n",
       "      <td>1446612.3</td>\n",
       "      <td>1</td>\n",
       "      <td>831</td>\n",
       "      <td>831</td>\n",
       "      <td>Escherichia coli O157:H7 str. 07-3391</td>\n",
       "    </tr>\n",
       "    <tr>\n",
       "      <th>1807</th>\n",
       "      <td>1446613.3</td>\n",
       "      <td>1</td>\n",
       "      <td>831</td>\n",
       "      <td>831</td>\n",
       "      <td>Escherichia coli O157:H7 str. 08-3037</td>\n",
       "    </tr>\n",
       "    <tr>\n",
       "      <th>1808</th>\n",
       "      <td>1446614.3</td>\n",
       "      <td>1</td>\n",
       "      <td>831</td>\n",
       "      <td>831</td>\n",
       "      <td>Escherichia coli O157:H7 str. 08-3527</td>\n",
       "    </tr>\n",
       "    <tr>\n",
       "      <th>1809</th>\n",
       "      <td>1446615.3</td>\n",
       "      <td>1</td>\n",
       "      <td>831</td>\n",
       "      <td>831</td>\n",
       "      <td>Escherichia coli O157:H7 str. 08-4169</td>\n",
       "    </tr>\n",
       "    <tr>\n",
       "      <th>1810</th>\n",
       "      <td>1446616.3</td>\n",
       "      <td>1</td>\n",
       "      <td>831</td>\n",
       "      <td>831</td>\n",
       "      <td>Escherichia coli O157:H7 str. 08-4529</td>\n",
       "    </tr>\n",
       "    <tr>\n",
       "      <th>1811</th>\n",
       "      <td>1446617.3</td>\n",
       "      <td>1</td>\n",
       "      <td>831</td>\n",
       "      <td>831</td>\n",
       "      <td>Escherichia coli O157:H7 str. 2009C-4258</td>\n",
       "    </tr>\n",
       "    <tr>\n",
       "      <th>1812</th>\n",
       "      <td>1446618.3</td>\n",
       "      <td>1</td>\n",
       "      <td>831</td>\n",
       "      <td>831</td>\n",
       "      <td>Escherichia coli O157:H7 str. 2009EL1449</td>\n",
       "    </tr>\n",
       "    <tr>\n",
       "      <th>1813</th>\n",
       "      <td>1446619.3</td>\n",
       "      <td>1</td>\n",
       "      <td>831</td>\n",
       "      <td>831</td>\n",
       "      <td>Escherichia coli O157:H7 str. 2009EL1705</td>\n",
       "    </tr>\n",
       "    <tr>\n",
       "      <th>1814</th>\n",
       "      <td>1446620.3</td>\n",
       "      <td>1</td>\n",
       "      <td>831</td>\n",
       "      <td>831</td>\n",
       "      <td>Escherichia coli O157:H7 str. 2009EL1913</td>\n",
       "    </tr>\n",
       "    <tr>\n",
       "      <th>1815</th>\n",
       "      <td>1446621.3</td>\n",
       "      <td>1</td>\n",
       "      <td>831</td>\n",
       "      <td>831</td>\n",
       "      <td>Escherichia coli O157:H7 str. 2009EL2109</td>\n",
       "    </tr>\n",
       "    <tr>\n",
       "      <th>1816</th>\n",
       "      <td>1446622.3</td>\n",
       "      <td>1</td>\n",
       "      <td>831</td>\n",
       "      <td>831</td>\n",
       "      <td>Escherichia coli O157:H7 str. 2010C-4979C1</td>\n",
       "    </tr>\n",
       "    <tr>\n",
       "      <th>1817</th>\n",
       "      <td>1446623.3</td>\n",
       "      <td>1</td>\n",
       "      <td>831</td>\n",
       "      <td>831</td>\n",
       "      <td>Escherichia coli O157:H7 str. 2011EL-1107</td>\n",
       "    </tr>\n",
       "    <tr>\n",
       "      <th>1818</th>\n",
       "      <td>1446624.3</td>\n",
       "      <td>1</td>\n",
       "      <td>831</td>\n",
       "      <td>831</td>\n",
       "      <td>Escherichia coli O157:H7 str. 2011EL-2090</td>\n",
       "    </tr>\n",
       "    <tr>\n",
       "      <th>1819</th>\n",
       "      <td>1446625.3</td>\n",
       "      <td>1</td>\n",
       "      <td>831</td>\n",
       "      <td>831</td>\n",
       "      <td>Escherichia coli O157:H7 str. 2011EL-2091</td>\n",
       "    </tr>\n",
       "    <tr>\n",
       "      <th>1820</th>\n",
       "      <td>1446626.3</td>\n",
       "      <td>1</td>\n",
       "      <td>831</td>\n",
       "      <td>831</td>\n",
       "      <td>Escherichia coli O157:H7 str. 2011EL-2092</td>\n",
       "    </tr>\n",
       "    <tr>\n",
       "      <th>1821</th>\n",
       "      <td>1446627.3</td>\n",
       "      <td>1</td>\n",
       "      <td>831</td>\n",
       "      <td>831</td>\n",
       "      <td>Escherichia coli O157:H7 str. 2011EL-2093</td>\n",
       "    </tr>\n",
       "    <tr>\n",
       "      <th>1822</th>\n",
       "      <td>1446628.3</td>\n",
       "      <td>1</td>\n",
       "      <td>831</td>\n",
       "      <td>831</td>\n",
       "      <td>Escherichia coli O157:H7 str. 2011EL-2094</td>\n",
       "    </tr>\n",
       "    <tr>\n",
       "      <th>1823</th>\n",
       "      <td>1446629.3</td>\n",
       "      <td>1</td>\n",
       "      <td>831</td>\n",
       "      <td>831</td>\n",
       "      <td>Escherichia coli O157:H7 str. 2011EL-2096</td>\n",
       "    </tr>\n",
       "    <tr>\n",
       "      <th>...</th>\n",
       "      <td>...</td>\n",
       "      <td>...</td>\n",
       "      <td>...</td>\n",
       "      <td>...</td>\n",
       "      <td>...</td>\n",
       "    </tr>\n",
       "    <tr>\n",
       "      <th>11958</th>\n",
       "      <td>83334.175</td>\n",
       "      <td>1</td>\n",
       "      <td>831</td>\n",
       "      <td>831</td>\n",
       "      <td>Escherichia coli O157:H7 strain 7.1_Anguil</td>\n",
       "    </tr>\n",
       "    <tr>\n",
       "      <th>11959</th>\n",
       "      <td>83334.176</td>\n",
       "      <td>1</td>\n",
       "      <td>831</td>\n",
       "      <td>831</td>\n",
       "      <td>Escherichia coli O157:H7 strain Rafaela_II</td>\n",
       "    </tr>\n",
       "    <tr>\n",
       "      <th>11960</th>\n",
       "      <td>83334.177</td>\n",
       "      <td>1</td>\n",
       "      <td>831</td>\n",
       "      <td>831</td>\n",
       "      <td>Escherichia coli O157:H7 strain HB74</td>\n",
       "    </tr>\n",
       "    <tr>\n",
       "      <th>11961</th>\n",
       "      <td>83334.178</td>\n",
       "      <td>1</td>\n",
       "      <td>831</td>\n",
       "      <td>831</td>\n",
       "      <td>Escherichia coli O157:H7 strain WS4202</td>\n",
       "    </tr>\n",
       "    <tr>\n",
       "      <th>11962</th>\n",
       "      <td>83334.179</td>\n",
       "      <td>1</td>\n",
       "      <td>831</td>\n",
       "      <td>831</td>\n",
       "      <td>Escherichia coli O157:H7 strain WS4435</td>\n",
       "    </tr>\n",
       "    <tr>\n",
       "      <th>11963</th>\n",
       "      <td>83334.180</td>\n",
       "      <td>1</td>\n",
       "      <td>831</td>\n",
       "      <td>831</td>\n",
       "      <td>Escherichia coli O157:H7 strain WS4678</td>\n",
       "    </tr>\n",
       "    <tr>\n",
       "      <th>11964</th>\n",
       "      <td>83334.181</td>\n",
       "      <td>1</td>\n",
       "      <td>831</td>\n",
       "      <td>831</td>\n",
       "      <td>Escherichia coli O157:H7 strain G10</td>\n",
       "    </tr>\n",
       "    <tr>\n",
       "      <th>11965</th>\n",
       "      <td>83334.182</td>\n",
       "      <td>1</td>\n",
       "      <td>831</td>\n",
       "      <td>831</td>\n",
       "      <td>Escherichia coli O157:H7 strain EDL 932</td>\n",
       "    </tr>\n",
       "    <tr>\n",
       "      <th>11966</th>\n",
       "      <td>83334.190</td>\n",
       "      <td>1</td>\n",
       "      <td>831</td>\n",
       "      <td>831</td>\n",
       "      <td>Escherichia coli O157:H7 strain FRIK2069</td>\n",
       "    </tr>\n",
       "    <tr>\n",
       "      <th>11967</th>\n",
       "      <td>83334.191</td>\n",
       "      <td>1</td>\n",
       "      <td>831</td>\n",
       "      <td>831</td>\n",
       "      <td>Escherichia coli O157:H7 strain FRIK2533</td>\n",
       "    </tr>\n",
       "    <tr>\n",
       "      <th>11968</th>\n",
       "      <td>83334.192</td>\n",
       "      <td>1</td>\n",
       "      <td>831</td>\n",
       "      <td>831</td>\n",
       "      <td>Escherichia coli O157:H7 strain FRIK2455</td>\n",
       "    </tr>\n",
       "    <tr>\n",
       "      <th>11969</th>\n",
       "      <td>83334.194</td>\n",
       "      <td>1</td>\n",
       "      <td>831</td>\n",
       "      <td>831</td>\n",
       "      <td>Escherichia coli O157:H7 strain FRIK944</td>\n",
       "    </tr>\n",
       "    <tr>\n",
       "      <th>11970</th>\n",
       "      <td>83334.197</td>\n",
       "      <td>1</td>\n",
       "      <td>831</td>\n",
       "      <td>831</td>\n",
       "      <td>Escherichia coli O157:H7 strain 1130</td>\n",
       "    </tr>\n",
       "    <tr>\n",
       "      <th>11971</th>\n",
       "      <td>83334.198</td>\n",
       "      <td>1</td>\n",
       "      <td>831</td>\n",
       "      <td>831</td>\n",
       "      <td>Escherichia coli O157:H7 strain 2149</td>\n",
       "    </tr>\n",
       "    <tr>\n",
       "      <th>11972</th>\n",
       "      <td>83334.199</td>\n",
       "      <td>1</td>\n",
       "      <td>831</td>\n",
       "      <td>831</td>\n",
       "      <td>Escherichia coli O157:H7 strain 8368</td>\n",
       "    </tr>\n",
       "    <tr>\n",
       "      <th>11973</th>\n",
       "      <td>83334.200</td>\n",
       "      <td>1</td>\n",
       "      <td>831</td>\n",
       "      <td>831</td>\n",
       "      <td>Escherichia coli O157:H7 strain 2159</td>\n",
       "    </tr>\n",
       "    <tr>\n",
       "      <th>11974</th>\n",
       "      <td>83334.201</td>\n",
       "      <td>1</td>\n",
       "      <td>831</td>\n",
       "      <td>831</td>\n",
       "      <td>Escherichia coli O157:H7 strain 9234</td>\n",
       "    </tr>\n",
       "    <tr>\n",
       "      <th>11975</th>\n",
       "      <td>83334.202</td>\n",
       "      <td>1</td>\n",
       "      <td>831</td>\n",
       "      <td>831</td>\n",
       "      <td>Escherichia coli O157:H7 strain 3384</td>\n",
       "    </tr>\n",
       "    <tr>\n",
       "      <th>11976</th>\n",
       "      <td>83334.203</td>\n",
       "      <td>1</td>\n",
       "      <td>831</td>\n",
       "      <td>831</td>\n",
       "      <td>Escherichia coli O157:H7 strain 4276</td>\n",
       "    </tr>\n",
       "    <tr>\n",
       "      <th>11977</th>\n",
       "      <td>83334.215</td>\n",
       "      <td>1</td>\n",
       "      <td>831</td>\n",
       "      <td>831</td>\n",
       "      <td>Escherichia coli O157:H7</td>\n",
       "    </tr>\n",
       "    <tr>\n",
       "      <th>11978</th>\n",
       "      <td>83334.218</td>\n",
       "      <td>1</td>\n",
       "      <td>831</td>\n",
       "      <td>831</td>\n",
       "      <td>Escherichia coli O157:H7 strain LEN02-0647-1</td>\n",
       "    </tr>\n",
       "    <tr>\n",
       "      <th>11979</th>\n",
       "      <td>83334.219</td>\n",
       "      <td>1</td>\n",
       "      <td>831</td>\n",
       "      <td>831</td>\n",
       "      <td>Escherichia coli O157:H7 strain LEN02-9121-1</td>\n",
       "    </tr>\n",
       "    <tr>\n",
       "      <th>11980</th>\n",
       "      <td>83334.220</td>\n",
       "      <td>1</td>\n",
       "      <td>831</td>\n",
       "      <td>831</td>\n",
       "      <td>Escherichia coli O157:H7 strain LEN03-5497-2</td>\n",
       "    </tr>\n",
       "    <tr>\n",
       "      <th>11981</th>\n",
       "      <td>83334.221</td>\n",
       "      <td>1</td>\n",
       "      <td>831</td>\n",
       "      <td>831</td>\n",
       "      <td>Escherichia coli O157:H7</td>\n",
       "    </tr>\n",
       "    <tr>\n",
       "      <th>11982</th>\n",
       "      <td>83334.250</td>\n",
       "      <td>1</td>\n",
       "      <td>831</td>\n",
       "      <td>831</td>\n",
       "      <td>Escherichia coli O157:H7 strain Sakai</td>\n",
       "    </tr>\n",
       "    <tr>\n",
       "      <th>12096</th>\n",
       "      <td>926026.3</td>\n",
       "      <td>1</td>\n",
       "      <td>831</td>\n",
       "      <td>831</td>\n",
       "      <td>Escherichia coli O157:H7 str. G5101</td>\n",
       "    </tr>\n",
       "    <tr>\n",
       "      <th>12103</th>\n",
       "      <td>926032.3</td>\n",
       "      <td>1</td>\n",
       "      <td>831</td>\n",
       "      <td>831</td>\n",
       "      <td>Escherichia coli O157:H7 str. LSU-61</td>\n",
       "    </tr>\n",
       "    <tr>\n",
       "      <th>12110</th>\n",
       "      <td>941435.3</td>\n",
       "      <td>1</td>\n",
       "      <td>831</td>\n",
       "      <td>831</td>\n",
       "      <td>Escherichia coli O157:H7 str. EC1212</td>\n",
       "    </tr>\n",
       "    <tr>\n",
       "      <th>12115</th>\n",
       "      <td>997824.3</td>\n",
       "      <td>1</td>\n",
       "      <td>831</td>\n",
       "      <td>831</td>\n",
       "      <td>Escherichia coli O157:H7 str. 1044</td>\n",
       "    </tr>\n",
       "    <tr>\n",
       "      <th>12116</th>\n",
       "      <td>997825.3</td>\n",
       "      <td>1</td>\n",
       "      <td>831</td>\n",
       "      <td>831</td>\n",
       "      <td>Escherichia coli O157:H7 str. 1125</td>\n",
       "    </tr>\n",
       "  </tbody>\n",
       "</table>\n",
       "<p>157 rows × 5 columns</p>\n",
       "</div>"
      ],
      "text/plain": [
       "       Genome ID  Count Lengths  TotLength  \\\n",
       "828    1240385.3      1     831        831   \n",
       "1220   1282359.4      1     831        831   \n",
       "1248   1286877.4      1     831        831   \n",
       "1283   1328859.4      1     831        831   \n",
       "1285   1330457.6      1     831        831   \n",
       "1318   1343836.3      1     831        831   \n",
       "1325   1387069.3      1     831        831   \n",
       "1326   1387070.3      1     831        831   \n",
       "1327   1387071.3      1     831        831   \n",
       "1803   1446609.3      1     831        831   \n",
       "1804   1446610.3      1     831        831   \n",
       "1805   1446611.3      1     831        831   \n",
       "1806   1446612.3      1     831        831   \n",
       "1807   1446613.3      1     831        831   \n",
       "1808   1446614.3      1     831        831   \n",
       "1809   1446615.3      1     831        831   \n",
       "1810   1446616.3      1     831        831   \n",
       "1811   1446617.3      1     831        831   \n",
       "1812   1446618.3      1     831        831   \n",
       "1813   1446619.3      1     831        831   \n",
       "1814   1446620.3      1     831        831   \n",
       "1815   1446621.3      1     831        831   \n",
       "1816   1446622.3      1     831        831   \n",
       "1817   1446623.3      1     831        831   \n",
       "1818   1446624.3      1     831        831   \n",
       "1819   1446625.3      1     831        831   \n",
       "1820   1446626.3      1     831        831   \n",
       "1821   1446627.3      1     831        831   \n",
       "1822   1446628.3      1     831        831   \n",
       "1823   1446629.3      1     831        831   \n",
       "...          ...    ...     ...        ...   \n",
       "11958  83334.175      1     831        831   \n",
       "11959  83334.176      1     831        831   \n",
       "11960  83334.177      1     831        831   \n",
       "11961  83334.178      1     831        831   \n",
       "11962  83334.179      1     831        831   \n",
       "11963  83334.180      1     831        831   \n",
       "11964  83334.181      1     831        831   \n",
       "11965  83334.182      1     831        831   \n",
       "11966  83334.190      1     831        831   \n",
       "11967  83334.191      1     831        831   \n",
       "11968  83334.192      1     831        831   \n",
       "11969  83334.194      1     831        831   \n",
       "11970  83334.197      1     831        831   \n",
       "11971  83334.198      1     831        831   \n",
       "11972  83334.199      1     831        831   \n",
       "11973  83334.200      1     831        831   \n",
       "11974  83334.201      1     831        831   \n",
       "11975  83334.202      1     831        831   \n",
       "11976  83334.203      1     831        831   \n",
       "11977  83334.215      1     831        831   \n",
       "11978  83334.218      1     831        831   \n",
       "11979  83334.219      1     831        831   \n",
       "11980  83334.220      1     831        831   \n",
       "11981  83334.221      1     831        831   \n",
       "11982  83334.250      1     831        831   \n",
       "12096   926026.3      1     831        831   \n",
       "12103   926032.3      1     831        831   \n",
       "12110   941435.3      1     831        831   \n",
       "12115   997824.3      1     831        831   \n",
       "12116   997825.3      1     831        831   \n",
       "\n",
       "                                             Genome  \n",
       "828        Escherichia coli O157:H7 str. H093800014  \n",
       "1220           Escherichia coli O157:H7 str. EC1825  \n",
       "1248          Escherichia coli O157:H7 str. TW14313  \n",
       "1283             Escherichia coli O157:H7 str. SS17  \n",
       "1285             Escherichia coli O157:H7 str. SS52  \n",
       "1318           Escherichia coli O157:H7 str. F8092B  \n",
       "1325      Escherichia coli O157:H7 str. 09BKT048303  \n",
       "1326      Escherichia coli O157:H7 str. 08BKT061141  \n",
       "1327         Escherichia coli O157:H7 str. T1543_06  \n",
       "1803          Escherichia coli O157:H7 str. 06-3745  \n",
       "1804          Escherichia coli O157:H7 str. 06-4039  \n",
       "1805          Escherichia coli O157:H7 str. 07-3091  \n",
       "1806          Escherichia coli O157:H7 str. 07-3391  \n",
       "1807          Escherichia coli O157:H7 str. 08-3037  \n",
       "1808          Escherichia coli O157:H7 str. 08-3527  \n",
       "1809          Escherichia coli O157:H7 str. 08-4169  \n",
       "1810          Escherichia coli O157:H7 str. 08-4529  \n",
       "1811       Escherichia coli O157:H7 str. 2009C-4258  \n",
       "1812       Escherichia coli O157:H7 str. 2009EL1449  \n",
       "1813       Escherichia coli O157:H7 str. 2009EL1705  \n",
       "1814       Escherichia coli O157:H7 str. 2009EL1913  \n",
       "1815       Escherichia coli O157:H7 str. 2009EL2109  \n",
       "1816     Escherichia coli O157:H7 str. 2010C-4979C1  \n",
       "1817      Escherichia coli O157:H7 str. 2011EL-1107  \n",
       "1818      Escherichia coli O157:H7 str. 2011EL-2090  \n",
       "1819      Escherichia coli O157:H7 str. 2011EL-2091  \n",
       "1820      Escherichia coli O157:H7 str. 2011EL-2092  \n",
       "1821      Escherichia coli O157:H7 str. 2011EL-2093  \n",
       "1822      Escherichia coli O157:H7 str. 2011EL-2094  \n",
       "1823      Escherichia coli O157:H7 str. 2011EL-2096  \n",
       "...                                             ...  \n",
       "11958    Escherichia coli O157:H7 strain 7.1_Anguil  \n",
       "11959    Escherichia coli O157:H7 strain Rafaela_II  \n",
       "11960          Escherichia coli O157:H7 strain HB74  \n",
       "11961        Escherichia coli O157:H7 strain WS4202  \n",
       "11962        Escherichia coli O157:H7 strain WS4435  \n",
       "11963        Escherichia coli O157:H7 strain WS4678  \n",
       "11964           Escherichia coli O157:H7 strain G10  \n",
       "11965       Escherichia coli O157:H7 strain EDL 932  \n",
       "11966      Escherichia coli O157:H7 strain FRIK2069  \n",
       "11967      Escherichia coli O157:H7 strain FRIK2533  \n",
       "11968      Escherichia coli O157:H7 strain FRIK2455  \n",
       "11969       Escherichia coli O157:H7 strain FRIK944  \n",
       "11970          Escherichia coli O157:H7 strain 1130  \n",
       "11971          Escherichia coli O157:H7 strain 2149  \n",
       "11972          Escherichia coli O157:H7 strain 8368  \n",
       "11973          Escherichia coli O157:H7 strain 2159  \n",
       "11974          Escherichia coli O157:H7 strain 9234  \n",
       "11975          Escherichia coli O157:H7 strain 3384  \n",
       "11976          Escherichia coli O157:H7 strain 4276  \n",
       "11977                      Escherichia coli O157:H7  \n",
       "11978  Escherichia coli O157:H7 strain LEN02-0647-1  \n",
       "11979  Escherichia coli O157:H7 strain LEN02-9121-1  \n",
       "11980  Escherichia coli O157:H7 strain LEN03-5497-2  \n",
       "11981                      Escherichia coli O157:H7  \n",
       "11982         Escherichia coli O157:H7 strain Sakai  \n",
       "12096           Escherichia coli O157:H7 str. G5101  \n",
       "12103          Escherichia coli O157:H7 str. LSU-61  \n",
       "12110          Escherichia coli O157:H7 str. EC1212  \n",
       "12115            Escherichia coli O157:H7 str. 1044  \n",
       "12116            Escherichia coli O157:H7 str. 1125  \n",
       "\n",
       "[157 rows x 5 columns]"
      ]
     },
     "execution_count": 23,
     "metadata": {},
     "output_type": "execute_result"
    }
   ],
   "source": [
    "df_lengths[ df_lengths.Genome.str.contains('O157:H7')]"
   ]
  },
  {
   "cell_type": "markdown",
   "metadata": {
    "deletable": true,
    "editable": true
   },
   "source": [
    "## Odd ones: >2 fragments"
   ]
  },
  {
   "cell_type": "code",
   "execution_count": 24,
   "metadata": {
    "collapsed": false,
    "deletable": true,
    "editable": true
   },
   "outputs": [
    {
     "data": {
      "text/html": [
       "<div>\n",
       "<style scoped>\n",
       "    .dataframe tbody tr th:only-of-type {\n",
       "        vertical-align: middle;\n",
       "    }\n",
       "\n",
       "    .dataframe tbody tr th {\n",
       "        vertical-align: top;\n",
       "    }\n",
       "\n",
       "    .dataframe thead th {\n",
       "        text-align: right;\n",
       "    }\n",
       "</style>\n",
       "<table border=\"1\" class=\"dataframe\">\n",
       "  <thead>\n",
       "    <tr style=\"text-align: right;\">\n",
       "      <th></th>\n",
       "      <th>Genome ID</th>\n",
       "      <th>Count</th>\n",
       "      <th>Lengths</th>\n",
       "      <th>TotLength</th>\n",
       "      <th>Genome</th>\n",
       "    </tr>\n",
       "  </thead>\n",
       "  <tbody>\n",
       "    <tr>\n",
       "      <th>825</th>\n",
       "      <td>1236522.3</td>\n",
       "      <td>3</td>\n",
       "      <td>177;420;243</td>\n",
       "      <td>840</td>\n",
       "      <td>Escherichia coli JCM 18426</td>\n",
       "    </tr>\n",
       "    <tr>\n",
       "      <th>827</th>\n",
       "      <td>1236527.3</td>\n",
       "      <td>3</td>\n",
       "      <td>237;390;243</td>\n",
       "      <td>870</td>\n",
       "      <td>Escherichia coli JCM 5491</td>\n",
       "    </tr>\n",
       "    <tr>\n",
       "      <th>1229</th>\n",
       "      <td>1286337.3</td>\n",
       "      <td>3</td>\n",
       "      <td>390;318;177</td>\n",
       "      <td>885</td>\n",
       "      <td>Escherichia coli TOP293-4</td>\n",
       "    </tr>\n",
       "    <tr>\n",
       "      <th>2535</th>\n",
       "      <td>562.10476</td>\n",
       "      <td>3</td>\n",
       "      <td>243;417;177</td>\n",
       "      <td>837</td>\n",
       "      <td>Escherichia coli strain RCE04</td>\n",
       "    </tr>\n",
       "    <tr>\n",
       "      <th>2536</th>\n",
       "      <td>562.10477</td>\n",
       "      <td>3</td>\n",
       "      <td>243;417;177</td>\n",
       "      <td>837</td>\n",
       "      <td>Escherichia coli strain RCE01</td>\n",
       "    </tr>\n",
       "    <tr>\n",
       "      <th>2537</th>\n",
       "      <td>562.10478</td>\n",
       "      <td>3</td>\n",
       "      <td>243;417;237</td>\n",
       "      <td>897</td>\n",
       "      <td>Escherichia coli strain RCE05</td>\n",
       "    </tr>\n",
       "    <tr>\n",
       "      <th>2579</th>\n",
       "      <td>562.10529</td>\n",
       "      <td>4</td>\n",
       "      <td>81;246;591;243</td>\n",
       "      <td>1161</td>\n",
       "      <td>Escherichia coli strain 32122</td>\n",
       "    </tr>\n",
       "    <tr>\n",
       "      <th>2782</th>\n",
       "      <td>562.11553</td>\n",
       "      <td>3</td>\n",
       "      <td>369;243;255</td>\n",
       "      <td>867</td>\n",
       "      <td>Escherichia coli strain EF467</td>\n",
       "    </tr>\n",
       "    <tr>\n",
       "      <th>4385</th>\n",
       "      <td>562.18823</td>\n",
       "      <td>3</td>\n",
       "      <td>246;222;153</td>\n",
       "      <td>621</td>\n",
       "      <td>Escherichia coli strain MOD1-EC5472</td>\n",
       "    </tr>\n",
       "    <tr>\n",
       "      <th>4406</th>\n",
       "      <td>562.18844</td>\n",
       "      <td>3</td>\n",
       "      <td>132;93;492</td>\n",
       "      <td>717</td>\n",
       "      <td>Escherichia coli strain MOD1-EC5454</td>\n",
       "    </tr>\n",
       "    <tr>\n",
       "      <th>4419</th>\n",
       "      <td>562.18857</td>\n",
       "      <td>3</td>\n",
       "      <td>132;267;159</td>\n",
       "      <td>558</td>\n",
       "      <td>Escherichia coli strain MOD1-EC5440</td>\n",
       "    </tr>\n",
       "    <tr>\n",
       "      <th>4421</th>\n",
       "      <td>562.18859</td>\n",
       "      <td>4</td>\n",
       "      <td>141;246;210;159</td>\n",
       "      <td>756</td>\n",
       "      <td>Escherichia coli strain MOD1-EC5445</td>\n",
       "    </tr>\n",
       "    <tr>\n",
       "      <th>4425</th>\n",
       "      <td>562.18863</td>\n",
       "      <td>3</td>\n",
       "      <td>117;303;243</td>\n",
       "      <td>663</td>\n",
       "      <td>Escherichia coli strain MOD1-EC5443</td>\n",
       "    </tr>\n",
       "    <tr>\n",
       "      <th>8815</th>\n",
       "      <td>562.27981</td>\n",
       "      <td>3</td>\n",
       "      <td>471;138;198</td>\n",
       "      <td>807</td>\n",
       "      <td>Escherichia coli strain MOD1-EC1686</td>\n",
       "    </tr>\n",
       "    <tr>\n",
       "      <th>8969</th>\n",
       "      <td>562.28138</td>\n",
       "      <td>3</td>\n",
       "      <td>471;138;198</td>\n",
       "      <td>807</td>\n",
       "      <td>Escherichia coli strain SMN197SH3</td>\n",
       "    </tr>\n",
       "    <tr>\n",
       "      <th>8970</th>\n",
       "      <td>562.28139</td>\n",
       "      <td>3</td>\n",
       "      <td>198;138;471</td>\n",
       "      <td>807</td>\n",
       "      <td>Escherichia coli strain SMN152SH1</td>\n",
       "    </tr>\n",
       "    <tr>\n",
       "      <th>8972</th>\n",
       "      <td>562.28141</td>\n",
       "      <td>3</td>\n",
       "      <td>471;138;198</td>\n",
       "      <td>807</td>\n",
       "      <td>Escherichia coli strain SMN013SH2</td>\n",
       "    </tr>\n",
       "    <tr>\n",
       "      <th>9013</th>\n",
       "      <td>562.28184</td>\n",
       "      <td>3</td>\n",
       "      <td>552;105;326</td>\n",
       "      <td>983</td>\n",
       "      <td>Escherichia coli strain SP-16 Combo</td>\n",
       "    </tr>\n",
       "    <tr>\n",
       "      <th>9773</th>\n",
       "      <td>562.29124</td>\n",
       "      <td>3</td>\n",
       "      <td>471;138;198</td>\n",
       "      <td>807</td>\n",
       "      <td>Escherichia coli strain 2014C-3011</td>\n",
       "    </tr>\n",
       "    <tr>\n",
       "      <th>11074</th>\n",
       "      <td>562.7973</td>\n",
       "      <td>3</td>\n",
       "      <td>831;618;189</td>\n",
       "      <td>1638</td>\n",
       "      <td>Escherichia coli strain RU1 BHI6</td>\n",
       "    </tr>\n",
       "  </tbody>\n",
       "</table>\n",
       "</div>"
      ],
      "text/plain": [
       "       Genome ID  Count          Lengths  TotLength  \\\n",
       "825    1236522.3      3      177;420;243        840   \n",
       "827    1236527.3      3      237;390;243        870   \n",
       "1229   1286337.3      3      390;318;177        885   \n",
       "2535   562.10476      3      243;417;177        837   \n",
       "2536   562.10477      3      243;417;177        837   \n",
       "2537   562.10478      3      243;417;237        897   \n",
       "2579   562.10529      4   81;246;591;243       1161   \n",
       "2782   562.11553      3      369;243;255        867   \n",
       "4385   562.18823      3      246;222;153        621   \n",
       "4406   562.18844      3       132;93;492        717   \n",
       "4419   562.18857      3      132;267;159        558   \n",
       "4421   562.18859      4  141;246;210;159        756   \n",
       "4425   562.18863      3      117;303;243        663   \n",
       "8815   562.27981      3      471;138;198        807   \n",
       "8969   562.28138      3      471;138;198        807   \n",
       "8970   562.28139      3      198;138;471        807   \n",
       "8972   562.28141      3      471;138;198        807   \n",
       "9013   562.28184      3      552;105;326        983   \n",
       "9773   562.29124      3      471;138;198        807   \n",
       "11074   562.7973      3      831;618;189       1638   \n",
       "\n",
       "                                    Genome  \n",
       "825             Escherichia coli JCM 18426  \n",
       "827              Escherichia coli JCM 5491  \n",
       "1229             Escherichia coli TOP293-4  \n",
       "2535         Escherichia coli strain RCE04  \n",
       "2536         Escherichia coli strain RCE01  \n",
       "2537         Escherichia coli strain RCE05  \n",
       "2579         Escherichia coli strain 32122  \n",
       "2782         Escherichia coli strain EF467  \n",
       "4385   Escherichia coli strain MOD1-EC5472  \n",
       "4406   Escherichia coli strain MOD1-EC5454  \n",
       "4419   Escherichia coli strain MOD1-EC5440  \n",
       "4421   Escherichia coli strain MOD1-EC5445  \n",
       "4425   Escherichia coli strain MOD1-EC5443  \n",
       "8815   Escherichia coli strain MOD1-EC1686  \n",
       "8969     Escherichia coli strain SMN197SH3  \n",
       "8970     Escherichia coli strain SMN152SH1  \n",
       "8972     Escherichia coli strain SMN013SH2  \n",
       "9013   Escherichia coli strain SP-16 Combo  \n",
       "9773    Escherichia coli strain 2014C-3011  \n",
       "11074     Escherichia coli strain RU1 BHI6  "
      ]
     },
     "execution_count": 24,
     "metadata": {},
     "output_type": "execute_result"
    }
   ],
   "source": [
    "df_lengths[ df_lengths.Count>2]"
   ]
  },
  {
   "cell_type": "markdown",
   "metadata": {
    "deletable": true,
    "editable": true
   },
   "source": [
    "# Conclusion:"
   ]
  },
  {
   "cell_type": "markdown",
   "metadata": {
    "deletable": true,
    "editable": true
   },
   "source": [
    "### For now, limit analysis to homologs with 1 or 2 efeU gene products (exclude if 3 or more)"
   ]
  },
  {
   "cell_type": "code",
   "execution_count": 25,
   "metadata": {
    "collapsed": false,
    "deletable": true,
    "editable": true
   },
   "outputs": [
    {
     "name": "stdout",
     "output_type": "stream",
     "text": [
      "111\n",
      "2781\n"
     ]
    }
   ],
   "source": [
    "print(df_lengths[ df_lengths.Count<=2].TotLength.min())\n",
    "print(df_lengths[ df_lengths.Count<=2].TotLength.max())"
   ]
  },
  {
   "cell_type": "code",
   "execution_count": 26,
   "metadata": {
    "collapsed": false,
    "deletable": true,
    "editable": true
   },
   "outputs": [
    {
     "data": {
      "text/html": [
       "<div>\n",
       "<style scoped>\n",
       "    .dataframe tbody tr th:only-of-type {\n",
       "        vertical-align: middle;\n",
       "    }\n",
       "\n",
       "    .dataframe tbody tr th {\n",
       "        vertical-align: top;\n",
       "    }\n",
       "\n",
       "    .dataframe thead th {\n",
       "        text-align: right;\n",
       "    }\n",
       "</style>\n",
       "<table border=\"1\" class=\"dataframe\">\n",
       "  <thead>\n",
       "    <tr style=\"text-align: right;\">\n",
       "      <th></th>\n",
       "      <th>Count</th>\n",
       "      <th>Genome ID</th>\n",
       "    </tr>\n",
       "  </thead>\n",
       "  <tbody>\n",
       "    <tr>\n",
       "      <th>0</th>\n",
       "      <td>1</td>\n",
       "      <td>11792</td>\n",
       "    </tr>\n",
       "    <tr>\n",
       "      <th>1</th>\n",
       "      <td>2</td>\n",
       "      <td>305</td>\n",
       "    </tr>\n",
       "  </tbody>\n",
       "</table>\n",
       "</div>"
      ],
      "text/plain": [
       "   Count  Genome ID\n",
       "0      1      11792\n",
       "1      2        305"
      ]
     },
     "execution_count": 26,
     "metadata": {},
     "output_type": "execute_result"
    }
   ],
   "source": [
    "dsplot = df_lengths[ (df_lengths.Count<=2) ].drop_duplicates().groupby('Count')['Genome ID'].count().reset_index()\n",
    "dsplot.head()"
   ]
  },
  {
   "cell_type": "code",
   "execution_count": 27,
   "metadata": {
    "collapsed": false,
    "deletable": true,
    "editable": true
   },
   "outputs": [
    {
     "data": {
      "text/plain": [
       "12097"
      ]
     },
     "execution_count": 27,
     "metadata": {},
     "output_type": "execute_result"
    }
   ],
   "source": [
    "dsplot[COL_ID].sum()"
   ]
  },
  {
   "cell_type": "code",
   "execution_count": 28,
   "metadata": {
    "collapsed": false,
    "deletable": true,
    "editable": true
   },
   "outputs": [
    {
     "data": {
      "text/plain": [
       "([<matplotlib.patches.Wedge at 0x7f072a032c10>,\n",
       "  <matplotlib.patches.Wedge at 0x7f0729f49dd0>],\n",
       " [<matplotlib.text.Text at 0x7f0729f5fb10>,\n",
       "  <matplotlib.text.Text at 0x7f0729f497d0>],\n",
       " [<matplotlib.text.Text at 0x7f0729f5fd90>,\n",
       "  <matplotlib.text.Text at 0x7f0729f3c5d0>])"
      ]
     },
     "execution_count": 28,
     "metadata": {},
     "output_type": "execute_result"
    },
    {
     "data": {
      "image/png": "[encoded data removed]",
      "text/plain": [
       "<matplotlib.figure.Figure at 0x7f072b6276d0>"
      ]
     },
     "metadata": {},
     "output_type": "display_data"
    }
   ],
   "source": [
    "import matplotlib.pyplot as plt\n",
    "\n",
    "sizes  = dsplot[COL_ID]\n",
    "colors = sns.color_palette('Set2', len(set(sizes)))\n",
    "#labels = ['Full','Fragmented']\n",
    "labels = ['Full (%d)'%sizes[0], 'Fragmented (%d)'%sizes[1]]\n",
    "explode = [0, 0.2]\n",
    "g  = sns.FacetGrid(dsplot, aspect=1, size=4)\n",
    "ax = g.axes.flatten()[0]\n",
    "ax.pie(sizes, colors=colors, labels=labels, autopct='%.2g%%', explode=explode, wedgeprops = {'linewidth': 1.2, 'edgecolor':'#000000'})"
   ]
  },
  {
   "cell_type": "markdown",
   "metadata": {
    "deletable": true,
    "editable": true
   },
   "source": [
    "### Double check that if the Count=1, gene is sufficiently long"
   ]
  },
  {
   "cell_type": "code",
   "execution_count": 29,
   "metadata": {
    "collapsed": false,
    "deletable": true,
    "editable": true
   },
   "outputs": [
    {
     "name": "stdout",
     "output_type": "stream",
     "text": [
      "(11792, 5)\n",
      "(11743, 5)\n"
     ]
    }
   ],
   "source": [
    "df_one = df_lengths[ df_lengths.Count==1]\n",
    "print(df_one.shape)\n",
    "print(df_one[ df_one.TotLength>800].shape)"
   ]
  },
  {
   "cell_type": "code",
   "execution_count": 30,
   "metadata": {
    "collapsed": false,
    "deletable": true,
    "editable": true
   },
   "outputs": [
    {
     "data": {
      "text/plain": [
       "111"
      ]
     },
     "execution_count": 30,
     "metadata": {},
     "output_type": "execute_result"
    }
   ],
   "source": [
    "df_one.TotLength.min()"
   ]
  },
  {
   "cell_type": "code",
   "execution_count": 31,
   "metadata": {
    "collapsed": false,
    "deletable": true,
    "editable": true
   },
   "outputs": [
    {
     "data": {
      "text/plain": [
       "0.9682264586943963"
      ]
     },
     "execution_count": 31,
     "metadata": {},
     "output_type": "execute_result"
    }
   ],
   "source": [
    "from __future__ import division\n",
    "\n",
    "df_one[ df_one.TotLength >= 830].shape[0] / df_lengths.shape[0]"
   ]
  },
  {
   "cell_type": "code",
   "execution_count": 32,
   "metadata": {
    "collapsed": false,
    "deletable": true,
    "editable": true
   },
   "outputs": [
    {
     "data": {
      "text/plain": [
       "139"
      ]
     },
     "execution_count": 32,
     "metadata": {},
     "output_type": "execute_result"
    }
   ],
   "source": [
    "# Known PECs\n",
    "len(df_lengths[df_lengths.Genome.str.contains('PEC')].Genome.unique())"
   ]
  },
  {
   "cell_type": "code",
   "execution_count": 33,
   "metadata": {
    "collapsed": false,
    "deletable": true,
    "editable": true,
    "scrolled": false
   },
   "outputs": [
    {
     "data": {
      "text/html": [
       "<div>\n",
       "<style scoped>\n",
       "    .dataframe tbody tr th:only-of-type {\n",
       "        vertical-align: middle;\n",
       "    }\n",
       "\n",
       "    .dataframe tbody tr th {\n",
       "        vertical-align: top;\n",
       "    }\n",
       "\n",
       "    .dataframe thead th {\n",
       "        text-align: right;\n",
       "    }\n",
       "</style>\n",
       "<table border=\"1\" class=\"dataframe\">\n",
       "  <thead>\n",
       "    <tr style=\"text-align: right;\">\n",
       "      <th></th>\n",
       "      <th>Genome ID</th>\n",
       "      <th>Lengths</th>\n",
       "      <th>TotLength</th>\n",
       "      <th>Genome</th>\n",
       "    </tr>\n",
       "    <tr>\n",
       "      <th>Count</th>\n",
       "      <th></th>\n",
       "      <th></th>\n",
       "      <th></th>\n",
       "      <th></th>\n",
       "    </tr>\n",
       "  </thead>\n",
       "  <tbody>\n",
       "    <tr>\n",
       "      <th>1</th>\n",
       "      <td>137</td>\n",
       "      <td>137</td>\n",
       "      <td>137</td>\n",
       "      <td>137</td>\n",
       "    </tr>\n",
       "    <tr>\n",
       "      <th>2</th>\n",
       "      <td>2</td>\n",
       "      <td>2</td>\n",
       "      <td>2</td>\n",
       "      <td>2</td>\n",
       "    </tr>\n",
       "  </tbody>\n",
       "</table>\n",
       "</div>"
      ],
      "text/plain": [
       "       Genome ID  Lengths  TotLength  Genome\n",
       "Count                                       \n",
       "1            137      137        137     137\n",
       "2              2        2          2       2"
      ]
     },
     "execution_count": 33,
     "metadata": {},
     "output_type": "execute_result"
    }
   ],
   "source": [
    "df_pec = df_lengths[df_lengths.Genome.str.contains('PEC')]\n",
    "df_pec.groupby('Count').count()"
   ]
  },
  {
   "cell_type": "markdown",
   "metadata": {
    "deletable": true,
    "editable": true
   },
   "source": [
    "# Metadata of genomes: are all disrupted efeU strains lab evolved or otherwise?"
   ]
  },
  {
   "cell_type": "code",
   "execution_count": 34,
   "metadata": {
    "collapsed": false,
    "deletable": true,
    "editable": true
   },
   "outputs": [
    {
     "name": "stderr",
     "output_type": "stream",
     "text": [
      "/usr/lib/python2.7/site-packages/IPython/core/interactiveshell.py:2718: DtypeWarning: Columns (7,60) have mixed types. Specify dtype option on import or set low_memory=False.\n",
      "  interactivity=interactivity, compiler=compiler, result=result)\n"
     ]
    }
   ],
   "source": [
    "df_meta = pd.read_csv('/home/laurence/ME/data/Amitesh/PATRIC_genome.csv', dtype={'Genome ID':object})"
   ]
  },
  {
   "cell_type": "code",
   "execution_count": 35,
   "metadata": {
    "collapsed": true,
    "deletable": true,
    "editable": true
   },
   "outputs": [],
   "source": [
    "df_data = pd.merge(df_lengths, df_meta, on=COL_ID)\n",
    "### Only keep labels 1 and 2\n",
    "df_data = df_data[df_data.Count <= 2]\n",
    "df_data = df_data[~((df_data.Count==1) & (df_data.TotLength<830))]"
   ]
  },
  {
   "cell_type": "code",
   "execution_count": 38,
   "metadata": {
    "collapsed": false,
    "deletable": true,
    "editable": true
   },
   "outputs": [
    {
     "data": {
      "text/plain": [
       "(12031, 72)"
      ]
     },
     "execution_count": 38,
     "metadata": {},
     "output_type": "execute_result"
    }
   ],
   "source": [
    "df_data[ df_data['Genome ID'].isin(ecoli_ids)].shape"
   ]
  },
  {
   "cell_type": "markdown",
   "metadata": {
    "deletable": true,
    "editable": true
   },
   "source": [
    "### Convert categorical to sklearn compatible encoder"
   ]
  },
  {
   "cell_type": "markdown",
   "metadata": {
    "deletable": true,
    "editable": true
   },
   "source": [
    "### Choose metadata that are possible features"
   ]
  },
  {
   "cell_type": "code",
   "execution_count": 39,
   "metadata": {
    "collapsed": true,
    "deletable": true,
    "editable": true
   },
   "outputs": [],
   "source": [
    "feature_cols = ['Isolation Source', 'Isolation Country', 'Isolation Comments',\n",
    "                'Host Name', 'Host Health', 'Body Sample Site',\n",
    "                'Other Clinical', 'AntiMicrobial Resistance', 'Cell Shape', 'Motility', 'Sporulation',\n",
    "                'Temperature Range', 'Salinity', 'Oxygen Requirement', 'Habitat', 'Disease']"
   ]
  },
  {
   "cell_type": "code",
   "execution_count": 40,
   "metadata": {
    "collapsed": true,
    "deletable": true,
    "editable": true
   },
   "outputs": [],
   "source": [
    "df_train = df_data[['Genome ID', 'Genome', 'Count', 'Lengths', 'TotLength'] + feature_cols]"
   ]
  },
  {
   "cell_type": "code",
   "execution_count": 41,
   "metadata": {
    "collapsed": false,
    "deletable": true,
    "editable": true
   },
   "outputs": [
    {
     "name": "stderr",
     "output_type": "stream",
     "text": [
      "/usr/lib/python2.7/site-packages/pandas/core/indexing.py:357: SettingWithCopyWarning: \n",
      "A value is trying to be set on a copy of a slice from a DataFrame.\n",
      "Try using .loc[row_indexer,col_indexer] = value instead\n",
      "\n",
      "See the caveats in the documentation: http://pandas.pydata.org/pandas-docs/stable/indexing.html#indexing-view-versus-copy\n",
      "  self.obj[key] = _infer_fill_value(value)\n",
      "/usr/lib/python2.7/site-packages/pandas/core/indexing.py:537: SettingWithCopyWarning: \n",
      "A value is trying to be set on a copy of a slice from a DataFrame.\n",
      "Try using .loc[row_indexer,col_indexer] = value instead\n",
      "\n",
      "See the caveats in the documentation: http://pandas.pydata.org/pandas-docs/stable/indexing.html#indexing-view-versus-copy\n",
      "  self.obj[item] = s\n"
     ]
    }
   ],
   "source": [
    "columns  = ['Isolation Source', 'Isolation Comments']\n",
    "df_train.loc[:,'is_isolate'] = df_train.apply(lambda x: any(['isolate' in x[c].lower() for c in columns if isinstance(x[c],str)]), axis=1)"
   ]
  },
  {
   "cell_type": "code",
   "execution_count": 42,
   "metadata": {
    "collapsed": false,
    "deletable": true,
    "editable": true
   },
   "outputs": [],
   "source": [
    "df_train.loc[ df_train.Genome.str.contains('ECO3347'),'Isolation Source'] = 'urine'"
   ]
  },
  {
   "cell_type": "code",
   "execution_count": 43,
   "metadata": {
    "collapsed": true,
    "deletable": true,
    "editable": true
   },
   "outputs": [],
   "source": [
    "df_train.to_csv('df_train_R03_062818.csv', index=False)"
   ]
  },
  {
   "cell_type": "markdown",
   "metadata": {
    "deletable": true,
    "editable": true
   },
   "source": [
    "## Keyword search"
   ]
  },
  {
   "cell_type": "code",
   "execution_count": 44,
   "metadata": {
    "collapsed": true,
    "deletable": true,
    "editable": true
   },
   "outputs": [],
   "source": [
    "df_src_len = df_train[['Genome ID','Genome','Isolation Source']]\n",
    "df_src_len.loc[:,'IS_len'] = df_src_len['Isolation Source'].apply(lambda x: len(x) if isinstance(x,str) else 0)"
   ]
  },
  {
   "cell_type": "code",
   "execution_count": 45,
   "metadata": {
    "collapsed": false,
    "deletable": true,
    "editable": true
   },
   "outputs": [
    {
     "data": {
      "text/plain": [
       "76"
      ]
     },
     "execution_count": 45,
     "metadata": {},
     "output_type": "execute_result"
    }
   ],
   "source": [
    "len(df_src_len[ df_src_len.IS_len > 40]['Isolation Source'].unique())"
   ]
  },
  {
   "cell_type": "code",
   "execution_count": 46,
   "metadata": {
    "collapsed": false,
    "deletable": true,
    "editable": true
   },
   "outputs": [
    {
     "name": "stdout",
     "output_type": "stream",
     "text": [
      "isolat | Isolation Source         : 106 / 12031 (0.881%) | n=1: 101/106 (95.3%). n=2: 5/106 (4.72%)\n",
      "isolat | Isolation Comments       : 739 / 12031 (6.14%) | n=1: 728/739 (98.5%). n=2: 11/739 (1.49%)\n"
     ]
    }
   ],
   "source": [
    "from __future__ import division\n",
    "\n",
    "keywords = ['isolat']\n",
    "columns  = ['Isolation Source', 'Isolation Comments']\n",
    "\n",
    "df_kw = df_train.copy()\n",
    "ntot = df_kw.shape[0]\n",
    "for kw in keywords:\n",
    "    for col in columns:\n",
    "        df_kw.loc[:,'found'] = df_kw[col].apply(lambda x: kw in x.lower() if isinstance(x,str) else False)\n",
    "        dfi = df_kw[ df_kw.found]\n",
    "        n = df_kw.found.sum()\n",
    "        n1 = sum(dfi.Count==1)\n",
    "        n2 = sum(dfi.Count==2)\n",
    "        ni = dfi.shape[0]\n",
    "        print('%s | %-25.20s: %d / %d (%.3g%%) | n=1: %d/%d (%.3g%%). n=2: %d/%d (%.3g%%)' % (\n",
    "            kw, col, n, ntot, 100*n/ntot, n1,ni,100*n1/ni, n2,ni,100*n2/ni))"
   ]
  },
  {
   "cell_type": "code",
   "execution_count": 47,
   "metadata": {
    "collapsed": false,
    "deletable": true,
    "editable": true
   },
   "outputs": [
    {
     "name": "stdout",
     "output_type": "stream",
     "text": [
      "Laboratory : 13 / 8091 (0.161%) | Active: 2/13 (15.4%). Fragment: 11/13 (84.6%). OR=276 (p=1.79e-17)\n",
      "(11, 158)\n",
      "(2, 7920)\n"
     ]
    }
   ],
   "source": [
    "from __future__ import division\n",
    "import scipy.stats as stats\n",
    "\n",
    "df_kw = df_train.copy()\n",
    "df_kw.loc[:,'missing'] = df_kw.apply(lambda x: all([pd.isnull(x[c]) for c in columns]), axis=1)\n",
    "df_kw = df_kw[ ~df_kw.missing]\n",
    "ntot = df_kw.shape[0]\n",
    "df_kw.loc[:,'found'] = df_kw.apply(lambda x: 'laboratory' in x['Isolation Source'].lower() if isinstance(x['Isolation Source'],str) else False, axis=1)\n",
    "# Exclude the one Laboratory scientist at ...\n",
    "df_kw.loc[ df_kw.Genome=='Escherichia coli HS', 'found'] = False\n",
    "df_kw = df_kw[['Genome','Genome ID','Count','found','TotLength']].drop_duplicates()\n",
    "\n",
    "dfi = df_kw[ df_kw.found].drop_duplicates()\n",
    "n = df_kw.found.sum()\n",
    "n1 = sum(dfi.Count==1)\n",
    "n2 = sum(dfi.Count==2)\n",
    "ni = dfi.shape[0]\n",
    "#          Laboratory  not Laboratory\n",
    "# fragment\n",
    "# active\n",
    "\n",
    "n11 = ((df_kw.found)  & (df_kw.Count==2)).sum()\n",
    "n12 = ((~df_kw.found) & (df_kw.Count==2)).sum()\n",
    "n21 = ((df_kw.found)  & (df_kw.Count==1)).sum()\n",
    "n22 = ((~df_kw.found) & (df_kw.Count==1)).sum()\n",
    "odds, p = stats.fisher_exact([[n11,n12],[n21,n22]], alternative='greater')\n",
    "\n",
    "print('%s : %d / %d (%.3g%%) | Active: %d/%d (%.3g%%). Fragment: %d/%d (%.3g%%). OR=%.3g (p=%.3g)' % (\n",
    "    'Laboratory', n, ntot, 100*n/ntot, n1,ni,100*n1/ni, n2,ni,100*n2/ni, odds, p))\n",
    "\n",
    "print(n11,n12)\n",
    "print(n21,n22)"
   ]
  },
  {
   "cell_type": "code",
   "execution_count": 61,
   "metadata": {
    "collapsed": false,
    "deletable": true,
    "editable": true
   },
   "outputs": [
    {
     "name": "stdout",
     "output_type": "stream",
     "text": [
      "Genomes with isolation source: 8091\n"
     ]
    }
   ],
   "source": [
    "print(\"Genomes with isolation source: %d\" % len(df_kw['Genome ID'].unique()))"
   ]
  },
  {
   "cell_type": "code",
   "execution_count": 48,
   "metadata": {
    "collapsed": false,
    "deletable": true,
    "editable": true
   },
   "outputs": [
    {
     "data": {
      "text/plain": [
       "169"
      ]
     },
     "execution_count": 48,
     "metadata": {},
     "output_type": "execute_result"
    }
   ],
   "source": [
    "sum(df_kw.Count==2)"
   ]
  },
  {
   "cell_type": "code",
   "execution_count": 49,
   "metadata": {
    "collapsed": false,
    "deletable": true,
    "editable": true
   },
   "outputs": [
    {
     "data": {
      "text/plain": [
       "7922"
      ]
     },
     "execution_count": 49,
     "metadata": {},
     "output_type": "execute_result"
    }
   ],
   "source": [
    "sum(df_kw.Count==1)"
   ]
  },
  {
   "cell_type": "code",
   "execution_count": 50,
   "metadata": {
    "collapsed": true,
    "deletable": true,
    "editable": true
   },
   "outputs": [],
   "source": [
    "import seaborn as sns\n",
    "import pandas as pd\n",
    "import matplotlib.pyplot as plt\n",
    "\n",
    "plt.rcParams['svg.fonttype'] = 'none'"
   ]
  },
  {
   "cell_type": "code",
   "execution_count": 51,
   "metadata": {
    "collapsed": false,
    "deletable": true,
    "editable": true
   },
   "outputs": [
    {
     "data": {
      "text/plain": [
       "7920"
      ]
     },
     "execution_count": 51,
     "metadata": {},
     "output_type": "execute_result"
    }
   ],
   "source": [
    "n22"
   ]
  },
  {
   "cell_type": "code",
   "execution_count": 52,
   "metadata": {
    "collapsed": false,
    "deletable": true,
    "editable": true
   },
   "outputs": [
    {
     "data": {
      "image/png": "[encoded data removed]",
      "text/plain": [
       "<matplotlib.figure.Figure at 0x7f0729f9ddd0>"
      ]
     },
     "metadata": {},
     "output_type": "display_data"
    }
   ],
   "source": [
    "import matplotlib_venn as venn\n",
    "\n",
    "subsets = [n12,n21,n11]\n",
    "set_labels = ['Inactive','Laboratory']\n",
    "set_colors = ['b','y']\n",
    "venn.venn2(subsets, set_labels, set_colors, alpha=0.4)\n",
    "\n",
    "fig = plt.gcf()\n",
    "fig.savefig('/home/laurence/ME/figures/efeU/enrich_lab_fragment_R02_062818.svg')\n",
    "fig.savefig('/home/laurence/ME/figures/efeU/enrich_lab_fragment_R02_062818.eps')\n",
    "fig.savefig('/home/laurence/ME/figures/efeU/enrich_lab_fragment_R02_062818.pdf')"
   ]
  },
  {
   "cell_type": "code",
   "execution_count": 53,
   "metadata": {
    "collapsed": false,
    "deletable": true,
    "editable": true
   },
   "outputs": [
    {
     "data": {
      "text/plain": [
       "831"
      ]
     },
     "execution_count": 53,
     "metadata": {},
     "output_type": "execute_result"
    }
   ],
   "source": [
    "df_kw[ df_kw.Count==1][['Genome','Genome ID','Count','TotLength']]['TotLength'].min()"
   ]
  }
 ],
 "metadata": {
  "kernelspec": {
   "display_name": "Python 2",
   "language": "python",
   "name": "python2"
  },
  "language_info": {
   "codemirror_mode": {
    "name": "ipython",
    "version": 2
   },
   "file_extension": ".py",
   "mimetype": "text/x-python",
   "name": "python",
   "nbconvert_exporter": "python",
   "pygments_lexer": "ipython2",
   "version": "2.7.14"
  }
 },
 "nbformat": 4,
 "nbformat_minor": 2
}
